{
  "nbformat": 4,
  "nbformat_minor": 0,
  "metadata": {
    "colab": {
      "name": "Taller2-Parte1.1.ipynb",
      "provenance": [],
      "collapsed_sections": []
    },
    "kernelspec": {
      "name": "python3",
      "display_name": "Python 3"
    },
    "accelerator": "GPU"
  },
  "cells": [
    {
      "cell_type": "markdown",
      "metadata": {
        "id": "_aflcaPrrIV7",
        "colab_type": "text"
      },
      "source": [
        "Dataset:\n",
        "https://www.kaggle.com/valentynsichkar/traffic-signs-preprocessed\n",
        "\n"
      ]
    },
    {
      "cell_type": "code",
      "metadata": {
        "id": "Sov4E6Sj90_k",
        "colab_type": "code",
        "colab": {}
      },
      "source": [
        "from PIL import Image\n",
        "import tensorflow as tf"
      ],
      "execution_count": null,
      "outputs": []
    },
    {
      "cell_type": "code",
      "metadata": {
        "id": "T4lQ9pE_5OZz",
        "colab_type": "code",
        "colab": {
          "base_uri": "https://localhost:8080/",
          "height": 34
        },
        "outputId": "d2e2b5e6-947b-467b-affc-f68f4677e6d3"
      },
      "source": [
        "from keras import backend as K\n",
        "\n",
        "def recall_m(y_true, y_pred):\n",
        "    true_positives = K.sum(K.round(K.clip(y_true * y_pred, 0, 1)))\n",
        "    possible_positives = K.sum(K.round(K.clip(y_true, 0, 1)))\n",
        "    recall = true_positives / (possible_positives + K.epsilon())\n",
        "    return recall\n",
        "\n",
        "def precision_m(y_true, y_pred):\n",
        "    true_positives = K.sum(K.round(K.clip(y_true * y_pred, 0, 1)))\n",
        "    predicted_positives = K.sum(K.round(K.clip(y_pred, 0, 1)))\n",
        "    precision = true_positives / (predicted_positives + K.epsilon())\n",
        "    return precision\n",
        "\n",
        "def f1_m(y_true, y_pred):\n",
        "    precision = precision_m(y_true, y_pred)\n",
        "    recall = recall_m(y_true, y_pred)\n",
        "    return 2*((precision*recall)/(precision+recall+K.epsilon()))"
      ],
      "execution_count": null,
      "outputs": [
        {
          "output_type": "stream",
          "text": [
            "Using TensorFlow backend.\n"
          ],
          "name": "stderr"
        }
      ]
    },
    {
      "cell_type": "code",
      "metadata": {
        "id": "9u1DrsSjobA1",
        "colab_type": "code",
        "colab": {}
      },
      "source": [
        "import numpy as np # linear algebra\n",
        "import pandas as pd # data processing, CSV file I/O (e.g. pd.read_csv)\n",
        "import pickle\n",
        "import matplotlib.pyplot as plt\n",
        "from math import sqrt, ceil\n",
        "from timeit import default_timer as timer\n",
        "\n",
        "from keras.utils.np_utils import to_categorical\n",
        "from keras.models import Sequential\n",
        "from keras.layers import Dense, Dropout, Flatten, Conv2D, MaxPool2D, AvgPool2D, BatchNormalization, Reshape\n",
        "from keras.preprocessing.image import ImageDataGenerator\n",
        "from keras.callbacks import LearningRateScheduler"
      ],
      "execution_count": null,
      "outputs": []
    },
    {
      "cell_type": "code",
      "metadata": {
        "id": "Ec0WDlgVr7Dp",
        "colab_type": "code",
        "colab": {}
      },
      "source": [
        "!pip install -U -q PyDrive\n",
        "from pydrive.auth import GoogleAuth\n",
        "from pydrive.drive import GoogleDrive\n",
        "from google.colab import auth\n",
        "from oauth2client.client import GoogleCredentials\n",
        "# Authenticate and create the PyDrive client.\n",
        "auth.authenticate_user()\n",
        "gauth = GoogleAuth()\n",
        "gauth.credentials = GoogleCredentials.get_application_default()\n",
        "drive = GoogleDrive(gauth)"
      ],
      "execution_count": null,
      "outputs": []
    },
    {
      "cell_type": "code",
      "metadata": {
        "id": "c1sNWfhzv7_i",
        "colab_type": "code",
        "colab": {}
      },
      "source": [
        "#link = 'https://drive.google.com/file/d/1GLzsLInYuWebxs2GwIaBVrXJS9VKEhYR/view?usp=sharing' # The shareable link"
      ],
      "execution_count": null,
      "outputs": []
    },
    {
      "cell_type": "code",
      "metadata": {
        "id": "HNhajVS_26oT",
        "colab_type": "code",
        "colab": {}
      },
      "source": [
        "id2 = \"13Wrx_D9MsD2beWX6VZ197JIeX8hU9Okn\""
      ],
      "execution_count": null,
      "outputs": []
    },
    {
      "cell_type": "code",
      "metadata": {
        "id": "IohECXelwMb3",
        "colab_type": "code",
        "colab": {}
      },
      "source": [
        "#id = \"1GLzsLInYuWebxs2GwIaBVrXJS9VKEhYR\""
      ],
      "execution_count": null,
      "outputs": []
    },
    {
      "cell_type": "code",
      "metadata": {
        "id": "0nw7l3dAw0hN",
        "colab_type": "code",
        "colab": {}
      },
      "source": [
        "#downloaded = drive.CreateFile({'id':id}) \n",
        "#downloaded.GetContentFile('data0.pickle') \n",
        "#data = pickle.load(open(\"data0.pickle\",\"rb\")) "
      ],
      "execution_count": null,
      "outputs": []
    },
    {
      "cell_type": "code",
      "metadata": {
        "id": "ckTWV1va3HK2",
        "colab_type": "code",
        "colab": {}
      },
      "source": [
        "downloaded = drive.CreateFile({'id':id2}) \n",
        "downloaded.GetContentFile('data1.pickle') \n",
        "data = pickle.load(open(\"data1.pickle\",\"rb\")) "
      ],
      "execution_count": null,
      "outputs": []
    },
    {
      "cell_type": "markdown",
      "metadata": {
        "id": "mpxDH8V5xdpl",
        "colab_type": "text"
      },
      "source": [
        "#### Pre procesamiento"
      ]
    },
    {
      "cell_type": "code",
      "metadata": {
        "id": "_n79x6tLxmKD",
        "colab_type": "code",
        "colab": {}
      },
      "source": [
        "# Preparing y_train and y_validation for using in Keras\n",
        "data['y_train'] = to_categorical(data['y_train'], num_classes=43)\n",
        "data['y_validation'] = to_categorical(data['y_validation'], num_classes=43)\n",
        "\n",
        "# Making channels come at the end\n",
        "data['x_train'] = data['x_train'].transpose(0, 2, 3, 1)\n",
        "data['x_validation'] = data['x_validation'].transpose(0, 2, 3, 1)\n",
        "data['x_test'] = data['x_test'].transpose(0, 2, 3, 1)"
      ],
      "execution_count": null,
      "outputs": []
    },
    {
      "cell_type": "code",
      "metadata": {
        "id": "QYBsrKLDDeYn",
        "colab_type": "code",
        "colab": {}
      },
      "source": [
        "def one_hottie(labels,C):\n",
        "    One_hot_matrix = tf.one_hot(labels,C)\n",
        "    return tf.keras.backend.eval(One_hot_matrix)"
      ],
      "execution_count": null,
      "outputs": []
    },
    {
      "cell_type": "code",
      "metadata": {
        "id": "pXbfpN5QDUQW",
        "colab_type": "code",
        "colab": {}
      },
      "source": [
        "Y_test = data['y_test']\n",
        "Y_test = one_hottie(Y_test, 43)"
      ],
      "execution_count": null,
      "outputs": []
    },
    {
      "cell_type": "markdown",
      "metadata": {
        "id": "vuCiIoIK2-7x",
        "colab_type": "text"
      },
      "source": [
        "#### Modelo de referencia"
      ]
    },
    {
      "cell_type": "code",
      "metadata": {
        "id": "y1hEni9GAIJp",
        "colab_type": "code",
        "colab": {}
      },
      "source": [
        "initial_learning_rate = 0.0001\n",
        "lr_schedule = tf.keras.optimizers.schedules.ExponentialDecay(\n",
        "    initial_learning_rate,\n",
        "    decay_steps=80000,\n",
        "    decay_rate=1,\n",
        "    staircase=True)"
      ],
      "execution_count": null,
      "outputs": []
    },
    {
      "cell_type": "code",
      "metadata": {
        "id": "XBacyoJOYzbz",
        "colab_type": "code",
        "colab": {}
      },
      "source": [
        "model = tf.keras.Sequential()\n",
        "model.add(tf.keras.layers.Conv2D(32, 3, input_shape=(32,32,3)))\n",
        "model.add(tf.keras.layers.Activation('relu'))\n",
        "model.add(tf.keras.layers.Conv2D(32, 3))\n",
        "model.add(tf.keras.layers.Activation('relu'))\n",
        "model.add(tf.keras.layers.MaxPool2D(padding = 'same',strides=2))\n",
        "model.add(tf.keras.layers.Conv2D(64, 3))\n",
        "model.add(tf.keras.layers.Activation('relu'))\n",
        "model.add(tf.keras.layers.Conv2D(64, 3))\n",
        "model.add(tf.keras.layers.Activation('relu'))\n",
        "model.add(tf.keras.layers.MaxPool2D(padding = 'same',strides=2))\n",
        "model.add(tf.keras.layers.Conv2D(64, 3))\n",
        "model.add(tf.keras.layers.Activation('relu'))\n",
        "model.add(tf.keras.layers.Conv2D(64, 3,strides=2))\n",
        "model.add(tf.keras.layers.Activation('relu'))\n",
        "model.add(tf.keras.layers.MaxPool2D(padding = 'same',strides=2))\n",
        "model.add(tf.keras.layers.Flatten())\n",
        "model.add(tf.keras.layers.Dense(300))\n",
        "model.add(tf.keras.layers.Activation('relu'))\n",
        "model.add(tf.keras.layers.Dense(43, activation='softmax'))"
      ],
      "execution_count": null,
      "outputs": []
    },
    {
      "cell_type": "code",
      "metadata": {
        "id": "d1yRHIv-4WGd",
        "colab_type": "code",
        "colab": {
          "base_uri": "https://localhost:8080/",
          "height": 816
        },
        "outputId": "3247234c-3acf-4c0c-dd14-ee0764efe440"
      },
      "source": [
        "print(model.summary())"
      ],
      "execution_count": null,
      "outputs": [
        {
          "output_type": "stream",
          "text": [
            "Model: \"sequential\"\n",
            "_________________________________________________________________\n",
            "Layer (type)                 Output Shape              Param #   \n",
            "=================================================================\n",
            "conv2d (Conv2D)              (None, 30, 30, 32)        896       \n",
            "_________________________________________________________________\n",
            "activation (Activation)      (None, 30, 30, 32)        0         \n",
            "_________________________________________________________________\n",
            "conv2d_1 (Conv2D)            (None, 28, 28, 32)        9248      \n",
            "_________________________________________________________________\n",
            "activation_1 (Activation)    (None, 28, 28, 32)        0         \n",
            "_________________________________________________________________\n",
            "max_pooling2d (MaxPooling2D) (None, 14, 14, 32)        0         \n",
            "_________________________________________________________________\n",
            "conv2d_2 (Conv2D)            (None, 12, 12, 64)        18496     \n",
            "_________________________________________________________________\n",
            "activation_2 (Activation)    (None, 12, 12, 64)        0         \n",
            "_________________________________________________________________\n",
            "conv2d_3 (Conv2D)            (None, 10, 10, 64)        36928     \n",
            "_________________________________________________________________\n",
            "activation_3 (Activation)    (None, 10, 10, 64)        0         \n",
            "_________________________________________________________________\n",
            "max_pooling2d_1 (MaxPooling2 (None, 5, 5, 64)          0         \n",
            "_________________________________________________________________\n",
            "conv2d_4 (Conv2D)            (None, 3, 3, 64)          36928     \n",
            "_________________________________________________________________\n",
            "activation_4 (Activation)    (None, 3, 3, 64)          0         \n",
            "_________________________________________________________________\n",
            "conv2d_5 (Conv2D)            (None, 1, 1, 64)          36928     \n",
            "_________________________________________________________________\n",
            "activation_5 (Activation)    (None, 1, 1, 64)          0         \n",
            "_________________________________________________________________\n",
            "max_pooling2d_2 (MaxPooling2 (None, 1, 1, 64)          0         \n",
            "_________________________________________________________________\n",
            "flatten (Flatten)            (None, 64)                0         \n",
            "_________________________________________________________________\n",
            "dense (Dense)                (None, 300)               19500     \n",
            "_________________________________________________________________\n",
            "activation_6 (Activation)    (None, 300)               0         \n",
            "_________________________________________________________________\n",
            "dense_1 (Dense)              (None, 43)                12943     \n",
            "=================================================================\n",
            "Total params: 171,867\n",
            "Trainable params: 171,867\n",
            "Non-trainable params: 0\n",
            "_________________________________________________________________\n",
            "None\n"
          ],
          "name": "stdout"
        }
      ]
    },
    {
      "cell_type": "code",
      "metadata": {
        "id": "B86XtqA0KadB",
        "colab_type": "code",
        "colab": {}
      },
      "source": [
        "model.compile(optimizer=tf.keras.optimizers.Adam(learning_rate=0.001),loss=tf.keras.losses.CategoricalCrossentropy(), metrics=['accuracy'])"
      ],
      "execution_count": null,
      "outputs": []
    },
    {
      "cell_type": "code",
      "metadata": {
        "id": "AaFtvlkt7dWy",
        "colab_type": "code",
        "colab": {
          "base_uri": "https://localhost:8080/",
          "height": 357
        },
        "outputId": "efe39b6c-dc36-45b6-a16a-0a89f83462cc"
      },
      "source": [
        "result = model.fit(x=data['x_train'],y=data['y_train'],batch_size=100,epochs=10,validation_data = (data['x_validation'], data['y_validation']),verbose=1,shuffle=False,initial_epoch=0)"
      ],
      "execution_count": null,
      "outputs": [
        {
          "output_type": "stream",
          "text": [
            "Epoch 1/10\n",
            "870/870 [==============================] - 14s 17ms/step - loss: 0.8502 - accuracy: 0.7620 - val_loss: 0.3241 - val_accuracy: 0.9088\n",
            "Epoch 2/10\n",
            "870/870 [==============================] - 14s 16ms/step - loss: 0.0957 - accuracy: 0.9727 - val_loss: 0.1923 - val_accuracy: 0.9587\n",
            "Epoch 3/10\n",
            "870/870 [==============================] - 14s 16ms/step - loss: 0.0496 - accuracy: 0.9858 - val_loss: 0.1697 - val_accuracy: 0.9630\n",
            "Epoch 4/10\n",
            "870/870 [==============================] - 14s 16ms/step - loss: 0.0375 - accuracy: 0.9886 - val_loss: 0.1829 - val_accuracy: 0.9594\n",
            "Epoch 5/10\n",
            "870/870 [==============================] - 14s 16ms/step - loss: 0.0301 - accuracy: 0.9910 - val_loss: 0.1914 - val_accuracy: 0.9621\n",
            "Epoch 6/10\n",
            "870/870 [==============================] - 14s 16ms/step - loss: 0.0228 - accuracy: 0.9926 - val_loss: 0.1493 - val_accuracy: 0.9683\n",
            "Epoch 7/10\n",
            "870/870 [==============================] - 14s 16ms/step - loss: 0.0214 - accuracy: 0.9936 - val_loss: 0.1231 - val_accuracy: 0.9753\n",
            "Epoch 8/10\n",
            "870/870 [==============================] - 14s 16ms/step - loss: 0.0186 - accuracy: 0.9945 - val_loss: 0.0940 - val_accuracy: 0.9787\n",
            "Epoch 9/10\n",
            "870/870 [==============================] - 14s 16ms/step - loss: 0.0189 - accuracy: 0.9942 - val_loss: 0.1242 - val_accuracy: 0.9751\n",
            "Epoch 10/10\n",
            "870/870 [==============================] - 14s 16ms/step - loss: 0.0126 - accuracy: 0.9961 - val_loss: 0.1094 - val_accuracy: 0.9821\n"
          ],
          "name": "stdout"
        }
      ]
    },
    {
      "cell_type": "code",
      "metadata": {
        "id": "sMXT0W_GBn2p",
        "colab_type": "code",
        "colab": {
          "base_uri": "https://localhost:8080/",
          "height": 34
        },
        "outputId": "d564fb66-546a-4200-bc69-58e9382f71af"
      },
      "source": [
        "valid = model.evaluate(data['x_test'],Y_test,verbose=2)"
      ],
      "execution_count": null,
      "outputs": [
        {
          "output_type": "stream",
          "text": [
            "395/395 - 2s - loss: 0.3491 - accuracy: 0.9511\n"
          ],
          "name": "stdout"
        }
      ]
    },
    {
      "cell_type": "code",
      "metadata": {
        "id": "hczW5hlq6_Yw",
        "colab_type": "code",
        "colab": {
          "base_uri": "https://localhost:8080/",
          "height": 34
        },
        "outputId": "2093eb88-1831-4a48-9a65-ac8477e37330"
      },
      "source": [
        "y_new = model.predict(data['x_test'])\n",
        "print(f1_m(Y_test, y_new))"
      ],
      "execution_count": null,
      "outputs": [
        {
          "output_type": "stream",
          "text": [
            "tf.Tensor(0.9513916, shape=(), dtype=float32)\n"
          ],
          "name": "stdout"
        }
      ]
    },
    {
      "cell_type": "markdown",
      "metadata": {
        "id": "4oHu-9g9Hgta",
        "colab_type": "text"
      },
      "source": [
        "### Modelo con Dropout"
      ]
    },
    {
      "cell_type": "markdown",
      "metadata": {
        "id": "PiSgxQJiVvVP",
        "colab_type": "text"
      },
      "source": [
        "##### Dropout antes de pooling"
      ]
    },
    {
      "cell_type": "code",
      "metadata": {
        "id": "RBLfHxL0ffua",
        "colab_type": "code",
        "colab": {}
      },
      "source": [
        "model = tf.keras.Sequential()\n",
        "model.add(tf.keras.layers.Conv2D(32, 3, input_shape=(32,32,3)))\n",
        "model.add(tf.keras.layers.Activation('relu'))\n",
        "model.add(tf.keras.layers.Conv2D(32, 3))\n",
        "model.add(tf.keras.layers.Activation('relu'))\n",
        "model.add(tf.keras.layers.Dropout(0.25))\n",
        "model.add(tf.keras.layers.MaxPool2D(padding = 'same',strides=2))\n",
        "model.add(tf.keras.layers.Conv2D(64, 3))\n",
        "model.add(tf.keras.layers.Activation('relu'))\n",
        "model.add(tf.keras.layers.Conv2D(64, 3))\n",
        "model.add(tf.keras.layers.Activation('relu'))\n",
        "model.add(tf.keras.layers.Dropout(0.25))\n",
        "model.add(tf.keras.layers.MaxPool2D(padding = 'same',strides=2))\n",
        "model.add(tf.keras.layers.Conv2D(64, 3))\n",
        "model.add(tf.keras.layers.Activation('relu'))\n",
        "model.add(tf.keras.layers.Conv2D(64, 3,strides=2))\n",
        "model.add(tf.keras.layers.Activation('relu'))\n",
        "model.add(tf.keras.layers.Dropout(0.25))\n",
        "model.add(tf.keras.layers.MaxPool2D(padding = 'same',strides=2))\n",
        "model.add(tf.keras.layers.Flatten())\n",
        "model.add(tf.keras.layers.Dense(300))\n",
        "model.add(tf.keras.layers.Activation('relu'))\n",
        "model.add(tf.keras.layers.Dense(43, activation='softmax'))"
      ],
      "execution_count": null,
      "outputs": []
    },
    {
      "cell_type": "code",
      "metadata": {
        "id": "pgaCsITTjgWo",
        "colab_type": "code",
        "colab": {}
      },
      "source": [
        "model.compile(optimizer=tf.keras.optimizers.Adam(learning_rate=0.001),loss=tf.keras.losses.CategoricalCrossentropy(), metrics=['accuracy'])"
      ],
      "execution_count": null,
      "outputs": []
    },
    {
      "cell_type": "code",
      "metadata": {
        "id": "8v9q7OtTjnO1",
        "colab_type": "code",
        "colab": {
          "base_uri": "https://localhost:8080/",
          "height": 357
        },
        "outputId": "61a81fd9-f745-4423-a94a-3ffdb1e93dec"
      },
      "source": [
        "result = model.fit(x=data['x_train'],y=data['y_train'],batch_size=100,epochs=10,validation_data = (data['x_validation'], data['y_validation']),verbose=1,shuffle=False,initial_epoch=0)"
      ],
      "execution_count": null,
      "outputs": [
        {
          "output_type": "stream",
          "text": [
            "Epoch 1/10\n",
            "870/870 [==============================] - 16s 18ms/step - loss: 0.9797 - accuracy: 0.7180 - val_loss: 0.2045 - val_accuracy: 0.9397\n",
            "Epoch 2/10\n",
            "870/870 [==============================] - 15s 18ms/step - loss: 0.1811 - accuracy: 0.9451 - val_loss: 0.1501 - val_accuracy: 0.9551\n",
            "Epoch 3/10\n",
            "870/870 [==============================] - 15s 18ms/step - loss: 0.1050 - accuracy: 0.9685 - val_loss: 0.0944 - val_accuracy: 0.9730\n",
            "Epoch 4/10\n",
            "870/870 [==============================] - 16s 18ms/step - loss: 0.0786 - accuracy: 0.9763 - val_loss: 0.1246 - val_accuracy: 0.9658\n",
            "Epoch 5/10\n",
            "870/870 [==============================] - 15s 18ms/step - loss: 0.0636 - accuracy: 0.9809 - val_loss: 0.0850 - val_accuracy: 0.9739\n",
            "Epoch 6/10\n",
            "870/870 [==============================] - 15s 18ms/step - loss: 0.0525 - accuracy: 0.9844 - val_loss: 0.0696 - val_accuracy: 0.9810\n",
            "Epoch 7/10\n",
            "870/870 [==============================] - 15s 18ms/step - loss: 0.0491 - accuracy: 0.9853 - val_loss: 0.0593 - val_accuracy: 0.9844\n",
            "Epoch 8/10\n",
            "870/870 [==============================] - 15s 18ms/step - loss: 0.0373 - accuracy: 0.9887 - val_loss: 0.0695 - val_accuracy: 0.9798\n",
            "Epoch 9/10\n",
            "870/870 [==============================] - 15s 18ms/step - loss: 0.0398 - accuracy: 0.9883 - val_loss: 0.0634 - val_accuracy: 0.9830\n",
            "Epoch 10/10\n",
            "870/870 [==============================] - 15s 18ms/step - loss: 0.0344 - accuracy: 0.9900 - val_loss: 0.0858 - val_accuracy: 0.9800\n"
          ],
          "name": "stdout"
        }
      ]
    },
    {
      "cell_type": "code",
      "metadata": {
        "id": "EXfXkfdgjmxu",
        "colab_type": "code",
        "colab": {
          "base_uri": "https://localhost:8080/",
          "height": 34
        },
        "outputId": "8fa9f839-fe19-448b-9c49-e8fe84ba1f7d"
      },
      "source": [
        "valid = model.evaluate(data['x_test'],Y_test,verbose=2)"
      ],
      "execution_count": null,
      "outputs": [
        {
          "output_type": "stream",
          "text": [
            "395/395 - 2s - loss: 0.1670 - accuracy: 0.9682\n"
          ],
          "name": "stdout"
        }
      ]
    },
    {
      "cell_type": "code",
      "metadata": {
        "id": "Od-cCeAf8Al2",
        "colab_type": "code",
        "colab": {
          "base_uri": "https://localhost:8080/",
          "height": 34
        },
        "outputId": "ff1edd48-39e8-451e-f9a4-5f5127b367db"
      },
      "source": [
        "y_new = model.predict(data['x_test'])\n",
        "print(f1_m(Y_test, y_new))"
      ],
      "execution_count": null,
      "outputs": [
        {
          "output_type": "stream",
          "text": [
            "tf.Tensor(0.96938115, shape=(), dtype=float32)\n"
          ],
          "name": "stdout"
        }
      ]
    },
    {
      "cell_type": "markdown",
      "metadata": {
        "id": "kdv8wOV3Vv1i",
        "colab_type": "text"
      },
      "source": [
        "##### Dropout entre no linealidad y convolucion"
      ]
    },
    {
      "cell_type": "code",
      "metadata": {
        "id": "Ocdw93H8fgvR",
        "colab_type": "code",
        "colab": {}
      },
      "source": [
        "model = tf.keras.Sequential()\n",
        "model.add(tf.keras.layers.Conv2D(32, 3, input_shape=(32,32,3)))\n",
        "model.add(tf.keras.layers.Dropout(0.25))\n",
        "model.add(tf.keras.layers.Activation('relu'))\n",
        "model.add(tf.keras.layers.Conv2D(32, 3))\n",
        "model.add(tf.keras.layers.Dropout(0.25))\n",
        "model.add(tf.keras.layers.Activation('relu'))\n",
        "model.add(tf.keras.layers.MaxPool2D(padding = 'same',strides=2))\n",
        "model.add(tf.keras.layers.Conv2D(64, 3))\n",
        "model.add(tf.keras.layers.Dropout(0.25))\n",
        "model.add(tf.keras.layers.Activation('relu'))\n",
        "model.add(tf.keras.layers.Conv2D(64, 3))\n",
        "model.add(tf.keras.layers.Dropout(0.25))\n",
        "model.add(tf.keras.layers.Activation('relu'))\n",
        "model.add(tf.keras.layers.MaxPool2D(padding = 'same',strides=2))\n",
        "model.add(tf.keras.layers.Conv2D(64, 3))\n",
        "model.add(tf.keras.layers.Dropout(0.25))\n",
        "model.add(tf.keras.layers.Activation('relu'))\n",
        "model.add(tf.keras.layers.Conv2D(64, 3,strides=2))\n",
        "model.add(tf.keras.layers.Dropout(0.25))\n",
        "model.add(tf.keras.layers.Activation('relu'))\n",
        "model.add(tf.keras.layers.MaxPool2D(padding = 'same',strides=2))\n",
        "model.add(tf.keras.layers.Flatten())\n",
        "model.add(tf.keras.layers.Dense(300))\n",
        "model.add(tf.keras.layers.Activation('relu'))\n",
        "model.add(tf.keras.layers.Dense(43, activation='softmax'))"
      ],
      "execution_count": null,
      "outputs": []
    },
    {
      "cell_type": "code",
      "metadata": {
        "id": "Dbm806GklShQ",
        "colab_type": "code",
        "colab": {}
      },
      "source": [
        "model.compile(optimizer=tf.keras.optimizers.Adam(learning_rate=0.001),loss=tf.keras.losses.CategoricalCrossentropy(), metrics=['accuracy'])"
      ],
      "execution_count": null,
      "outputs": []
    },
    {
      "cell_type": "code",
      "metadata": {
        "id": "4abJdTcYlSbb",
        "colab_type": "code",
        "colab": {
          "base_uri": "https://localhost:8080/",
          "height": 357
        },
        "outputId": "8e9dbe2a-4098-40a4-8c0e-cea311250891"
      },
      "source": [
        "result = model.fit(x=data['x_train'],y=data['y_train'],batch_size=100,epochs=10,validation_data = (data['x_validation'], data['y_validation']),verbose=1,shuffle=False,initial_epoch=0)"
      ],
      "execution_count": null,
      "outputs": [
        {
          "output_type": "stream",
          "text": [
            "Epoch 1/10\n",
            "870/870 [==============================] - 17s 20ms/step - loss: 1.2129 - accuracy: 0.6371 - val_loss: 0.2846 - val_accuracy: 0.9279\n",
            "Epoch 2/10\n",
            "870/870 [==============================] - 17s 20ms/step - loss: 0.2508 - accuracy: 0.9204 - val_loss: 0.1212 - val_accuracy: 0.9624\n",
            "Epoch 3/10\n",
            "870/870 [==============================] - 17s 20ms/step - loss: 0.1530 - accuracy: 0.9529 - val_loss: 0.0962 - val_accuracy: 0.9705\n",
            "Epoch 4/10\n",
            "870/870 [==============================] - 17s 20ms/step - loss: 0.1125 - accuracy: 0.9649 - val_loss: 0.0676 - val_accuracy: 0.9787\n",
            "Epoch 5/10\n",
            "870/870 [==============================] - 17s 20ms/step - loss: 0.0908 - accuracy: 0.9727 - val_loss: 0.0578 - val_accuracy: 0.9830\n",
            "Epoch 6/10\n",
            "870/870 [==============================] - 17s 20ms/step - loss: 0.0811 - accuracy: 0.9750 - val_loss: 0.0611 - val_accuracy: 0.9803\n",
            "Epoch 7/10\n",
            "870/870 [==============================] - 17s 20ms/step - loss: 0.0664 - accuracy: 0.9793 - val_loss: 0.0576 - val_accuracy: 0.9828\n",
            "Epoch 8/10\n",
            "870/870 [==============================] - 17s 20ms/step - loss: 0.0635 - accuracy: 0.9808 - val_loss: 0.0480 - val_accuracy: 0.9857\n",
            "Epoch 9/10\n",
            "870/870 [==============================] - 17s 20ms/step - loss: 0.0592 - accuracy: 0.9822 - val_loss: 0.0415 - val_accuracy: 0.9862\n",
            "Epoch 10/10\n",
            "870/870 [==============================] - 17s 20ms/step - loss: 0.0580 - accuracy: 0.9824 - val_loss: 0.0465 - val_accuracy: 0.9868\n"
          ],
          "name": "stdout"
        }
      ]
    },
    {
      "cell_type": "code",
      "metadata": {
        "id": "jSeJxzaVlSS9",
        "colab_type": "code",
        "colab": {
          "base_uri": "https://localhost:8080/",
          "height": 34
        },
        "outputId": "786c8b4c-9936-4a70-e196-d8670d5b36c8"
      },
      "source": [
        "valid = model.evaluate(data['x_test'],Y_test,verbose=2)"
      ],
      "execution_count": null,
      "outputs": [
        {
          "output_type": "stream",
          "text": [
            "395/395 - 2s - loss: 0.1354 - accuracy: 0.9695\n"
          ],
          "name": "stdout"
        }
      ]
    },
    {
      "cell_type": "code",
      "metadata": {
        "id": "v_YvbKJg88Y-",
        "colab_type": "code",
        "colab": {
          "base_uri": "https://localhost:8080/",
          "height": 34
        },
        "outputId": "fcc72c14-2b58-4920-9469-51ee7c89f53f"
      },
      "source": [
        "y_new = model.predict(data['x_test'])\n",
        "print(f1_m(Y_test, y_new))"
      ],
      "execution_count": null,
      "outputs": [
        {
          "output_type": "stream",
          "text": [
            "tf.Tensor(0.97193426, shape=(), dtype=float32)\n"
          ],
          "name": "stdout"
        }
      ]
    },
    {
      "cell_type": "markdown",
      "metadata": {
        "id": "bDEa847MWKC0",
        "colab_type": "text"
      },
      "source": [
        "##### Dropout antes de la convolucion"
      ]
    },
    {
      "cell_type": "code",
      "metadata": {
        "id": "-GyDN9cafhme",
        "colab_type": "code",
        "colab": {}
      },
      "source": [
        "model = tf.keras.Sequential()\n",
        "\n",
        "model.add(tf.keras.layers.Conv2D(32, 3, input_shape=(32,32,3)))\n",
        "model.add(tf.keras.layers.Activation('relu'))\n",
        "model.add(tf.keras.layers.Dropout(0.25))\n",
        "model.add(tf.keras.layers.Conv2D(32, 3))\n",
        "model.add(tf.keras.layers.Activation('relu'))\n",
        "model.add(tf.keras.layers.MaxPool2D(padding = 'same',strides=2))\n",
        "model.add(tf.keras.layers.Dropout(0.25))\n",
        "model.add(tf.keras.layers.Conv2D(64, 3))\n",
        "model.add(tf.keras.layers.Activation('relu'))\n",
        "model.add(tf.keras.layers.Dropout(0.25))\n",
        "model.add(tf.keras.layers.Conv2D(64, 3))\n",
        "model.add(tf.keras.layers.Activation('relu'))\n",
        "model.add(tf.keras.layers.MaxPool2D(padding = 'same',strides=2))\n",
        "model.add(tf.keras.layers.Dropout(0.25))\n",
        "model.add(tf.keras.layers.Conv2D(64, 3))\n",
        "model.add(tf.keras.layers.Activation('relu'))\n",
        "model.add(tf.keras.layers.Dropout(0.25))\n",
        "model.add(tf.keras.layers.Conv2D(64, 3,strides=2))\n",
        "model.add(tf.keras.layers.Activation('relu'))\n",
        "model.add(tf.keras.layers.MaxPool2D(padding = 'same',strides=2))\n",
        "model.add(tf.keras.layers.Flatten())\n",
        "model.add(tf.keras.layers.Dense(300))\n",
        "model.add(tf.keras.layers.Activation('relu'))\n",
        "model.add(tf.keras.layers.Dense(43, activation='softmax'))"
      ],
      "execution_count": null,
      "outputs": []
    },
    {
      "cell_type": "code",
      "metadata": {
        "id": "cFVywbHkka7e",
        "colab_type": "code",
        "colab": {}
      },
      "source": [
        "model.compile(optimizer=tf.keras.optimizers.Adam(learning_rate=0.001),loss=tf.keras.losses.CategoricalCrossentropy(), metrics=['accuracy'])"
      ],
      "execution_count": null,
      "outputs": []
    },
    {
      "cell_type": "code",
      "metadata": {
        "id": "gGGyBgddka17",
        "colab_type": "code",
        "colab": {
          "base_uri": "https://localhost:8080/",
          "height": 357
        },
        "outputId": "bc3e60d9-ba20-4be2-dca4-1d8b3dfbc10b"
      },
      "source": [
        "result = model.fit(x=data['x_train'],y=data['y_train'],batch_size=100,epochs=10,validation_data = (data['x_validation'], data['y_validation']),verbose=1,shuffle=False,initial_epoch=0)"
      ],
      "execution_count": null,
      "outputs": [
        {
          "output_type": "stream",
          "text": [
            "Epoch 1/10\n",
            "870/870 [==============================] - 16s 19ms/step - loss: 1.4363 - accuracy: 0.5581 - val_loss: 0.4526 - val_accuracy: 0.8594\n",
            "Epoch 2/10\n",
            "870/870 [==============================] - 16s 19ms/step - loss: 0.2837 - accuracy: 0.9059 - val_loss: 0.2170 - val_accuracy: 0.9497\n",
            "Epoch 3/10\n",
            "870/870 [==============================] - 16s 19ms/step - loss: 0.1529 - accuracy: 0.9505 - val_loss: 0.1293 - val_accuracy: 0.9612\n",
            "Epoch 4/10\n",
            "870/870 [==============================] - 16s 19ms/step - loss: 0.1091 - accuracy: 0.9648 - val_loss: 0.1437 - val_accuracy: 0.9649\n",
            "Epoch 5/10\n",
            "870/870 [==============================] - 16s 19ms/step - loss: 0.0878 - accuracy: 0.9714 - val_loss: 0.0861 - val_accuracy: 0.9739\n",
            "Epoch 6/10\n",
            "870/870 [==============================] - 17s 19ms/step - loss: 0.0760 - accuracy: 0.9754 - val_loss: 0.1153 - val_accuracy: 0.9723\n",
            "Epoch 7/10\n",
            "870/870 [==============================] - 16s 19ms/step - loss: 0.0630 - accuracy: 0.9799 - val_loss: 0.0610 - val_accuracy: 0.9832\n",
            "Epoch 8/10\n",
            "870/870 [==============================] - 16s 19ms/step - loss: 0.0598 - accuracy: 0.9813 - val_loss: 0.1121 - val_accuracy: 0.9730\n",
            "Epoch 9/10\n",
            "870/870 [==============================] - 16s 19ms/step - loss: 0.0538 - accuracy: 0.9829 - val_loss: 0.1542 - val_accuracy: 0.9746\n",
            "Epoch 10/10\n",
            "870/870 [==============================] - 16s 19ms/step - loss: 0.0525 - accuracy: 0.9833 - val_loss: 0.1195 - val_accuracy: 0.9780\n"
          ],
          "name": "stdout"
        }
      ]
    },
    {
      "cell_type": "code",
      "metadata": {
        "id": "T3I6qQP9kauw",
        "colab_type": "code",
        "colab": {
          "base_uri": "https://localhost:8080/",
          "height": 34
        },
        "outputId": "4dd237ab-20ce-4a07-8259-fd68bfdf0ff1"
      },
      "source": [
        "valid = model.evaluate(data['x_test'],Y_test,verbose=2)"
      ],
      "execution_count": null,
      "outputs": [
        {
          "output_type": "stream",
          "text": [
            "395/395 - 2s - loss: 0.1874 - accuracy: 0.9673\n"
          ],
          "name": "stdout"
        }
      ]
    },
    {
      "cell_type": "code",
      "metadata": {
        "id": "VDVUPYLKBKpG",
        "colab_type": "code",
        "colab": {
          "base_uri": "https://localhost:8080/",
          "height": 34
        },
        "outputId": "50f93e97-a5b1-4003-e4c2-e53e0264e359"
      },
      "source": [
        "y_new = model.predict(data['x_test'])\n",
        "print(f1_m(Y_test, y_new))"
      ],
      "execution_count": null,
      "outputs": [
        {
          "output_type": "stream",
          "text": [
            "tf.Tensor(0.9682754, shape=(), dtype=float32)\n"
          ],
          "name": "stdout"
        }
      ]
    },
    {
      "cell_type": "markdown",
      "metadata": {
        "id": "aoDDK3fnp5zs",
        "colab_type": "text"
      },
      "source": [
        "### Modelo con Batchnormalization"
      ]
    },
    {
      "cell_type": "markdown",
      "metadata": {
        "id": "3tpmAU22qYLk",
        "colab_type": "text"
      },
      "source": [
        "##### Batchnormalization antes de la convolucion"
      ]
    },
    {
      "cell_type": "code",
      "metadata": {
        "colab_type": "code",
        "id": "JMvd6fxrrQ6v",
        "colab": {}
      },
      "source": [
        "model = tf.keras.Sequential()\n",
        "model.add(tf.keras.layers.BatchNormalization())\n",
        "model.add(tf.keras.layers.Conv2D(32, 3, input_shape=(32,32,3)))\n",
        "model.add(tf.keras.layers.Activation('relu'))\n",
        "model.add(tf.keras.layers.BatchNormalization())\n",
        "model.add(tf.keras.layers.Conv2D(32, 3))\n",
        "model.add(tf.keras.layers.Activation('relu'))\n",
        "model.add(tf.keras.layers.MaxPool2D(padding = 'same',strides=2))\n",
        "model.add(tf.keras.layers.BatchNormalization())\n",
        "model.add(tf.keras.layers.Conv2D(64, 3))\n",
        "model.add(tf.keras.layers.Activation('relu'))\n",
        "model.add(tf.keras.layers.BatchNormalization())\n",
        "model.add(tf.keras.layers.Conv2D(64, 3))\n",
        "model.add(tf.keras.layers.Activation('relu'))\n",
        "model.add(tf.keras.layers.MaxPool2D(padding = 'same',strides=2))\n",
        "model.add(tf.keras.layers.BatchNormalization())\n",
        "model.add(tf.keras.layers.Conv2D(64, 3))\n",
        "model.add(tf.keras.layers.Activation('relu'))\n",
        "model.add(tf.keras.layers.BatchNormalization())\n",
        "model.add(tf.keras.layers.Conv2D(64, 3,strides=2))\n",
        "model.add(tf.keras.layers.Activation('relu'))\n",
        "model.add(tf.keras.layers.MaxPool2D(padding = 'same',strides=2))\n",
        "model.add(tf.keras.layers.Flatten())\n",
        "model.add(tf.keras.layers.Dense(300))\n",
        "model.add(tf.keras.layers.Activation('relu'))\n",
        "model.add(tf.keras.layers.Dense(43, activation='softmax'))"
      ],
      "execution_count": null,
      "outputs": []
    },
    {
      "cell_type": "code",
      "metadata": {
        "id": "zXtK99wdq26i",
        "colab_type": "code",
        "colab": {}
      },
      "source": [
        "model.compile(optimizer=tf.keras.optimizers.Adam(learning_rate=0.001),loss=tf.keras.losses.CategoricalCrossentropy(), metrics=['accuracy'])"
      ],
      "execution_count": null,
      "outputs": []
    },
    {
      "cell_type": "code",
      "metadata": {
        "id": "-gmCrp0fq23s",
        "colab_type": "code",
        "colab": {
          "base_uri": "https://localhost:8080/",
          "height": 357
        },
        "outputId": "d10dc75e-e133-41eb-839b-a6f9176ab8d9"
      },
      "source": [
        "result = model.fit(x=data['x_train'],y=data['y_train'],batch_size=100,epochs=10,validation_data = (data['x_validation'], data['y_validation']),verbose=1,shuffle=False,initial_epoch=0)"
      ],
      "execution_count": null,
      "outputs": [
        {
          "output_type": "stream",
          "text": [
            "Epoch 1/10\n",
            "870/870 [==============================] - 17s 20ms/step - loss: 0.2445 - accuracy: 0.9353 - val_loss: 0.1268 - val_accuracy: 0.9651\n",
            "Epoch 2/10\n",
            "870/870 [==============================] - 17s 19ms/step - loss: 0.0258 - accuracy: 0.9921 - val_loss: 0.0946 - val_accuracy: 0.9771\n",
            "Epoch 3/10\n",
            "870/870 [==============================] - 17s 20ms/step - loss: 0.0190 - accuracy: 0.9942 - val_loss: 0.0900 - val_accuracy: 0.9735\n",
            "Epoch 4/10\n",
            "870/870 [==============================] - 17s 20ms/step - loss: 0.0164 - accuracy: 0.9947 - val_loss: 0.1234 - val_accuracy: 0.9753\n",
            "Epoch 5/10\n",
            "870/870 [==============================] - 17s 20ms/step - loss: 0.0131 - accuracy: 0.9960 - val_loss: 0.0644 - val_accuracy: 0.9853\n",
            "Epoch 6/10\n",
            "870/870 [==============================] - 17s 20ms/step - loss: 0.0126 - accuracy: 0.9963 - val_loss: 0.0941 - val_accuracy: 0.9773\n",
            "Epoch 7/10\n",
            "870/870 [==============================] - 17s 20ms/step - loss: 0.0110 - accuracy: 0.9966 - val_loss: 0.0937 - val_accuracy: 0.9850\n",
            "Epoch 8/10\n",
            "870/870 [==============================] - 17s 20ms/step - loss: 0.0097 - accuracy: 0.9972 - val_loss: 0.1203 - val_accuracy: 0.9744\n",
            "Epoch 9/10\n",
            "870/870 [==============================] - 17s 19ms/step - loss: 0.0098 - accuracy: 0.9970 - val_loss: 0.1017 - val_accuracy: 0.9805\n",
            "Epoch 10/10\n",
            "870/870 [==============================] - 17s 19ms/step - loss: 0.0082 - accuracy: 0.9977 - val_loss: 0.0943 - val_accuracy: 0.9830\n"
          ],
          "name": "stdout"
        }
      ]
    },
    {
      "cell_type": "code",
      "metadata": {
        "id": "gCAK1-ulq2zn",
        "colab_type": "code",
        "colab": {
          "base_uri": "https://localhost:8080/",
          "height": 34
        },
        "outputId": "d4b0bcce-1d09-4d91-beac-9fb464610b8b"
      },
      "source": [
        "valid = model.evaluate(data['x_test'],Y_test,verbose=2)"
      ],
      "execution_count": null,
      "outputs": [
        {
          "output_type": "stream",
          "text": [
            "395/395 - 2s - loss: 0.2012 - accuracy: 0.9702\n"
          ],
          "name": "stdout"
        }
      ]
    },
    {
      "cell_type": "code",
      "metadata": {
        "id": "A9gsFDlNEntc",
        "colab_type": "code",
        "colab": {
          "base_uri": "https://localhost:8080/",
          "height": 34
        },
        "outputId": "db4c1a76-91bb-4dc8-820b-e5f01f42c0d2"
      },
      "source": [
        "y_new = model.predict(data['x_test'])\n",
        "print(f1_m(Y_test, y_new))"
      ],
      "execution_count": null,
      "outputs": [
        {
          "output_type": "stream",
          "text": [
            "tf.Tensor(0.97178674, shape=(), dtype=float32)\n"
          ],
          "name": "stdout"
        }
      ]
    },
    {
      "cell_type": "markdown",
      "metadata": {
        "id": "pFB0aDWfqeHq",
        "colab_type": "text"
      },
      "source": [
        "##### Batchnormalization entre no linealidad y convolucion"
      ]
    },
    {
      "cell_type": "code",
      "metadata": {
        "colab_type": "code",
        "id": "ay7wOrFAsnVR",
        "colab": {}
      },
      "source": [
        "model = tf.keras.Sequential()\n",
        "model.add(tf.keras.layers.Conv2D(32, 3, input_shape=(32,32,3)))\n",
        "model.add(tf.keras.layers.BatchNormalization())\n",
        "model.add(tf.keras.layers.Activation('relu'))\n",
        "model.add(tf.keras.layers.Conv2D(32, 3))\n",
        "model.add(tf.keras.layers.BatchNormalization())\n",
        "model.add(tf.keras.layers.Activation('relu'))\n",
        "model.add(tf.keras.layers.MaxPool2D(padding = 'same',strides=2))\n",
        "model.add(tf.keras.layers.Conv2D(64, 3))\n",
        "model.add(tf.keras.layers.BatchNormalization())\n",
        "model.add(tf.keras.layers.Activation('relu'))\n",
        "model.add(tf.keras.layers.Conv2D(64, 3))\n",
        "model.add(tf.keras.layers.BatchNormalization())\n",
        "model.add(tf.keras.layers.Activation('relu'))\n",
        "model.add(tf.keras.layers.MaxPool2D(padding = 'same',strides=2))\n",
        "model.add(tf.keras.layers.Conv2D(64, 3))\n",
        "model.add(tf.keras.layers.BatchNormalization())\n",
        "model.add(tf.keras.layers.Activation('relu'))\n",
        "model.add(tf.keras.layers.Conv2D(64, 3,strides=2))\n",
        "model.add(tf.keras.layers.BatchNormalization())\n",
        "model.add(tf.keras.layers.Activation('relu'))\n",
        "model.add(tf.keras.layers.MaxPool2D(padding = 'same',strides=2))\n",
        "model.add(tf.keras.layers.Flatten())\n",
        "model.add(tf.keras.layers.Dense(300))\n",
        "model.add(tf.keras.layers.Activation('relu'))\n",
        "model.add(tf.keras.layers.Dense(43, activation='softmax'))"
      ],
      "execution_count": null,
      "outputs": []
    },
    {
      "cell_type": "code",
      "metadata": {
        "id": "IDLdFoilq7mr",
        "colab_type": "code",
        "colab": {}
      },
      "source": [
        "model.compile(optimizer=tf.keras.optimizers.Adam(learning_rate=0.001),loss=tf.keras.losses.CategoricalCrossentropy(), metrics=['accuracy'])"
      ],
      "execution_count": null,
      "outputs": []
    },
    {
      "cell_type": "code",
      "metadata": {
        "id": "QeSp8yx1q7dm",
        "colab_type": "code",
        "colab": {
          "base_uri": "https://localhost:8080/",
          "height": 357
        },
        "outputId": "982f66a2-2f51-4692-ae30-c5eba08363e2"
      },
      "source": [
        "result = model.fit(x=data['x_train'],y=data['y_train'],batch_size=100,epochs=10,validation_data = (data['x_validation'], data['y_validation']),verbose=1,shuffle=False,initial_epoch=0)"
      ],
      "execution_count": null,
      "outputs": [
        {
          "output_type": "stream",
          "text": [
            "Epoch 1/10\n",
            "870/870 [==============================] - 17s 19ms/step - loss: 0.3056 - accuracy: 0.9262 - val_loss: 0.1250 - val_accuracy: 0.9658\n",
            "Epoch 2/10\n",
            "870/870 [==============================] - 17s 19ms/step - loss: 0.0228 - accuracy: 0.9935 - val_loss: 0.1551 - val_accuracy: 0.9533\n",
            "Epoch 3/10\n",
            "870/870 [==============================] - 17s 19ms/step - loss: 0.0153 - accuracy: 0.9954 - val_loss: 0.0870 - val_accuracy: 0.9805\n",
            "Epoch 4/10\n",
            "870/870 [==============================] - 17s 19ms/step - loss: 0.0118 - accuracy: 0.9962 - val_loss: 0.1374 - val_accuracy: 0.9701\n",
            "Epoch 5/10\n",
            "870/870 [==============================] - 17s 19ms/step - loss: 0.0123 - accuracy: 0.9962 - val_loss: 0.0828 - val_accuracy: 0.9825\n",
            "Epoch 6/10\n",
            "870/870 [==============================] - 17s 19ms/step - loss: 0.0077 - accuracy: 0.9974 - val_loss: 0.0882 - val_accuracy: 0.9771\n",
            "Epoch 7/10\n",
            "870/870 [==============================] - 17s 19ms/step - loss: 0.0087 - accuracy: 0.9974 - val_loss: 0.0580 - val_accuracy: 0.9853\n",
            "Epoch 8/10\n",
            "870/870 [==============================] - 17s 19ms/step - loss: 0.0086 - accuracy: 0.9973 - val_loss: 0.0765 - val_accuracy: 0.9846\n",
            "Epoch 9/10\n",
            "870/870 [==============================] - 17s 19ms/step - loss: 0.0059 - accuracy: 0.9982 - val_loss: 0.0628 - val_accuracy: 0.9859\n",
            "Epoch 10/10\n",
            "870/870 [==============================] - 17s 19ms/step - loss: 0.0049 - accuracy: 0.9986 - val_loss: 0.0900 - val_accuracy: 0.9791\n"
          ],
          "name": "stdout"
        }
      ]
    },
    {
      "cell_type": "code",
      "metadata": {
        "id": "m1UcOX6Mq7Y8",
        "colab_type": "code",
        "colab": {
          "base_uri": "https://localhost:8080/",
          "height": 34
        },
        "outputId": "fd837fe4-d757-4bde-933d-4b8e0faa1bc5"
      },
      "source": [
        "valid = model.evaluate(data['x_test'],Y_test,verbose=2)"
      ],
      "execution_count": null,
      "outputs": [
        {
          "output_type": "stream",
          "text": [
            "395/395 - 2s - loss: 0.2063 - accuracy: 0.9614\n"
          ],
          "name": "stdout"
        }
      ]
    },
    {
      "cell_type": "code",
      "metadata": {
        "id": "o5ZFwqZLHwrF",
        "colab_type": "code",
        "colab": {
          "base_uri": "https://localhost:8080/",
          "height": 34
        },
        "outputId": "e84d4f96-96df-48d6-c630-bcfa51b8fe68"
      },
      "source": [
        "y_new = model.predict(data['x_test'])\n",
        "print(f1_m(Y_test, y_new))"
      ],
      "execution_count": null,
      "outputs": [
        {
          "output_type": "stream",
          "text": [
            "tf.Tensor(0.96255404, shape=(), dtype=float32)\n"
          ],
          "name": "stdout"
        }
      ]
    },
    {
      "cell_type": "markdown",
      "metadata": {
        "id": "4BgXVwamp-5y",
        "colab_type": "text"
      },
      "source": [
        "### Modelo con ambos"
      ]
    },
    {
      "cell_type": "markdown",
      "metadata": {
        "id": "AtQjzXgAtjPv",
        "colab_type": "text"
      },
      "source": [
        "##### D/BNx6"
      ]
    },
    {
      "cell_type": "code",
      "metadata": {
        "id": "4bMXg6yyuKC5",
        "colab_type": "code",
        "colab": {}
      },
      "source": [
        "model = tf.keras.Sequential()\n",
        "model.add(tf.keras.layers.BatchNormalization())\n",
        "model.add(tf.keras.layers.Conv2D(32, 3, input_shape=(32,32,3)))\n",
        "model.add(tf.keras.layers.Dropout(0.25))\n",
        "model.add(tf.keras.layers.Activation('relu'))\n",
        "model.add(tf.keras.layers.BatchNormalization())\n",
        "model.add(tf.keras.layers.Conv2D(32, 3))\n",
        "model.add(tf.keras.layers.Dropout(0.25))\n",
        "model.add(tf.keras.layers.Activation('relu'))\n",
        "model.add(tf.keras.layers.MaxPool2D(padding = 'same',strides=2))\n",
        "model.add(tf.keras.layers.BatchNormalization())\n",
        "model.add(tf.keras.layers.Conv2D(64, 3))\n",
        "model.add(tf.keras.layers.Dropout(0.25))\n",
        "model.add(tf.keras.layers.Activation('relu'))\n",
        "model.add(tf.keras.layers.BatchNormalization())\n",
        "model.add(tf.keras.layers.Conv2D(64, 3))\n",
        "model.add(tf.keras.layers.Dropout(0.25))\n",
        "model.add(tf.keras.layers.Activation('relu'))\n",
        "model.add(tf.keras.layers.MaxPool2D(padding = 'same',strides=2))\n",
        "model.add(tf.keras.layers.BatchNormalization())\n",
        "model.add(tf.keras.layers.Conv2D(64, 3))\n",
        "model.add(tf.keras.layers.Dropout(0.25))\n",
        "model.add(tf.keras.layers.Activation('relu'))\n",
        "model.add(tf.keras.layers.BatchNormalization())\n",
        "model.add(tf.keras.layers.Conv2D(64, 3,strides=2))\n",
        "model.add(tf.keras.layers.Dropout(0.25))\n",
        "model.add(tf.keras.layers.Activation('relu'))\n",
        "model.add(tf.keras.layers.MaxPool2D(padding = 'same',strides=2))\n",
        "model.add(tf.keras.layers.Flatten())\n",
        "model.add(tf.keras.layers.Dense(300))\n",
        "model.add(tf.keras.layers.Activation('relu'))\n",
        "model.add(tf.keras.layers.Dense(43, activation='softmax'))"
      ],
      "execution_count": null,
      "outputs": []
    },
    {
      "cell_type": "code",
      "metadata": {
        "colab_type": "code",
        "id": "LKZ2RKy4te0B",
        "colab": {}
      },
      "source": [
        "model.compile(optimizer=tf.keras.optimizers.Adam(learning_rate=0.001),loss=tf.keras.losses.CategoricalCrossentropy(), metrics=['accuracy'])"
      ],
      "execution_count": null,
      "outputs": []
    },
    {
      "cell_type": "code",
      "metadata": {
        "colab_type": "code",
        "id": "6Bz1OxGXte0L",
        "colab": {
          "base_uri": "https://localhost:8080/",
          "height": 357
        },
        "outputId": "82f3a566-6e51-49e2-a21b-e855c0dc9e98"
      },
      "source": [
        "result = model.fit(x=data['x_train'],y=data['y_train'],batch_size=100,epochs=10,validation_data = (data['x_validation'], data['y_validation']),verbose=1,shuffle=False,initial_epoch=0)"
      ],
      "execution_count": null,
      "outputs": [
        {
          "output_type": "stream",
          "text": [
            "Epoch 1/10\n",
            "870/870 [==============================] - 20s 24ms/step - loss: 0.6967 - accuracy: 0.7923 - val_loss: 0.1144 - val_accuracy: 0.9658\n",
            "Epoch 2/10\n",
            "870/870 [==============================] - 20s 23ms/step - loss: 0.1355 - accuracy: 0.9578 - val_loss: 0.0649 - val_accuracy: 0.9796\n",
            "Epoch 3/10\n",
            "870/870 [==============================] - 20s 23ms/step - loss: 0.0877 - accuracy: 0.9724 - val_loss: 0.0435 - val_accuracy: 0.9880\n",
            "Epoch 4/10\n",
            "870/870 [==============================] - 20s 23ms/step - loss: 0.0706 - accuracy: 0.9780 - val_loss: 0.0581 - val_accuracy: 0.9830\n",
            "Epoch 5/10\n",
            "870/870 [==============================] - 20s 23ms/step - loss: 0.0586 - accuracy: 0.9817 - val_loss: 0.0473 - val_accuracy: 0.9862\n",
            "Epoch 6/10\n",
            "870/870 [==============================] - 20s 23ms/step - loss: 0.0501 - accuracy: 0.9845 - val_loss: 0.0419 - val_accuracy: 0.9909\n",
            "Epoch 7/10\n",
            "870/870 [==============================] - 20s 23ms/step - loss: 0.0469 - accuracy: 0.9857 - val_loss: 0.0426 - val_accuracy: 0.9893\n",
            "Epoch 8/10\n",
            "870/870 [==============================] - 20s 23ms/step - loss: 0.0416 - accuracy: 0.9874 - val_loss: 0.0330 - val_accuracy: 0.9914\n",
            "Epoch 9/10\n",
            "870/870 [==============================] - 20s 23ms/step - loss: 0.0386 - accuracy: 0.9883 - val_loss: 0.0410 - val_accuracy: 0.9898\n",
            "Epoch 10/10\n",
            "870/870 [==============================] - 20s 23ms/step - loss: 0.0369 - accuracy: 0.9885 - val_loss: 0.0410 - val_accuracy: 0.9912\n"
          ],
          "name": "stdout"
        }
      ]
    },
    {
      "cell_type": "code",
      "metadata": {
        "colab_type": "code",
        "id": "LuVzAU48te0S",
        "colab": {
          "base_uri": "https://localhost:8080/",
          "height": 34
        },
        "outputId": "53d01e39-249c-4590-fae7-a63a97d70320"
      },
      "source": [
        "valid = model.evaluate(data['x_test'],Y_test,verbose=2)"
      ],
      "execution_count": null,
      "outputs": [
        {
          "output_type": "stream",
          "text": [
            "395/395 - 2s - loss: 0.1046 - accuracy: 0.9752\n"
          ],
          "name": "stdout"
        }
      ]
    },
    {
      "cell_type": "code",
      "metadata": {
        "id": "THE-I2cbM9gI",
        "colab_type": "code",
        "colab": {
          "base_uri": "https://localhost:8080/",
          "height": 34
        },
        "outputId": "ccc27866-80fb-4e74-ed53-359d6e49288d"
      },
      "source": [
        "y_new = model.predict(data['x_test'])\n",
        "print(f1_m(Y_test, y_new))"
      ],
      "execution_count": null,
      "outputs": [
        {
          "output_type": "stream",
          "text": [
            "tf.Tensor(0.9766609, shape=(), dtype=float32)\n"
          ],
          "name": "stdout"
        }
      ]
    },
    {
      "cell_type": "markdown",
      "metadata": {
        "id": "UtrxAZdOt8px",
        "colab_type": "text"
      },
      "source": [
        "##### Dropout fijo/ 2D/1BN/2D/1BN"
      ]
    },
    {
      "cell_type": "code",
      "metadata": {
        "colab_type": "code",
        "id": "37oBuMKQ0LRF",
        "colab": {}
      },
      "source": [
        "model = tf.keras.Sequential()\n",
        "#model.add(tf.keras.layers.BatchNormalization())\n",
        "model.add(tf.keras.layers.Conv2D(32, 3, input_shape=(32,32,3)))\n",
        "model.add(tf.keras.layers.Dropout(0.25))\n",
        "model.add(tf.keras.layers.Activation('relu'))\n",
        "#model.add(tf.keras.layers.BatchNormalization())\n",
        "model.add(tf.keras.layers.Conv2D(32, 3))\n",
        "model.add(tf.keras.layers.Dropout(0.25))\n",
        "model.add(tf.keras.layers.Activation('relu'))\n",
        "model.add(tf.keras.layers.MaxPool2D(padding = 'same',strides=2))\n",
        "model.add(tf.keras.layers.BatchNormalization())\n",
        "model.add(tf.keras.layers.Conv2D(64, 3))\n",
        "#model.add(tf.keras.layers.Dropout(0.25))\n",
        "model.add(tf.keras.layers.Activation('relu'))\n",
        "#model.add(tf.keras.layers.BatchNormalization())\n",
        "model.add(tf.keras.layers.Conv2D(64, 3))\n",
        "model.add(tf.keras.layers.Dropout(0.25))\n",
        "model.add(tf.keras.layers.Activation('relu'))\n",
        "model.add(tf.keras.layers.MaxPool2D(padding = 'same',strides=2))\n",
        "#model.add(tf.keras.layers.BatchNormalization())\n",
        "model.add(tf.keras.layers.Conv2D(64, 3))\n",
        "model.add(tf.keras.layers.Dropout(0.25))\n",
        "model.add(tf.keras.layers.Activation('relu'))\n",
        "model.add(tf.keras.layers.BatchNormalization())\n",
        "model.add(tf.keras.layers.Conv2D(64, 3,strides=2))\n",
        "#model.add(tf.keras.layers.Dropout(0.25))\n",
        "model.add(tf.keras.layers.Activation('relu'))\n",
        "model.add(tf.keras.layers.MaxPool2D(padding = 'same',strides=2))\n",
        "model.add(tf.keras.layers.Flatten())\n",
        "model.add(tf.keras.layers.Dense(300))\n",
        "model.add(tf.keras.layers.Activation('relu'))\n",
        "model.add(tf.keras.layers.Dense(43, activation='softmax'))"
      ],
      "execution_count": null,
      "outputs": []
    },
    {
      "cell_type": "code",
      "metadata": {
        "colab_type": "code",
        "id": "khZJuKS80LRZ",
        "colab": {}
      },
      "source": [
        "model.compile(optimizer=tf.keras.optimizers.Adam(learning_rate=0.001),loss=tf.keras.losses.CategoricalCrossentropy(), metrics=['accuracy'])"
      ],
      "execution_count": null,
      "outputs": []
    },
    {
      "cell_type": "code",
      "metadata": {
        "colab_type": "code",
        "id": "54TWydJl0LRe",
        "colab": {
          "base_uri": "https://localhost:8080/",
          "height": 357
        },
        "outputId": "312aa495-3ba6-4b2d-8ca0-770a54996ca4"
      },
      "source": [
        "result = model.fit(x=data['x_train'],y=data['y_train'],batch_size=100,epochs=10,validation_data = (data['x_validation'], data['y_validation']),verbose=1,shuffle=False,initial_epoch=0)"
      ],
      "execution_count": null,
      "outputs": [
        {
          "output_type": "stream",
          "text": [
            "Epoch 1/10\n",
            "870/870 [==============================] - 18s 20ms/step - loss: 0.5178 - accuracy: 0.8498 - val_loss: 0.0966 - val_accuracy: 0.9719\n",
            "Epoch 2/10\n",
            "870/870 [==============================] - 17s 20ms/step - loss: 0.0679 - accuracy: 0.9786 - val_loss: 0.0950 - val_accuracy: 0.9726\n",
            "Epoch 3/10\n",
            "870/870 [==============================] - 17s 20ms/step - loss: 0.0427 - accuracy: 0.9868 - val_loss: 0.0774 - val_accuracy: 0.9751\n",
            "Epoch 4/10\n",
            "870/870 [==============================] - 17s 20ms/step - loss: 0.0361 - accuracy: 0.9884 - val_loss: 0.1157 - val_accuracy: 0.9760\n",
            "Epoch 5/10\n",
            "870/870 [==============================] - 17s 20ms/step - loss: 0.0298 - accuracy: 0.9907 - val_loss: 0.0706 - val_accuracy: 0.9807\n",
            "Epoch 6/10\n",
            "870/870 [==============================] - 17s 20ms/step - loss: 0.0259 - accuracy: 0.9915 - val_loss: 0.0666 - val_accuracy: 0.9834\n",
            "Epoch 7/10\n",
            "870/870 [==============================] - 17s 20ms/step - loss: 0.0226 - accuracy: 0.9929 - val_loss: 0.0600 - val_accuracy: 0.9862\n",
            "Epoch 8/10\n",
            "870/870 [==============================] - 18s 20ms/step - loss: 0.0209 - accuracy: 0.9936 - val_loss: 0.0574 - val_accuracy: 0.9864\n",
            "Epoch 9/10\n",
            "870/870 [==============================] - 17s 20ms/step - loss: 0.0209 - accuracy: 0.9934 - val_loss: 0.0910 - val_accuracy: 0.9778\n",
            "Epoch 10/10\n",
            "870/870 [==============================] - 17s 20ms/step - loss: 0.0178 - accuracy: 0.9945 - val_loss: 0.0950 - val_accuracy: 0.9741\n"
          ],
          "name": "stdout"
        }
      ]
    },
    {
      "cell_type": "code",
      "metadata": {
        "colab_type": "code",
        "id": "0vFLJspS0LRj",
        "colab": {
          "base_uri": "https://localhost:8080/",
          "height": 34
        },
        "outputId": "39320609-7666-48d1-9117-1a59c641419c"
      },
      "source": [
        "valid = model.evaluate(data['x_test'],Y_test,verbose=2)"
      ],
      "execution_count": null,
      "outputs": [
        {
          "output_type": "stream",
          "text": [
            "395/395 - 2s - loss: 0.1720 - accuracy: 0.9641\n"
          ],
          "name": "stdout"
        }
      ]
    },
    {
      "cell_type": "code",
      "metadata": {
        "id": "gKE23chKUqIH",
        "colab_type": "code",
        "colab": {
          "base_uri": "https://localhost:8080/",
          "height": 34
        },
        "outputId": "d0f64fe8-6a3d-4f3a-fe85-fb0c0b023933"
      },
      "source": [
        "y_new = model.predict(data['x_test'])\n",
        "print(f1_m(Y_test, y_new))"
      ],
      "execution_count": null,
      "outputs": [
        {
          "output_type": "stream",
          "text": [
            "tf.Tensor(0.9656271, shape=(), dtype=float32)\n"
          ],
          "name": "stdout"
        }
      ]
    },
    {
      "cell_type": "markdown",
      "metadata": {
        "id": "dFdAbkFYuDFf",
        "colab_type": "text"
      },
      "source": [
        "##### Dropout fijo/ 2BN/1D/2BN/1D"
      ]
    },
    {
      "cell_type": "code",
      "metadata": {
        "colab_type": "code",
        "id": "uR_AOU8y0NRz",
        "colab": {}
      },
      "source": [
        "model = tf.keras.Sequential()\n",
        "model.add(tf.keras.layers.BatchNormalization())\n",
        "model.add(tf.keras.layers.Conv2D(32, 3, input_shape=(32,32,3)))\n",
        "#model.add(tf.keras.layers.Dropout(0.25))\n",
        "model.add(tf.keras.layers.Activation('relu'))\n",
        "model.add(tf.keras.layers.BatchNormalization())\n",
        "model.add(tf.keras.layers.Conv2D(32, 3))\n",
        "#model.add(tf.keras.layers.Dropout(0.25))\n",
        "model.add(tf.keras.layers.Activation('relu'))\n",
        "model.add(tf.keras.layers.MaxPool2D(padding = 'same',strides=2))\n",
        "#model.add(tf.keras.layers.BatchNormalization())\n",
        "model.add(tf.keras.layers.Conv2D(64, 3))\n",
        "model.add(tf.keras.layers.Dropout(0.25))\n",
        "model.add(tf.keras.layers.Activation('relu'))\n",
        "model.add(tf.keras.layers.BatchNormalization())\n",
        "model.add(tf.keras.layers.Conv2D(64, 3))\n",
        "#model.add(tf.keras.layers.Dropout(0.25))\n",
        "model.add(tf.keras.layers.Activation('relu'))\n",
        "model.add(tf.keras.layers.MaxPool2D(padding = 'same',strides=2))\n",
        "model.add(tf.keras.layers.BatchNormalization())\n",
        "model.add(tf.keras.layers.Conv2D(64, 3))\n",
        "#model.add(tf.keras.layers.Dropout(0.25))\n",
        "model.add(tf.keras.layers.Activation('relu'))\n",
        "#model.add(tf.keras.layers.BatchNormalization())\n",
        "model.add(tf.keras.layers.Conv2D(64, 3,strides=2))\n",
        "model.add(tf.keras.layers.Dropout(0.25))\n",
        "model.add(tf.keras.layers.Activation('relu'))\n",
        "model.add(tf.keras.layers.MaxPool2D(padding = 'same',strides=2))\n",
        "model.add(tf.keras.layers.Flatten())\n",
        "model.add(tf.keras.layers.Dense(300))\n",
        "model.add(tf.keras.layers.Activation('relu'))\n",
        "model.add(tf.keras.layers.Dense(43, activation='softmax'))"
      ],
      "execution_count": null,
      "outputs": []
    },
    {
      "cell_type": "code",
      "metadata": {
        "colab_type": "code",
        "id": "ukHYynuS0NR-",
        "colab": {}
      },
      "source": [
        "model.compile(optimizer=tf.keras.optimizers.Adam(learning_rate=0.001),loss=tf.keras.losses.CategoricalCrossentropy(), metrics=['accuracy'])"
      ],
      "execution_count": null,
      "outputs": []
    },
    {
      "cell_type": "code",
      "metadata": {
        "colab_type": "code",
        "id": "vFIHjPLI0NSH",
        "colab": {
          "base_uri": "https://localhost:8080/",
          "height": 357
        },
        "outputId": "ab0a907b-e981-4960-ce65-27843f4f8085"
      },
      "source": [
        "result = model.fit(x=data['x_train'],y=data['y_train'],batch_size=100,epochs=10,validation_data = (data['x_validation'], data['y_validation']),verbose=1,shuffle=False,initial_epoch=0)"
      ],
      "execution_count": null,
      "outputs": [
        {
          "output_type": "stream",
          "text": [
            "Epoch 1/10\n",
            "870/870 [==============================] - 17s 20ms/step - loss: 0.4713 - accuracy: 0.8620 - val_loss: 0.1263 - val_accuracy: 0.9642\n",
            "Epoch 2/10\n",
            "870/870 [==============================] - 17s 19ms/step - loss: 0.0875 - accuracy: 0.9732 - val_loss: 0.1003 - val_accuracy: 0.9735\n",
            "Epoch 3/10\n",
            "870/870 [==============================] - 17s 20ms/step - loss: 0.0539 - accuracy: 0.9835 - val_loss: 0.0675 - val_accuracy: 0.9823\n",
            "Epoch 4/10\n",
            "870/870 [==============================] - 17s 19ms/step - loss: 0.0485 - accuracy: 0.9855 - val_loss: 0.0756 - val_accuracy: 0.9800\n",
            "Epoch 5/10\n",
            "870/870 [==============================] - 17s 19ms/step - loss: 0.0363 - accuracy: 0.9890 - val_loss: 0.0997 - val_accuracy: 0.9814\n",
            "Epoch 6/10\n",
            "870/870 [==============================] - 17s 20ms/step - loss: 0.0318 - accuracy: 0.9902 - val_loss: 0.1379 - val_accuracy: 0.9721\n",
            "Epoch 7/10\n",
            "870/870 [==============================] - 17s 19ms/step - loss: 0.0292 - accuracy: 0.9912 - val_loss: 0.0575 - val_accuracy: 0.9848\n",
            "Epoch 8/10\n",
            "870/870 [==============================] - 17s 19ms/step - loss: 0.0272 - accuracy: 0.9919 - val_loss: 0.0491 - val_accuracy: 0.9900\n",
            "Epoch 9/10\n",
            "870/870 [==============================] - 17s 19ms/step - loss: 0.0235 - accuracy: 0.9926 - val_loss: 0.0738 - val_accuracy: 0.9857\n",
            "Epoch 10/10\n",
            "870/870 [==============================] - 17s 19ms/step - loss: 0.0223 - accuracy: 0.9932 - val_loss: 0.0651 - val_accuracy: 0.9880\n"
          ],
          "name": "stdout"
        }
      ]
    },
    {
      "cell_type": "code",
      "metadata": {
        "colab_type": "code",
        "id": "2YGv9ygt0NSO",
        "colab": {
          "base_uri": "https://localhost:8080/",
          "height": 34
        },
        "outputId": "4d20ec29-857e-44c1-cf93-3c056ffe45fa"
      },
      "source": [
        "valid = model.evaluate(data['x_test'],Y_test,verbose=2)"
      ],
      "execution_count": null,
      "outputs": [
        {
          "output_type": "stream",
          "text": [
            "395/395 - 2s - loss: 0.1141 - accuracy: 0.9808\n"
          ],
          "name": "stdout"
        }
      ]
    },
    {
      "cell_type": "code",
      "metadata": {
        "id": "WzWxqCz6WUbS",
        "colab_type": "code",
        "colab": {
          "base_uri": "https://localhost:8080/",
          "height": 34
        },
        "outputId": "dcf1d564-8fa5-495c-8960-e5196173cdb8"
      },
      "source": [
        "y_new = model.predict(data['x_test'])\n",
        "print(f1_m(Y_test, y_new))"
      ],
      "execution_count": null,
      "outputs": [
        {
          "output_type": "stream",
          "text": [
            "tf.Tensor(0.98214424, shape=(), dtype=float32)\n"
          ],
          "name": "stdout"
        }
      ]
    },
    {
      "cell_type": "markdown",
      "metadata": {
        "id": "OHnczAPiyN2R",
        "colab_type": "text"
      },
      "source": [
        "##### Dropout fijo/ 3BN/3D"
      ]
    },
    {
      "cell_type": "code",
      "metadata": {
        "colab_type": "code",
        "id": "MBhF3Tdd0O9o",
        "colab": {}
      },
      "source": [
        "model = tf.keras.Sequential()\n",
        "model.add(tf.keras.layers.BatchNormalization())\n",
        "model.add(tf.keras.layers.Conv2D(32, 3, input_shape=(32,32,3)))\n",
        "#model.add(tf.keras.layers.Dropout(0.25))\n",
        "model.add(tf.keras.layers.Activation('relu'))\n",
        "model.add(tf.keras.layers.BatchNormalization())\n",
        "model.add(tf.keras.layers.Conv2D(32, 3))\n",
        "#model.add(tf.keras.layers.Dropout(0.25))\n",
        "model.add(tf.keras.layers.Activation('relu'))\n",
        "model.add(tf.keras.layers.MaxPool2D(padding = 'same',strides=2))\n",
        "model.add(tf.keras.layers.BatchNormalization())\n",
        "model.add(tf.keras.layers.Conv2D(64, 3))\n",
        "#model.add(tf.keras.layers.Dropout(0.25))\n",
        "model.add(tf.keras.layers.Activation('relu'))\n",
        "#model.add(tf.keras.layers.BatchNormalization())\n",
        "model.add(tf.keras.layers.Conv2D(64, 3))\n",
        "model.add(tf.keras.layers.Dropout(0.25))\n",
        "model.add(tf.keras.layers.Activation('relu'))\n",
        "model.add(tf.keras.layers.MaxPool2D(padding = 'same',strides=2))\n",
        "#model.add(tf.keras.layers.BatchNormalization())\n",
        "model.add(tf.keras.layers.Conv2D(64, 3))\n",
        "model.add(tf.keras.layers.Dropout(0.25))\n",
        "model.add(tf.keras.layers.Activation('relu'))\n",
        "#model.add(tf.keras.layers.BatchNormalization())\n",
        "model.add(tf.keras.layers.Conv2D(64, 3,strides=2))\n",
        "model.add(tf.keras.layers.Dropout(0.25))\n",
        "model.add(tf.keras.layers.Activation('relu'))\n",
        "model.add(tf.keras.layers.MaxPool2D(padding = 'same',strides=2))\n",
        "model.add(tf.keras.layers.Flatten())\n",
        "model.add(tf.keras.layers.Dense(300))\n",
        "model.add(tf.keras.layers.Activation('relu'))\n",
        "model.add(tf.keras.layers.Dense(43, activation='softmax'))"
      ],
      "execution_count": null,
      "outputs": []
    },
    {
      "cell_type": "code",
      "metadata": {
        "colab_type": "code",
        "id": "ert1LDtI0O9t",
        "colab": {}
      },
      "source": [
        "model.compile(optimizer=tf.keras.optimizers.Adam(learning_rate=0.001),loss=tf.keras.losses.CategoricalCrossentropy(), metrics=['accuracy'])"
      ],
      "execution_count": null,
      "outputs": []
    },
    {
      "cell_type": "code",
      "metadata": {
        "colab_type": "code",
        "id": "L2l9-8610O9x",
        "colab": {
          "base_uri": "https://localhost:8080/",
          "height": 357
        },
        "outputId": "bfb70f3c-8eb1-4f44-db43-c41664452fba"
      },
      "source": [
        "result = model.fit(x=data['x_train'],y=data['y_train'],batch_size=100,epochs=10,validation_data = (data['x_validation'], data['y_validation']),verbose=1,shuffle=False,initial_epoch=0)"
      ],
      "execution_count": null,
      "outputs": [
        {
          "output_type": "stream",
          "text": [
            "Epoch 1/10\n",
            "870/870 [==============================] - 17s 19ms/step - loss: 0.6600 - accuracy: 0.8034 - val_loss: 0.1082 - val_accuracy: 0.9653\n",
            "Epoch 2/10\n",
            "870/870 [==============================] - 16s 19ms/step - loss: 0.1202 - accuracy: 0.9638 - val_loss: 0.0837 - val_accuracy: 0.9760\n",
            "Epoch 3/10\n",
            "870/870 [==============================] - 16s 19ms/step - loss: 0.0788 - accuracy: 0.9771 - val_loss: 0.0534 - val_accuracy: 0.9855\n",
            "Epoch 4/10\n",
            "870/870 [==============================] - 16s 19ms/step - loss: 0.0620 - accuracy: 0.9816 - val_loss: 0.0803 - val_accuracy: 0.9785\n",
            "Epoch 5/10\n",
            "870/870 [==============================] - 17s 19ms/step - loss: 0.0516 - accuracy: 0.9851 - val_loss: 0.0414 - val_accuracy: 0.9882\n",
            "Epoch 6/10\n",
            "870/870 [==============================] - 17s 19ms/step - loss: 0.0482 - accuracy: 0.9862 - val_loss: 0.0448 - val_accuracy: 0.9891\n",
            "Epoch 7/10\n",
            "870/870 [==============================] - 17s 19ms/step - loss: 0.0443 - accuracy: 0.9875 - val_loss: 0.0663 - val_accuracy: 0.9821\n",
            "Epoch 8/10\n",
            "870/870 [==============================] - 17s 20ms/step - loss: 0.0388 - accuracy: 0.9888 - val_loss: 0.0621 - val_accuracy: 0.9859\n",
            "Epoch 9/10\n",
            "870/870 [==============================] - 16s 19ms/step - loss: 0.0374 - accuracy: 0.9899 - val_loss: 0.0396 - val_accuracy: 0.9896\n",
            "Epoch 10/10\n",
            "870/870 [==============================] - 16s 19ms/step - loss: 0.0355 - accuracy: 0.9900 - val_loss: 0.0475 - val_accuracy: 0.9898\n"
          ],
          "name": "stdout"
        }
      ]
    },
    {
      "cell_type": "code",
      "metadata": {
        "colab_type": "code",
        "id": "sq67aw970O90",
        "colab": {
          "base_uri": "https://localhost:8080/",
          "height": 34
        },
        "outputId": "aca07db9-a347-441b-b919-619ec5d3d0d3"
      },
      "source": [
        "valid = model.evaluate(data['x_test'],Y_test,verbose=2)"
      ],
      "execution_count": null,
      "outputs": [
        {
          "output_type": "stream",
          "text": [
            "395/395 - 2s - loss: 0.1431 - accuracy: 0.9756\n"
          ],
          "name": "stdout"
        }
      ]
    },
    {
      "cell_type": "code",
      "metadata": {
        "id": "Cb0-4Rv5WutD",
        "colab_type": "code",
        "colab": {
          "base_uri": "https://localhost:8080/",
          "height": 34
        },
        "outputId": "0d320c76-3604-46d3-8381-d3de39771459"
      },
      "source": [
        "y_new = model.predict(data['x_test'])\n",
        "print(f1_m(Y_test, y_new))"
      ],
      "execution_count": null,
      "outputs": [
        {
          "output_type": "stream",
          "text": [
            "tf.Tensor(0.9773766, shape=(), dtype=float32)\n"
          ],
          "name": "stdout"
        }
      ]
    },
    {
      "cell_type": "markdown",
      "metadata": {
        "id": "IZYPpcMdySd7",
        "colab_type": "text"
      },
      "source": [
        "##### Dropout fijo/ 3D/3BN"
      ]
    },
    {
      "cell_type": "code",
      "metadata": {
        "colab_type": "code",
        "id": "MhXL4tjy0RWP",
        "colab": {}
      },
      "source": [
        "model = tf.keras.Sequential()\n",
        "#model.add(tf.keras.layers.BatchNormalization())\n",
        "model.add(tf.keras.layers.Conv2D(32, 3, input_shape=(32,32,3)))\n",
        "model.add(tf.keras.layers.Dropout(0.25))\n",
        "model.add(tf.keras.layers.Activation('relu'))\n",
        "#model.add(tf.keras.layers.BatchNormalization())\n",
        "model.add(tf.keras.layers.Conv2D(32, 3))\n",
        "model.add(tf.keras.layers.Dropout(0.25))\n",
        "model.add(tf.keras.layers.Activation('relu'))\n",
        "model.add(tf.keras.layers.MaxPool2D(padding = 'same',strides=2))\n",
        "#model.add(tf.keras.layers.BatchNormalization())\n",
        "model.add(tf.keras.layers.Conv2D(64, 3))\n",
        "model.add(tf.keras.layers.Dropout(0.25))\n",
        "model.add(tf.keras.layers.Activation('relu'))\n",
        "model.add(tf.keras.layers.BatchNormalization())\n",
        "model.add(tf.keras.layers.Conv2D(64, 3))\n",
        "#model.add(tf.keras.layers.Dropout(0.25))\n",
        "model.add(tf.keras.layers.Activation('relu'))\n",
        "model.add(tf.keras.layers.MaxPool2D(padding = 'same',strides=2))\n",
        "model.add(tf.keras.layers.BatchNormalization())\n",
        "model.add(tf.keras.layers.Conv2D(64, 3))\n",
        "#model.add(tf.keras.layers.Dropout(0.25))\n",
        "model.add(tf.keras.layers.Activation('relu'))\n",
        "model.add(tf.keras.layers.BatchNormalization())\n",
        "model.add(tf.keras.layers.Conv2D(64, 3,strides=2))\n",
        "#model.add(tf.keras.layers.Dropout(0.25))\n",
        "model.add(tf.keras.layers.Activation('relu'))\n",
        "model.add(tf.keras.layers.MaxPool2D(padding = 'same',strides=2))\n",
        "model.add(tf.keras.layers.Flatten())\n",
        "model.add(tf.keras.layers.Dense(300))\n",
        "model.add(tf.keras.layers.Activation('relu'))\n",
        "model.add(tf.keras.layers.Dense(43, activation='softmax'))"
      ],
      "execution_count": null,
      "outputs": []
    },
    {
      "cell_type": "code",
      "metadata": {
        "colab_type": "code",
        "id": "tXvsrg_x0RWU",
        "colab": {}
      },
      "source": [
        "model.compile(optimizer=tf.keras.optimizers.Adam(learning_rate=0.001),loss=tf.keras.losses.CategoricalCrossentropy(), metrics=['accuracy'])"
      ],
      "execution_count": null,
      "outputs": []
    },
    {
      "cell_type": "code",
      "metadata": {
        "colab_type": "code",
        "id": "WmCmzM6E0RWa",
        "colab": {
          "base_uri": "https://localhost:8080/",
          "height": 357
        },
        "outputId": "ee61974a-cfb4-4ca8-f232-bc0692c3f66f"
      },
      "source": [
        "result = model.fit(x=data['x_train'],y=data['y_train'],batch_size=100,epochs=10,validation_data = (data['x_validation'], data['y_validation']),verbose=1,shuffle=False,initial_epoch=0)"
      ],
      "execution_count": null,
      "outputs": [
        {
          "output_type": "stream",
          "text": [
            "Epoch 1/10\n",
            "870/870 [==============================] - 18s 21ms/step - loss: 0.4394 - accuracy: 0.8758 - val_loss: 0.1702 - val_accuracy: 0.9483\n",
            "Epoch 2/10\n",
            "870/870 [==============================] - 17s 20ms/step - loss: 0.0511 - accuracy: 0.9840 - val_loss: 0.1189 - val_accuracy: 0.9726\n",
            "Epoch 3/10\n",
            "870/870 [==============================] - 18s 20ms/step - loss: 0.0331 - accuracy: 0.9895 - val_loss: 0.1185 - val_accuracy: 0.9712\n",
            "Epoch 4/10\n",
            "870/870 [==============================] - 17s 20ms/step - loss: 0.0282 - accuracy: 0.9912 - val_loss: 0.1054 - val_accuracy: 0.9748\n",
            "Epoch 5/10\n",
            "870/870 [==============================] - 18s 20ms/step - loss: 0.0236 - accuracy: 0.9925 - val_loss: 0.1070 - val_accuracy: 0.9769\n",
            "Epoch 6/10\n",
            "870/870 [==============================] - 17s 20ms/step - loss: 0.0200 - accuracy: 0.9932 - val_loss: 0.1471 - val_accuracy: 0.9732\n",
            "Epoch 7/10\n",
            "870/870 [==============================] - 17s 20ms/step - loss: 0.0153 - accuracy: 0.9952 - val_loss: 0.1162 - val_accuracy: 0.9780\n",
            "Epoch 8/10\n",
            "870/870 [==============================] - 18s 20ms/step - loss: 0.0170 - accuracy: 0.9944 - val_loss: 0.1327 - val_accuracy: 0.9764\n",
            "Epoch 9/10\n",
            "870/870 [==============================] - 17s 20ms/step - loss: 0.0145 - accuracy: 0.9954 - val_loss: 0.0917 - val_accuracy: 0.9800\n",
            "Epoch 10/10\n",
            "870/870 [==============================] - 18s 20ms/step - loss: 0.0144 - accuracy: 0.9955 - val_loss: 0.0836 - val_accuracy: 0.9859\n"
          ],
          "name": "stdout"
        }
      ]
    },
    {
      "cell_type": "code",
      "metadata": {
        "colab_type": "code",
        "id": "mw9dBt_l0RWr",
        "colab": {
          "base_uri": "https://localhost:8080/",
          "height": 34
        },
        "outputId": "0820005d-cbf0-45bb-e8bb-540b53621ec5"
      },
      "source": [
        "valid = model.evaluate(data['x_test'],Y_test,verbose=2)"
      ],
      "execution_count": null,
      "outputs": [
        {
          "output_type": "stream",
          "text": [
            "395/395 - 2s - loss: 0.2094 - accuracy: 0.9583\n"
          ],
          "name": "stdout"
        }
      ]
    },
    {
      "cell_type": "code",
      "metadata": {
        "id": "4mx4Px35WvuR",
        "colab_type": "code",
        "colab": {
          "base_uri": "https://localhost:8080/",
          "height": 34
        },
        "outputId": "9ca5c798-1383-480b-ce74-7edb451c3134"
      },
      "source": [
        "y_new = model.predict(data['x_test'])\n",
        "print(f1_m(Y_test, y_new))"
      ],
      "execution_count": null,
      "outputs": [
        {
          "output_type": "stream",
          "text": [
            "tf.Tensor(0.95977753, shape=(), dtype=float32)\n"
          ],
          "name": "stdout"
        }
      ]
    },
    {
      "cell_type": "markdown",
      "metadata": {
        "id": "Mro0DvciPO8t",
        "colab_type": "text"
      },
      "source": [
        "### <a id=\"segundo\"></a>\n",
        "## 2.Challenge Kaggle\n"
      ]
    },
    {
      "cell_type": "code",
      "metadata": {
        "id": "RW498VAIshGj",
        "colab_type": "code",
        "colab": {}
      },
      "source": [
        ""
      ],
      "execution_count": null,
      "outputs": []
    }
  ]
}