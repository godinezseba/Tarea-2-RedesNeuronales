{
  "nbformat": 4,
  "nbformat_minor": 0,
  "metadata": {
    "colab": {
      "name": "Taller2-Parte1.3",
      "provenance": [],
      "collapsed_sections": [
        "IWnFRUMIw29f",
        "ya7JA4OhES4j",
        "lo3y3BrZFTkr"
      ]
    },
    "kernelspec": {
      "name": "python3",
      "display_name": "Python 3"
    },
    "accelerator": "GPU"
  },
  "cells": [
    {
      "cell_type": "code",
      "metadata": {
        "id": "-DXnYtCdBm42",
        "colab_type": "code",
        "colab": {
          "base_uri": "https://localhost:8080/",
          "height": 36
        },
        "outputId": "6eb63ec7-94bd-4ffb-931a-2301d17b3f3d"
      },
      "source": [
        "import numpy as np\n",
        "import pandas as pd\n",
        "from sklearn.model_selection import train_test_split\n",
        "from keras.optimizers import SGD\n",
        "from keras.models import Sequential\n",
        "from keras.layers import Dense, Dropout, Flatten, Conv1D, MaxPool1D, AvgPool1D, BatchNormalization, Reshape\n",
        "from keras.layers import Activation\n",
        "from sklearn.metrics import mean_squared_error\n",
        "from sklearn.preprocessing import normalize\n",
        "import matplotlib.pyplot as plt\n",
        "import tensorflow as tf\n",
        "from keras.utils import to_categorical"
      ],
      "execution_count": null,
      "outputs": [
        {
          "output_type": "stream",
          "text": [
            "Using TensorFlow backend.\n"
          ],
          "name": "stderr"
        }
      ]
    },
    {
      "cell_type": "code",
      "metadata": {
        "id": "hQxpabhDAQh7",
        "colab_type": "code",
        "colab": {}
      },
      "source": [
        "#GENERAR DATASET (TEST Y TRAIN)\n",
        "\n",
        "n_dim = 10\n",
        "\n",
        "X_train = np.empty((1000, n_dim, n_dim))\n",
        "for c in range(1000):\n",
        "  R = np.random.randint(-10,10,(n_dim,n_dim))\n",
        "  max = np.max(R)\n",
        "  R = R/max\n",
        "  X_train[c] = R\n",
        "\n",
        "X_train.shape \n",
        "\n",
        "X_test = np.empty((300,n_dim,n_dim))\n",
        "for c in range(300):\n",
        "  R = np.random.randint(-10,10,(n_dim,n_dim))\n",
        "  max = np.max(R)\n",
        "  R = R/max\n",
        "  X_test[c] = R\n",
        "\n"
      ],
      "execution_count": null,
      "outputs": []
    },
    {
      "cell_type": "markdown",
      "metadata": {
        "id": "vVbQ9zUgarMN",
        "colab_type": "text"
      },
      "source": [
        "Los datasets creados (Train y test) son matrices de tamaño 10 x 10, con elementos entre -10 y 10 que han sido normalizados dividiendo por el máximo de sus elementos. \n",
        "Para el conjunto de entrenamiento se tienen 1000 matrices y para el de testeo 300 matrices."
      ]
    },
    {
      "cell_type": "code",
      "metadata": {
        "id": "Dwt2X0guspsd",
        "colab_type": "code",
        "colab": {
          "base_uri": "https://localhost:8080/",
          "height": 92
        },
        "outputId": "ed249aff-8439-4abd-90e5-4dab3ba62013"
      },
      "source": [
        "Y_train = np.empty(1000)\n",
        "for c in range(1000):\n",
        "  Y_train[c] = sum(np.linalg.eigvals(X_train[c]))\n",
        "\n",
        "Y_train.shape\n",
        "\n",
        "Y_test = np.empty(300)\n",
        "for c in range(300):\n",
        "  Y_test[c] = sum(np.linalg.eigvals(X_test[c]))\n",
        "\n",
        "\n"
      ],
      "execution_count": null,
      "outputs": [
        {
          "output_type": "stream",
          "text": [
            "/usr/local/lib/python3.6/dist-packages/ipykernel_launcher.py:3: ComplexWarning: Casting complex values to real discards the imaginary part\n",
            "  This is separate from the ipykernel package so we can avoid doing imports until\n",
            "/usr/local/lib/python3.6/dist-packages/ipykernel_launcher.py:9: ComplexWarning: Casting complex values to real discards the imaginary part\n",
            "  if __name__ == '__main__':\n"
          ],
          "name": "stderr"
        }
      ]
    },
    {
      "cell_type": "markdown",
      "metadata": {
        "id": "sR6Ys2TBbCnL",
        "colab_type": "text"
      },
      "source": [
        "Los target son definidos como la suma de los valores propios de cada matriz. Para el conjunto de entrenamiento se tiene un target que es un vector de 1000 elementos y para el de testeo lo mismo pero con un vector de 300 elementos."
      ]
    },
    {
      "cell_type": "code",
      "metadata": {
        "id": "3XCqbEWSv0ej",
        "colab_type": "code",
        "colab": {
          "base_uri": "https://localhost:8080/",
          "height": 36
        },
        "outputId": "36178b9a-700d-4418-835b-780d83c7841d"
      },
      "source": [
        "X_train, X_val, Y_train, Y_val = train_test_split(X_train, Y_train, test_size=0.2)\n",
        "\n",
        "print(X_train.shape,X_val.shape,Y_train.shape,Y_val.shape)\n"
      ],
      "execution_count": null,
      "outputs": [
        {
          "output_type": "stream",
          "text": [
            "(800, 10, 10) (200, 10, 10) (800,) (200,)\n"
          ],
          "name": "stdout"
        }
      ]
    },
    {
      "cell_type": "markdown",
      "metadata": {
        "id": "IbAYGd8DbRq9",
        "colab_type": "text"
      },
      "source": [
        "Se realiza un split en el conjunto de entrenamiento para generar el conjunto de validación, 80% para el conjunto de entrenamiento y 20% para el conjunto de validación."
      ]
    },
    {
      "cell_type": "code",
      "metadata": {
        "id": "lTRyu0dTgThu",
        "colab_type": "code",
        "colab": {
          "base_uri": "https://localhost:8080/",
          "height": 802
        },
        "outputId": "53b9d54b-ea91-44cb-ab6d-873bffc96b1c"
      },
      "source": [
        "model = tf.keras.Sequential()\n",
        "model.add(tf.keras.layers.Conv1D(64, 4, input_shape=(n_dim,n_dim)))\n",
        "model.add(tf.keras.layers.Activation('relu'))\n",
        "\n",
        "model.add(tf.keras.layers.Conv1D(64, 4))\n",
        "model.add(tf.keras.layers.Activation('relu'))\n",
        "\n",
        "model.add(tf.keras.layers.MaxPool1D(padding = 'same',strides=3))\n",
        "model.add(tf.keras.layers.Conv1D(32, 2))\n",
        "model.add(tf.keras.layers.Activation('relu'))\n",
        "\n",
        "model.add(tf.keras.layers.MaxPool1D(padding = 'same',strides=2))\n",
        "\n",
        "model.add(tf.keras.layers.Flatten())\n",
        "model.add(tf.keras.layers.Dense(64))\n",
        "model.add(tf.keras.layers.Activation('relu'))\n",
        "model.add(tf.keras.layers.Dense(32))\n",
        "model.add(tf.keras.layers.Activation('relu'))\n",
        "model.add(tf.keras.layers.Dense(16))\n",
        "model.add(tf.keras.layers.Activation('relu'))\n",
        "model.add(tf.keras.layers.Dense(1))\n",
        "model.add(tf.keras.layers.Activation('linear'))\n",
        "model.summary()"
      ],
      "execution_count": null,
      "outputs": [
        {
          "output_type": "stream",
          "text": [
            "Model: \"sequential_1\"\n",
            "_________________________________________________________________\n",
            "Layer (type)                 Output Shape              Param #   \n",
            "=================================================================\n",
            "conv1d_3 (Conv1D)            (None, 7, 64)             2624      \n",
            "_________________________________________________________________\n",
            "activation_7 (Activation)    (None, 7, 64)             0         \n",
            "_________________________________________________________________\n",
            "conv1d_4 (Conv1D)            (None, 4, 64)             16448     \n",
            "_________________________________________________________________\n",
            "activation_8 (Activation)    (None, 4, 64)             0         \n",
            "_________________________________________________________________\n",
            "max_pooling1d_2 (MaxPooling1 (None, 2, 64)             0         \n",
            "_________________________________________________________________\n",
            "conv1d_5 (Conv1D)            (None, 1, 32)             4128      \n",
            "_________________________________________________________________\n",
            "activation_9 (Activation)    (None, 1, 32)             0         \n",
            "_________________________________________________________________\n",
            "max_pooling1d_3 (MaxPooling1 (None, 1, 32)             0         \n",
            "_________________________________________________________________\n",
            "flatten_1 (Flatten)          (None, 32)                0         \n",
            "_________________________________________________________________\n",
            "dense_4 (Dense)              (None, 64)                2112      \n",
            "_________________________________________________________________\n",
            "activation_10 (Activation)   (None, 64)                0         \n",
            "_________________________________________________________________\n",
            "dense_5 (Dense)              (None, 32)                2080      \n",
            "_________________________________________________________________\n",
            "activation_11 (Activation)   (None, 32)                0         \n",
            "_________________________________________________________________\n",
            "dense_6 (Dense)              (None, 16)                528       \n",
            "_________________________________________________________________\n",
            "activation_12 (Activation)   (None, 16)                0         \n",
            "_________________________________________________________________\n",
            "dense_7 (Dense)              (None, 1)                 17        \n",
            "_________________________________________________________________\n",
            "activation_13 (Activation)   (None, 1)                 0         \n",
            "=================================================================\n",
            "Total params: 27,937\n",
            "Trainable params: 27,937\n",
            "Non-trainable params: 0\n",
            "_________________________________________________________________\n"
          ],
          "name": "stdout"
        }
      ]
    },
    {
      "cell_type": "markdown",
      "metadata": {
        "id": "wZeK-j96bltx",
        "colab_type": "text"
      },
      "source": [
        "Red de referencia a utilizar."
      ]
    },
    {
      "cell_type": "code",
      "metadata": {
        "id": "P3Qg7Wic5gI4",
        "colab_type": "code",
        "colab": {
          "base_uri": "https://localhost:8080/",
          "height": 279
        },
        "outputId": "f801a52f-f5b2-4646-d0e7-971e769ee744"
      },
      "source": [
        "#model.compile(loss='categorical_crossentropy',optimizer='Adam',metrics=['accuracy'])\n",
        "model.compile(optimizer='adam',loss='mean_squared_error')\n",
        "\n",
        "history = model.fit(X_train,Y_train, epochs = 7, validation_data = (X_val,Y_val), verbose =1)\n",
        "\n"
      ],
      "execution_count": null,
      "outputs": [
        {
          "output_type": "stream",
          "text": [
            "Epoch 1/7\n",
            "25/25 [==============================] - 0s 7ms/step - loss: 4.1905 - val_loss: 3.2452\n",
            "Epoch 2/7\n",
            "25/25 [==============================] - 0s 4ms/step - loss: 2.9893 - val_loss: 2.0207\n",
            "Epoch 3/7\n",
            "25/25 [==============================] - 0s 4ms/step - loss: 1.2577 - val_loss: 1.0885\n",
            "Epoch 4/7\n",
            "25/25 [==============================] - 0s 4ms/step - loss: 0.6655 - val_loss: 0.9137\n",
            "Epoch 5/7\n",
            "25/25 [==============================] - 0s 4ms/step - loss: 0.3863 - val_loss: 0.8235\n",
            "Epoch 6/7\n",
            "25/25 [==============================] - 0s 4ms/step - loss: 0.2740 - val_loss: 0.8442\n",
            "Epoch 7/7\n",
            "25/25 [==============================] - 0s 4ms/step - loss: 0.1703 - val_loss: 0.7538\n"
          ],
          "name": "stdout"
        }
      ]
    },
    {
      "cell_type": "code",
      "metadata": {
        "id": "JHaiHr5P69qu",
        "colab_type": "code",
        "colab": {
          "base_uri": "https://localhost:8080/",
          "height": 295
        },
        "outputId": "5c80a08b-5f89-441b-cc15-82c8f0c95ae6"
      },
      "source": [
        "plt.plot(history.history['loss'])\n",
        "plt.plot(history.history['val_loss'])\n",
        "plt.title('model loss')\n",
        "#plt.ylabel('accuracy')\n",
        "plt.xlabel('epoch')\n",
        "plt.legend(['train', 'val'], loc='upper left')\n",
        "plt.show()"
      ],
      "execution_count": null,
      "outputs": [
        {
          "output_type": "display_data",
          "data": {
            "image/png": "[encoded data removed]",
            "text/plain": [
              "<Figure size 432x288 with 1 Axes>"
            ]
          },
          "metadata": {
            "tags": [],
            "needs_background": "light"
          }
        }
      ]
    },
    {
      "cell_type": "code",
      "metadata": {
        "id": "9GRDQozwAwsj",
        "colab_type": "code",
        "colab": {
          "base_uri": "https://localhost:8080/",
          "height": 36
        },
        "outputId": "2b4550a0-8268-4444-d7e3-aea36c48ee18"
      },
      "source": [
        "pred = model.predict(X_test)\n",
        "\n",
        "mean_squared_error(Y_test,pred)"
      ],
      "execution_count": null,
      "outputs": [
        {
          "output_type": "execute_result",
          "data": {
            "text/plain": [
              "0.8728320013696806"
            ]
          },
          "metadata": {
            "tags": []
          },
          "execution_count": 17
        }
      ]
    },
    {
      "cell_type": "markdown",
      "metadata": {
        "id": "iodIh1_nbveV",
        "colab_type": "text"
      },
      "source": [
        "Loss de la predicción de la red referencial: 0.87\n",
        "\n"
      ]
    },
    {
      "cell_type": "markdown",
      "metadata": {
        "id": "xsHqHUSIBB-7",
        "colab_type": "text"
      },
      "source": [
        "### DROPOUT"
      ]
    },
    {
      "cell_type": "markdown",
      "metadata": {
        "id": "IWnFRUMIw29f",
        "colab_type": "text"
      },
      "source": [
        "#### Dropout antes de Pooling"
      ]
    },
    {
      "cell_type": "code",
      "metadata": {
        "id": "KAqK1B7RxGGW",
        "colab_type": "code",
        "colab": {}
      },
      "source": [
        "model = tf.keras.Sequential()\n",
        "model.add(tf.keras.layers.Conv1D(64, 4, input_shape=(n_dim,n_dim)))\n",
        "model.add(tf.keras.layers.Activation('relu'))\n",
        "\n",
        "model.add(tf.keras.layers.Conv1D(64, 4))\n",
        "model.add(tf.keras.layers.Activation('relu'))\n",
        "\n",
        "model.add(tf.keras.layers.Dropout(0.25))\n",
        "model.add(tf.keras.layers.MaxPool1D(padding = 'same',strides=3))\n",
        "model.add(tf.keras.layers.Conv1D(32, 2))\n",
        "model.add(tf.keras.layers.Activation('relu'))\n",
        "\n",
        "model.add(tf.keras.layers.Dropout(0.25))\n",
        "model.add(tf.keras.layers.MaxPool1D(padding = 'same',strides=2))\n",
        "\n",
        "model.add(tf.keras.layers.Flatten())\n",
        "model.add(tf.keras.layers.Dense(64))\n",
        "model.add(tf.keras.layers.Activation('relu'))\n",
        "model.add(tf.keras.layers.Dense(32))\n",
        "model.add(tf.keras.layers.Activation('relu'))\n",
        "model.add(tf.keras.layers.Dense(16))\n",
        "model.add(tf.keras.layers.Activation('relu'))\n",
        "model.add(tf.keras.layers.Dense(1))\n",
        "model.add(tf.keras.layers.Activation('linear'))"
      ],
      "execution_count": null,
      "outputs": []
    },
    {
      "cell_type": "code",
      "metadata": {
        "id": "dp2pPYk6-RNU",
        "colab_type": "code",
        "colab": {
          "base_uri": "https://localhost:8080/",
          "height": 1000
        },
        "outputId": "24669a3b-9354-441b-c4a1-6a9e068c5b00"
      },
      "source": [
        "model.compile(optimizer='adam',loss='mean_squared_error')\n",
        "\n",
        "history = model.fit(X_train,Y_train, epochs = 30, validation_data = (X_val,Y_val), verbose =1)\n"
      ],
      "execution_count": null,
      "outputs": [
        {
          "output_type": "stream",
          "text": [
            "Epoch 1/30\n",
            "25/25 [==============================] - 0s 8ms/step - loss: 4.4474 - val_loss: 3.7207\n",
            "Epoch 2/30\n",
            "25/25 [==============================] - 0s 4ms/step - loss: 4.2430 - val_loss: 3.3248\n",
            "Epoch 3/30\n",
            "25/25 [==============================] - 0s 4ms/step - loss: 3.5280 - val_loss: 2.2511\n",
            "Epoch 4/30\n",
            "25/25 [==============================] - 0s 4ms/step - loss: 2.3679 - val_loss: 1.6143\n",
            "Epoch 5/30\n",
            "25/25 [==============================] - 0s 4ms/step - loss: 1.4238 - val_loss: 1.1491\n",
            "Epoch 6/30\n",
            "25/25 [==============================] - 0s 4ms/step - loss: 1.1918 - val_loss: 1.0628\n",
            "Epoch 7/30\n",
            "25/25 [==============================] - 0s 4ms/step - loss: 0.9765 - val_loss: 1.1264\n",
            "Epoch 8/30\n",
            "25/25 [==============================] - 0s 4ms/step - loss: 0.9120 - val_loss: 0.8638\n",
            "Epoch 9/30\n",
            "25/25 [==============================] - 0s 4ms/step - loss: 0.6981 - val_loss: 0.8100\n",
            "Epoch 10/30\n",
            "25/25 [==============================] - 0s 4ms/step - loss: 0.5859 - val_loss: 0.8758\n",
            "Epoch 11/30\n",
            "25/25 [==============================] - 0s 4ms/step - loss: 0.6003 - val_loss: 0.7356\n",
            "Epoch 12/30\n",
            "25/25 [==============================] - 0s 4ms/step - loss: 0.5314 - val_loss: 0.6931\n",
            "Epoch 13/30\n",
            "25/25 [==============================] - 0s 4ms/step - loss: 0.4748 - val_loss: 0.7572\n",
            "Epoch 14/30\n",
            "25/25 [==============================] - 0s 4ms/step - loss: 0.4477 - val_loss: 0.7481\n",
            "Epoch 15/30\n",
            "25/25 [==============================] - 0s 4ms/step - loss: 0.4047 - val_loss: 0.7678\n",
            "Epoch 16/30\n",
            "25/25 [==============================] - 0s 4ms/step - loss: 0.4229 - val_loss: 0.7123\n",
            "Epoch 17/30\n",
            "25/25 [==============================] - 0s 4ms/step - loss: 0.3714 - val_loss: 0.6966\n",
            "Epoch 18/30\n",
            "25/25 [==============================] - 0s 4ms/step - loss: 0.3682 - val_loss: 0.7695\n",
            "Epoch 19/30\n",
            "25/25 [==============================] - 0s 4ms/step - loss: 0.3348 - val_loss: 0.7717\n",
            "Epoch 20/30\n",
            "25/25 [==============================] - 0s 4ms/step - loss: 0.3327 - val_loss: 0.7293\n",
            "Epoch 21/30\n",
            "25/25 [==============================] - 0s 4ms/step - loss: 0.3267 - val_loss: 0.7870\n",
            "Epoch 22/30\n",
            "25/25 [==============================] - 0s 4ms/step - loss: 0.2953 - val_loss: 0.7670\n",
            "Epoch 23/30\n",
            "25/25 [==============================] - 0s 4ms/step - loss: 0.2662 - val_loss: 0.7647\n",
            "Epoch 24/30\n",
            "25/25 [==============================] - 0s 4ms/step - loss: 0.2863 - val_loss: 0.6743\n",
            "Epoch 25/30\n",
            "25/25 [==============================] - 0s 4ms/step - loss: 0.2529 - val_loss: 0.7900\n",
            "Epoch 26/30\n",
            "25/25 [==============================] - 0s 4ms/step - loss: 0.2610 - val_loss: 0.7377\n",
            "Epoch 27/30\n",
            "25/25 [==============================] - 0s 4ms/step - loss: 0.2790 - val_loss: 0.6901\n",
            "Epoch 28/30\n",
            "25/25 [==============================] - 0s 4ms/step - loss: 0.2381 - val_loss: 0.7966\n",
            "Epoch 29/30\n",
            "25/25 [==============================] - 0s 4ms/step - loss: 0.2599 - val_loss: 0.7838\n",
            "Epoch 30/30\n",
            "25/25 [==============================] - 0s 4ms/step - loss: 0.2478 - val_loss: 0.8734\n"
          ],
          "name": "stdout"
        }
      ]
    },
    {
      "cell_type": "code",
      "metadata": {
        "id": "d5CCeId1R6ps",
        "colab_type": "code",
        "colab": {
          "base_uri": "https://localhost:8080/",
          "height": 295
        },
        "outputId": "bacd73f3-f1f2-4eda-9321-171ad5cf9c37"
      },
      "source": [
        "plt.plot(history.history['loss'])\n",
        "plt.plot(history.history['val_loss'])\n",
        "plt.title('model loss')\n",
        "plt.xlabel('epoch')\n",
        "plt.legend(['train', 'val'], loc='upper left')\n",
        "plt.show()"
      ],
      "execution_count": null,
      "outputs": [
        {
          "output_type": "display_data",
          "data": {
            "image/png": "[encoded data removed]",
            "text/plain": [
              "<Figure size 432x288 with 1 Axes>"
            ]
          },
          "metadata": {
            "tags": [],
            "needs_background": "light"
          }
        }
      ]
    },
    {
      "cell_type": "code",
      "metadata": {
        "id": "maL6JOPcBWj8",
        "colab_type": "code",
        "colab": {
          "base_uri": "https://localhost:8080/",
          "height": 36
        },
        "outputId": "fe1c4bd8-c78f-4a1f-ab4a-5d9979037941"
      },
      "source": [
        "pred = model.predict(X_test)\n",
        "\n",
        "mean_squared_error(Y_test,pred)"
      ],
      "execution_count": null,
      "outputs": [
        {
          "output_type": "execute_result",
          "data": {
            "text/plain": [
              "0.9210644682801313"
            ]
          },
          "metadata": {
            "tags": []
          },
          "execution_count": 22
        }
      ]
    },
    {
      "cell_type": "markdown",
      "metadata": {
        "id": "mil0FxZoce__",
        "colab_type": "text"
      },
      "source": [
        "Loss de la predicción de la red con dropout antes de pooling: 0.92"
      ]
    },
    {
      "cell_type": "markdown",
      "metadata": {
        "id": "ya7JA4OhES4j",
        "colab_type": "text"
      },
      "source": [
        "#### Dropout entre no linealidad y convolución"
      ]
    },
    {
      "cell_type": "code",
      "metadata": {
        "id": "sWqnhdAvESd6",
        "colab_type": "code",
        "colab": {}
      },
      "source": [
        "model = tf.keras.Sequential()\n",
        "model.add(tf.keras.layers.Conv1D(64, 4, input_shape=(n_dim,n_dim)))\n",
        "model.add(tf.keras.layers.Dropout(0.25))\n",
        "model.add(tf.keras.layers.Activation('relu'))\n",
        "\n",
        "model.add(tf.keras.layers.Conv1D(64, 4))\n",
        "model.add(tf.keras.layers.Dropout(0.25))\n",
        "model.add(tf.keras.layers.Activation('relu'))\n",
        "\n",
        "model.add(tf.keras.layers.MaxPool1D(padding = 'same',strides=3))\n",
        "model.add(tf.keras.layers.Conv1D(32, 2))\n",
        "model.add(tf.keras.layers.Dropout(0.25))\n",
        "model.add(tf.keras.layers.Activation('relu'))\n",
        "\n",
        "model.add(tf.keras.layers.MaxPool1D(padding = 'same',strides=2))\n",
        "\n",
        "model.add(tf.keras.layers.Flatten())\n",
        "model.add(tf.keras.layers.Dense(64))\n",
        "model.add(tf.keras.layers.Activation('relu'))\n",
        "model.add(tf.keras.layers.Dense(32))\n",
        "model.add(tf.keras.layers.Activation('relu'))\n",
        "model.add(tf.keras.layers.Dense(16))\n",
        "model.add(tf.keras.layers.Activation('relu'))\n",
        "model.add(tf.keras.layers.Dense(1))\n",
        "model.add(tf.keras.layers.Activation('linear'))"
      ],
      "execution_count": null,
      "outputs": []
    },
    {
      "cell_type": "code",
      "metadata": {
        "id": "Bq2TxB0sFDyF",
        "colab_type": "code",
        "colab": {
          "base_uri": "https://localhost:8080/",
          "height": 764
        },
        "outputId": "721e5fac-462b-4722-e2a4-1c41b3d73728"
      },
      "source": [
        "model.compile(optimizer='adam',loss='mean_squared_error')\n",
        "\n",
        "history = model.fit(X_train,Y_train, epochs = 20, validation_data = (X_val,Y_val), verbose =1)"
      ],
      "execution_count": null,
      "outputs": [
        {
          "output_type": "stream",
          "text": [
            "Epoch 1/20\n",
            "25/25 [==============================] - 0s 17ms/step - loss: 4.2336 - val_loss: 3.3887\n",
            "Epoch 2/20\n",
            "25/25 [==============================] - 0s 4ms/step - loss: 3.9283 - val_loss: 2.9839\n",
            "Epoch 3/20\n",
            "25/25 [==============================] - 0s 4ms/step - loss: 3.1764 - val_loss: 2.6391\n",
            "Epoch 4/20\n",
            "25/25 [==============================] - 0s 4ms/step - loss: 2.3846 - val_loss: 1.7454\n",
            "Epoch 5/20\n",
            "25/25 [==============================] - 0s 4ms/step - loss: 1.7767 - val_loss: 1.5324\n",
            "Epoch 6/20\n",
            "25/25 [==============================] - 0s 4ms/step - loss: 1.6200 - val_loss: 1.3059\n",
            "Epoch 7/20\n",
            "25/25 [==============================] - 0s 4ms/step - loss: 1.4162 - val_loss: 1.2490\n",
            "Epoch 8/20\n",
            "25/25 [==============================] - 0s 4ms/step - loss: 1.2699 - val_loss: 1.1976\n",
            "Epoch 9/20\n",
            "25/25 [==============================] - 0s 4ms/step - loss: 1.1445 - val_loss: 1.1033\n",
            "Epoch 10/20\n",
            "25/25 [==============================] - 0s 4ms/step - loss: 0.9787 - val_loss: 1.0495\n",
            "Epoch 11/20\n",
            "25/25 [==============================] - 0s 4ms/step - loss: 1.0204 - val_loss: 1.1350\n",
            "Epoch 12/20\n",
            "25/25 [==============================] - 0s 4ms/step - loss: 0.9158 - val_loss: 1.0390\n",
            "Epoch 13/20\n",
            "25/25 [==============================] - 0s 4ms/step - loss: 0.9380 - val_loss: 0.9899\n",
            "Epoch 14/20\n",
            "25/25 [==============================] - 0s 4ms/step - loss: 0.8667 - val_loss: 1.0011\n",
            "Epoch 15/20\n",
            "25/25 [==============================] - 0s 4ms/step - loss: 0.8200 - val_loss: 0.9306\n",
            "Epoch 16/20\n",
            "25/25 [==============================] - 0s 4ms/step - loss: 0.7358 - val_loss: 0.9556\n",
            "Epoch 17/20\n",
            "25/25 [==============================] - 0s 4ms/step - loss: 0.6725 - val_loss: 0.8974\n",
            "Epoch 18/20\n",
            "25/25 [==============================] - 0s 4ms/step - loss: 0.6744 - val_loss: 0.9561\n",
            "Epoch 19/20\n",
            "25/25 [==============================] - 0s 4ms/step - loss: 0.6880 - val_loss: 0.9676\n",
            "Epoch 20/20\n",
            "25/25 [==============================] - 0s 4ms/step - loss: 0.6228 - val_loss: 0.8620\n"
          ],
          "name": "stdout"
        }
      ]
    },
    {
      "cell_type": "code",
      "metadata": {
        "id": "2Uhq0DpjSqHt",
        "colab_type": "code",
        "colab": {
          "base_uri": "https://localhost:8080/",
          "height": 295
        },
        "outputId": "9809588a-cd86-4d84-b550-e82caf028cd5"
      },
      "source": [
        "plt.plot(history.history['loss'])\n",
        "plt.plot(history.history['val_loss'])\n",
        "plt.title('model loss')\n",
        "plt.xlabel('epoch')\n",
        "plt.legend(['train', 'val'], loc='upper left')\n",
        "plt.show()"
      ],
      "execution_count": null,
      "outputs": [
        {
          "output_type": "display_data",
          "data": {
            "image/png": "[encoded data removed]",
            "text/plain": [
              "<Figure size 432x288 with 1 Axes>"
            ]
          },
          "metadata": {
            "tags": [],
            "needs_background": "light"
          }
        }
      ]
    },
    {
      "cell_type": "code",
      "metadata": {
        "id": "STl-6-AfFJwy",
        "colab_type": "code",
        "colab": {
          "base_uri": "https://localhost:8080/",
          "height": 36
        },
        "outputId": "a9e44a78-ad50-47d0-ffff-0621b04f5c75"
      },
      "source": [
        "pred = model.predict(X_test)\n",
        "\n",
        "mean_squared_error(Y_test,pred)"
      ],
      "execution_count": null,
      "outputs": [
        {
          "output_type": "execute_result",
          "data": {
            "text/plain": [
              "0.9706423813506615"
            ]
          },
          "metadata": {
            "tags": []
          },
          "execution_count": 43
        }
      ]
    },
    {
      "cell_type": "markdown",
      "metadata": {
        "id": "5OVK4GZ4cl5m",
        "colab_type": "text"
      },
      "source": [
        "Loss de la predicción de la red con dropout entre no linealidad y convolución: 0.97"
      ]
    },
    {
      "cell_type": "markdown",
      "metadata": {
        "id": "lo3y3BrZFTkr",
        "colab_type": "text"
      },
      "source": [
        "#### Dropout antes de convolución"
      ]
    },
    {
      "cell_type": "code",
      "metadata": {
        "id": "TayGoZNZFWiT",
        "colab_type": "code",
        "colab": {}
      },
      "source": [
        "model = tf.keras.Sequential()\n",
        "model.add(tf.keras.layers.Conv1D(64, 4, input_shape=(n_dim,n_dim)))\n",
        "model.add(tf.keras.layers.Activation('relu'))\n",
        "\n",
        "model.add(tf.keras.layers.Dropout(0.25))\n",
        "model.add(tf.keras.layers.Conv1D(64, 4))\n",
        "model.add(tf.keras.layers.Activation('relu'))\n",
        "\n",
        "model.add(tf.keras.layers.MaxPool1D(padding = 'same',strides=3))\n",
        "\n",
        "model.add(tf.keras.layers.Dropout(0.25))\n",
        "model.add(tf.keras.layers.Conv1D(32, 2))\n",
        "model.add(tf.keras.layers.Activation('relu'))\n",
        "\n",
        "model.add(tf.keras.layers.MaxPool1D(padding = 'same',strides=2))\n",
        "\n",
        "model.add(tf.keras.layers.Flatten())\n",
        "model.add(tf.keras.layers.Dense(64))\n",
        "model.add(tf.keras.layers.Activation('relu'))\n",
        "model.add(tf.keras.layers.Dense(32))\n",
        "model.add(tf.keras.layers.Activation('relu'))\n",
        "model.add(tf.keras.layers.Dense(16))\n",
        "model.add(tf.keras.layers.Activation('relu'))\n",
        "model.add(tf.keras.layers.Dense(1))\n",
        "model.add(tf.keras.layers.Activation('linear'))"
      ],
      "execution_count": null,
      "outputs": []
    },
    {
      "cell_type": "code",
      "metadata": {
        "id": "ng2cXNe1Lrmh",
        "colab_type": "code",
        "colab": {
          "base_uri": "https://localhost:8080/",
          "height": 764
        },
        "outputId": "ba3758ff-fc3b-4ee8-8155-34cf32fb484d"
      },
      "source": [
        "model.compile(optimizer='adam',loss='mean_squared_error')\n",
        "\n",
        "history = model.fit(X_train,Y_train, epochs = 20, validation_data = (X_val,Y_val), verbose =1)"
      ],
      "execution_count": null,
      "outputs": [
        {
          "output_type": "stream",
          "text": [
            "Epoch 1/20\n",
            "25/25 [==============================] - 0s 8ms/step - loss: 4.3729 - val_loss: 3.5512\n",
            "Epoch 2/20\n",
            "25/25 [==============================] - 0s 4ms/step - loss: 4.1213 - val_loss: 3.3602\n",
            "Epoch 3/20\n",
            "25/25 [==============================] - 0s 4ms/step - loss: 3.4888 - val_loss: 2.2390\n",
            "Epoch 4/20\n",
            "25/25 [==============================] - 0s 4ms/step - loss: 2.3174 - val_loss: 1.5103\n",
            "Epoch 5/20\n",
            "25/25 [==============================] - 0s 4ms/step - loss: 1.5261 - val_loss: 1.1353\n",
            "Epoch 6/20\n",
            "25/25 [==============================] - 0s 4ms/step - loss: 1.2859 - val_loss: 1.0238\n",
            "Epoch 7/20\n",
            "25/25 [==============================] - 0s 4ms/step - loss: 1.0805 - val_loss: 0.9655\n",
            "Epoch 8/20\n",
            "25/25 [==============================] - 0s 4ms/step - loss: 0.9211 - val_loss: 0.8592\n",
            "Epoch 9/20\n",
            "25/25 [==============================] - 0s 4ms/step - loss: 0.9557 - val_loss: 0.8266\n",
            "Epoch 10/20\n",
            "25/25 [==============================] - 0s 4ms/step - loss: 0.8525 - val_loss: 0.7804\n",
            "Epoch 11/20\n",
            "25/25 [==============================] - 0s 4ms/step - loss: 0.8215 - val_loss: 0.7259\n",
            "Epoch 12/20\n",
            "25/25 [==============================] - 0s 4ms/step - loss: 0.7075 - val_loss: 0.6802\n",
            "Epoch 13/20\n",
            "25/25 [==============================] - 0s 4ms/step - loss: 0.7250 - val_loss: 0.7181\n",
            "Epoch 14/20\n",
            "25/25 [==============================] - 0s 4ms/step - loss: 0.6288 - val_loss: 0.7341\n",
            "Epoch 15/20\n",
            "25/25 [==============================] - 0s 4ms/step - loss: 0.6127 - val_loss: 0.7421\n",
            "Epoch 16/20\n",
            "25/25 [==============================] - 0s 4ms/step - loss: 0.6406 - val_loss: 0.7498\n",
            "Epoch 17/20\n",
            "25/25 [==============================] - 0s 4ms/step - loss: 0.5993 - val_loss: 0.6871\n",
            "Epoch 18/20\n",
            "25/25 [==============================] - 0s 4ms/step - loss: 0.5617 - val_loss: 0.6743\n",
            "Epoch 19/20\n",
            "25/25 [==============================] - 0s 4ms/step - loss: 0.5559 - val_loss: 0.6733\n",
            "Epoch 20/20\n",
            "25/25 [==============================] - 0s 4ms/step - loss: 0.5108 - val_loss: 0.7701\n"
          ],
          "name": "stdout"
        }
      ]
    },
    {
      "cell_type": "code",
      "metadata": {
        "id": "5UX7EPSILtRR",
        "colab_type": "code",
        "colab": {
          "base_uri": "https://localhost:8080/",
          "height": 295
        },
        "outputId": "0c6286e1-b9a4-4661-8a7c-b14b71b3e829"
      },
      "source": [
        "plt.plot(history.history['loss'])\n",
        "plt.plot(history.history['val_loss'])\n",
        "plt.title('model loss')\n",
        "plt.xlabel('epoch')\n",
        "plt.legend(['train', 'val'], loc='upper left')\n",
        "plt.show()"
      ],
      "execution_count": null,
      "outputs": [
        {
          "output_type": "display_data",
          "data": {
            "image/png": "[encoded data removed]",
            "text/plain": [
              "<Figure size 432x288 with 1 Axes>"
            ]
          },
          "metadata": {
            "tags": [],
            "needs_background": "light"
          }
        }
      ]
    },
    {
      "cell_type": "code",
      "metadata": {
        "id": "X-AEhs5VXV_M",
        "colab_type": "code",
        "colab": {
          "base_uri": "https://localhost:8080/",
          "height": 36
        },
        "outputId": "84bb3c98-7a16-4ce4-962a-2d50977471ab"
      },
      "source": [
        "pred = model.predict(X_test)\n",
        "\n",
        "mean_squared_error(Y_test,pred)"
      ],
      "execution_count": null,
      "outputs": [
        {
          "output_type": "execute_result",
          "data": {
            "text/plain": [
              "0.7689407482786692"
            ]
          },
          "metadata": {
            "tags": []
          },
          "execution_count": 52
        }
      ]
    },
    {
      "cell_type": "markdown",
      "metadata": {
        "id": "8dHru2aFc-QF",
        "colab_type": "text"
      },
      "source": [
        "Loss de la predicción de la red con dropout antes de la convolución: 0.76"
      ]
    },
    {
      "cell_type": "markdown",
      "metadata": {
        "id": "eL3AnGguMUsQ",
        "colab_type": "text"
      },
      "source": [
        "### Batch Normalization "
      ]
    },
    {
      "cell_type": "markdown",
      "metadata": {
        "id": "AKKOFHENMe4p",
        "colab_type": "text"
      },
      "source": [
        "#### Batch Normalization antes de la convolución"
      ]
    },
    {
      "cell_type": "code",
      "metadata": {
        "id": "unOKxHvTihOK",
        "colab_type": "code",
        "colab": {}
      },
      "source": [
        "model = tf.keras.Sequential()\n",
        "model.add(tf.keras.layers.Conv1D(64, 4, input_shape=(n_dim,n_dim)))\n",
        "model.add(tf.keras.layers.Activation('relu'))\n",
        "\n",
        "model.add(tf.keras.layers.BatchNormalization())\n",
        "model.add(tf.keras.layers.Conv1D(64, 4))\n",
        "model.add(tf.keras.layers.Activation('relu'))\n",
        "\n",
        "model.add(tf.keras.layers.MaxPool1D(padding = 'same',strides=3))\n",
        "\n",
        "model.add(tf.keras.layers.BatchNormalization())\n",
        "model.add(tf.keras.layers.Conv1D(32, 2))\n",
        "model.add(tf.keras.layers.Activation('relu'))\n",
        "\n",
        "model.add(tf.keras.layers.MaxPool1D(padding = 'same',strides=2))\n",
        "\n",
        "model.add(tf.keras.layers.Flatten())\n",
        "model.add(tf.keras.layers.Dense(64))\n",
        "model.add(tf.keras.layers.Activation('relu'))\n",
        "model.add(tf.keras.layers.Dense(32))\n",
        "model.add(tf.keras.layers.Activation('relu'))\n",
        "model.add(tf.keras.layers.Dense(16))\n",
        "model.add(tf.keras.layers.Activation('relu'))\n",
        "model.add(tf.keras.layers.Dense(1))\n",
        "model.add(tf.keras.layers.Activation('linear'))"
      ],
      "execution_count": null,
      "outputs": []
    },
    {
      "cell_type": "code",
      "metadata": {
        "id": "GIdUtZOLioj3",
        "colab_type": "code",
        "colab": {
          "base_uri": "https://localhost:8080/",
          "height": 578
        },
        "outputId": "1402d9ca-4240-4e37-9f7a-8e3cd4376199"
      },
      "source": [
        "model.compile(optimizer='adam',loss='mean_squared_error')\n",
        "\n",
        "history = model.fit(X_train,Y_train, epochs = 15, validation_data = (X_val,Y_val), verbose =1)"
      ],
      "execution_count": null,
      "outputs": [
        {
          "output_type": "stream",
          "text": [
            "Epoch 1/15\n",
            "25/25 [==============================] - 0s 10ms/step - loss: 3.9061 - val_loss: 3.5071\n",
            "Epoch 2/15\n",
            "25/25 [==============================] - 0s 5ms/step - loss: 2.0122 - val_loss: 2.8536\n",
            "Epoch 3/15\n",
            "25/25 [==============================] - 0s 5ms/step - loss: 0.9459 - val_loss: 2.6345\n",
            "Epoch 4/15\n",
            "25/25 [==============================] - 0s 5ms/step - loss: 0.4896 - val_loss: 2.3681\n",
            "Epoch 5/15\n",
            "25/25 [==============================] - 0s 4ms/step - loss: 0.3136 - val_loss: 2.2265\n",
            "Epoch 6/15\n",
            "25/25 [==============================] - 0s 4ms/step - loss: 0.2385 - val_loss: 2.1314\n",
            "Epoch 7/15\n",
            "25/25 [==============================] - 0s 4ms/step - loss: 0.1664 - val_loss: 2.0299\n",
            "Epoch 8/15\n",
            "25/25 [==============================] - 0s 5ms/step - loss: 0.1729 - val_loss: 1.9506\n",
            "Epoch 9/15\n",
            "25/25 [==============================] - 0s 4ms/step - loss: 0.1239 - val_loss: 1.7752\n",
            "Epoch 10/15\n",
            "25/25 [==============================] - 0s 5ms/step - loss: 0.1335 - val_loss: 1.6644\n",
            "Epoch 11/15\n",
            "25/25 [==============================] - 0s 5ms/step - loss: 0.1128 - val_loss: 1.6197\n",
            "Epoch 12/15\n",
            "25/25 [==============================] - 0s 5ms/step - loss: 0.1021 - val_loss: 1.6254\n",
            "Epoch 13/15\n",
            "25/25 [==============================] - 0s 5ms/step - loss: 0.0960 - val_loss: 1.5174\n",
            "Epoch 14/15\n",
            "25/25 [==============================] - 0s 4ms/step - loss: 0.0802 - val_loss: 1.4833\n",
            "Epoch 15/15\n",
            "25/25 [==============================] - 0s 4ms/step - loss: 0.0628 - val_loss: 1.3769\n"
          ],
          "name": "stdout"
        }
      ]
    },
    {
      "cell_type": "code",
      "metadata": {
        "id": "7ZsB2_hiiqgY",
        "colab_type": "code",
        "colab": {
          "base_uri": "https://localhost:8080/",
          "height": 295
        },
        "outputId": "95c7cb51-5ec2-4a62-f099-a653338d923c"
      },
      "source": [
        "plt.plot(history.history['loss'])\n",
        "plt.plot(history.history['val_loss'])\n",
        "plt.title('model loss')\n",
        "plt.xlabel('epoch')\n",
        "plt.legend(['train', 'val'], loc='upper left')\n",
        "plt.show()"
      ],
      "execution_count": null,
      "outputs": [
        {
          "output_type": "display_data",
          "data": {
            "image/png": "[encoded data removed]",
            "text/plain": [
              "<Figure size 432x288 with 1 Axes>"
            ]
          },
          "metadata": {
            "tags": [],
            "needs_background": "light"
          }
        }
      ]
    },
    {
      "cell_type": "code",
      "metadata": {
        "id": "EJgGF39xirz5",
        "colab_type": "code",
        "colab": {
          "base_uri": "https://localhost:8080/",
          "height": 36
        },
        "outputId": "d149ec7c-751d-43e7-ff9b-2339213f495c"
      },
      "source": [
        "pred = model.predict(X_test)\n",
        "\n",
        "mean_squared_error(Y_test,pred)"
      ],
      "execution_count": null,
      "outputs": [
        {
          "output_type": "execute_result",
          "data": {
            "text/plain": [
              "1.6201520881354072"
            ]
          },
          "metadata": {
            "tags": []
          },
          "execution_count": 56
        }
      ]
    },
    {
      "cell_type": "markdown",
      "metadata": {
        "id": "X9Qu7wRkdNV3",
        "colab_type": "text"
      },
      "source": [
        "Loss de la predicción de la red con Batchnormalization antes de la convolución: 1.62"
      ]
    },
    {
      "cell_type": "markdown",
      "metadata": {
        "id": "Q4Q2YVk0Mji_",
        "colab_type": "text"
      },
      "source": [
        "#### Batch Normalization entre no linealidad y convolución"
      ]
    },
    {
      "cell_type": "code",
      "metadata": {
        "id": "9wAjg2nljXOE",
        "colab_type": "code",
        "colab": {}
      },
      "source": [
        "model = tf.keras.Sequential()\n",
        "model.add(tf.keras.layers.Conv1D(64, 4, input_shape=(n_dim,n_dim)))\n",
        "model.add(tf.keras.layers.BatchNormalization())\n",
        "model.add(tf.keras.layers.Activation('relu'))\n",
        "\n",
        "model.add(tf.keras.layers.Conv1D(64, 4))\n",
        "model.add(tf.keras.layers.BatchNormalization())\n",
        "model.add(tf.keras.layers.Activation('relu'))\n",
        "\n",
        "model.add(tf.keras.layers.MaxPool1D(padding = 'same',strides=3))\n",
        "\n",
        "\n",
        "model.add(tf.keras.layers.Conv1D(32, 2))\n",
        "model.add(tf.keras.layers.BatchNormalization())\n",
        "model.add(tf.keras.layers.Activation('relu'))\n",
        "\n",
        "model.add(tf.keras.layers.MaxPool1D(padding = 'same',strides=2))\n",
        "\n",
        "model.add(tf.keras.layers.Flatten())\n",
        "model.add(tf.keras.layers.Dense(64))\n",
        "model.add(tf.keras.layers.Activation('relu'))\n",
        "model.add(tf.keras.layers.Dense(32))\n",
        "model.add(tf.keras.layers.Activation('relu'))\n",
        "model.add(tf.keras.layers.Dense(16))\n",
        "model.add(tf.keras.layers.Activation('relu'))\n",
        "model.add(tf.keras.layers.Dense(1))\n",
        "model.add(tf.keras.layers.Activation('linear'))"
      ],
      "execution_count": null,
      "outputs": []
    },
    {
      "cell_type": "code",
      "metadata": {
        "id": "Nbrg-rfIjdtz",
        "colab_type": "code",
        "colab": {
          "base_uri": "https://localhost:8080/",
          "height": 578
        },
        "outputId": "a87c2b6a-b240-4c5c-c986-a15e1f279f14"
      },
      "source": [
        "model.compile(optimizer='adam',loss='mean_squared_error')\n",
        "\n",
        "history = model.fit(X_train,Y_train, epochs = 15, validation_data = (X_val,Y_val), verbose =1)"
      ],
      "execution_count": null,
      "outputs": [
        {
          "output_type": "stream",
          "text": [
            "Epoch 1/15\n",
            "25/25 [==============================] - 0s 10ms/step - loss: 3.9595 - val_loss: 3.5410\n",
            "Epoch 2/15\n",
            "25/25 [==============================] - 0s 5ms/step - loss: 2.3301 - val_loss: 3.0899\n",
            "Epoch 3/15\n",
            "25/25 [==============================] - 0s 5ms/step - loss: 1.3111 - val_loss: 2.8833\n",
            "Epoch 4/15\n",
            "25/25 [==============================] - 0s 5ms/step - loss: 0.6679 - val_loss: 2.6049\n",
            "Epoch 5/15\n",
            "25/25 [==============================] - 0s 5ms/step - loss: 0.5226 - val_loss: 2.4622\n",
            "Epoch 6/15\n",
            "25/25 [==============================] - 0s 5ms/step - loss: 0.3253 - val_loss: 2.2629\n",
            "Epoch 7/15\n",
            "25/25 [==============================] - 0s 5ms/step - loss: 0.2468 - val_loss: 2.1437\n",
            "Epoch 8/15\n",
            "25/25 [==============================] - 0s 5ms/step - loss: 0.3312 - val_loss: 1.9523\n",
            "Epoch 9/15\n",
            "25/25 [==============================] - 0s 5ms/step - loss: 0.2403 - val_loss: 1.8439\n",
            "Epoch 10/15\n",
            "25/25 [==============================] - 0s 5ms/step - loss: 0.2652 - val_loss: 1.7647\n",
            "Epoch 11/15\n",
            "25/25 [==============================] - 0s 5ms/step - loss: 0.2979 - val_loss: 1.7202\n",
            "Epoch 12/15\n",
            "25/25 [==============================] - 0s 5ms/step - loss: 0.2083 - val_loss: 1.7559\n",
            "Epoch 13/15\n",
            "25/25 [==============================] - 0s 5ms/step - loss: 0.2470 - val_loss: 1.6518\n",
            "Epoch 14/15\n",
            "25/25 [==============================] - 0s 5ms/step - loss: 0.1949 - val_loss: 1.5864\n",
            "Epoch 15/15\n",
            "25/25 [==============================] - 0s 5ms/step - loss: 0.1718 - val_loss: 1.5856\n"
          ],
          "name": "stdout"
        }
      ]
    },
    {
      "cell_type": "code",
      "metadata": {
        "id": "ZMkXeqbojaiQ",
        "colab_type": "code",
        "colab": {
          "base_uri": "https://localhost:8080/",
          "height": 295
        },
        "outputId": "da5eb527-2f70-4f6d-fba3-c0562914fa50"
      },
      "source": [
        "plt.plot(history.history['loss'])\n",
        "plt.plot(history.history['val_loss'])\n",
        "plt.title('model loss')\n",
        "plt.xlabel('epoch')\n",
        "plt.legend(['train', 'val'], loc='upper left')\n",
        "plt.show()"
      ],
      "execution_count": null,
      "outputs": [
        {
          "output_type": "display_data",
          "data": {
            "image/png": "[encoded data removed]",
            "text/plain": [
              "<Figure size 432x288 with 1 Axes>"
            ]
          },
          "metadata": {
            "tags": [],
            "needs_background": "light"
          }
        }
      ]
    },
    {
      "cell_type": "code",
      "metadata": {
        "id": "0QVisSEmjfqQ",
        "colab_type": "code",
        "colab": {
          "base_uri": "https://localhost:8080/",
          "height": 36
        },
        "outputId": "cb943c4e-a617-49a2-9e55-1522452264eb"
      },
      "source": [
        "pred = model.predict(X_test)\n",
        "\n",
        "mean_squared_error(Y_test,pred)"
      ],
      "execution_count": null,
      "outputs": [
        {
          "output_type": "execute_result",
          "data": {
            "text/plain": [
              "1.5826141950392587"
            ]
          },
          "metadata": {
            "tags": []
          },
          "execution_count": 82
        }
      ]
    },
    {
      "cell_type": "markdown",
      "metadata": {
        "id": "pImHDhrjdHdA",
        "colab_type": "text"
      },
      "source": [
        "Loss de la predicción de la red con Batchnormalization entre no linealidad y convolución: 1.58"
      ]
    },
    {
      "cell_type": "markdown",
      "metadata": {
        "id": "W__6g-goMjde",
        "colab_type": "text"
      },
      "source": [
        "### Modelo con ambos"
      ]
    },
    {
      "cell_type": "markdown",
      "metadata": {
        "id": "w3I1TWKPmEv2",
        "colab_type": "text"
      },
      "source": [
        "#### Dropout antes de Pooling y Batchnormalization antes de la convolución"
      ]
    },
    {
      "cell_type": "code",
      "metadata": {
        "id": "v4Y5qNr3MT8o",
        "colab_type": "code",
        "colab": {}
      },
      "source": [
        "model = tf.keras.Sequential()\n",
        "model.add(tf.keras.layers.Conv1D(64, 4, input_shape=(n_dim,n_dim)))\n",
        "model.add(tf.keras.layers.Activation('relu'))\n",
        "\n",
        "model.add(tf.keras.layers.BatchNormalization())\n",
        "model.add(tf.keras.layers.Conv1D(64, 4))\n",
        "model.add(tf.keras.layers.Activation('relu'))\n",
        "\n",
        "model.add(tf.keras.layers.Dropout(0.25))\n",
        "model.add(tf.keras.layers.MaxPool1D(padding = 'same',strides=3))\n",
        "model.add(tf.keras.layers.BatchNormalization())\n",
        "model.add(tf.keras.layers.Conv1D(32, 2))\n",
        "model.add(tf.keras.layers.Activation('relu'))\n",
        "\n",
        "model.add(tf.keras.layers.Dropout(0.25))\n",
        "model.add(tf.keras.layers.MaxPool1D(padding = 'same',strides=2))\n",
        "\n",
        "model.add(tf.keras.layers.Flatten())\n",
        "model.add(tf.keras.layers.Dense(64))\n",
        "model.add(tf.keras.layers.Activation('relu'))\n",
        "model.add(tf.keras.layers.Dense(32))\n",
        "model.add(tf.keras.layers.Activation('relu'))\n",
        "model.add(tf.keras.layers.Dense(16))\n",
        "model.add(tf.keras.layers.Activation('relu'))\n",
        "model.add(tf.keras.layers.Dense(1))\n",
        "model.add(tf.keras.layers.Activation('linear'))"
      ],
      "execution_count": null,
      "outputs": []
    },
    {
      "cell_type": "code",
      "metadata": {
        "id": "RkozXIdmhf1c",
        "colab_type": "code",
        "colab": {
          "base_uri": "https://localhost:8080/",
          "height": 764
        },
        "outputId": "d25f26d4-6b7c-4224-e15b-7ca8bb5aae30"
      },
      "source": [
        "model.compile(optimizer='adam',loss='mean_squared_error')\n",
        "\n",
        "history = model.fit(X_train,Y_train, epochs = 20, validation_data = (X_val,Y_val), verbose =1)"
      ],
      "execution_count": null,
      "outputs": [
        {
          "output_type": "stream",
          "text": [
            "Epoch 1/20\n",
            "25/25 [==============================] - 0s 10ms/step - loss: 4.1911 - val_loss: 3.6891\n",
            "Epoch 2/20\n",
            "25/25 [==============================] - 0s 5ms/step - loss: 3.5480 - val_loss: 3.4780\n",
            "Epoch 3/20\n",
            "25/25 [==============================] - 0s 5ms/step - loss: 2.7458 - val_loss: 3.1583\n",
            "Epoch 4/20\n",
            "25/25 [==============================] - 0s 4ms/step - loss: 1.9955 - val_loss: 2.9088\n",
            "Epoch 5/20\n",
            "25/25 [==============================] - 0s 4ms/step - loss: 1.5387 - val_loss: 2.5555\n",
            "Epoch 6/20\n",
            "25/25 [==============================] - 0s 4ms/step - loss: 1.2522 - val_loss: 2.2689\n",
            "Epoch 7/20\n",
            "25/25 [==============================] - 0s 5ms/step - loss: 1.1613 - val_loss: 2.1688\n",
            "Epoch 8/20\n",
            "25/25 [==============================] - 0s 5ms/step - loss: 1.0588 - val_loss: 1.9756\n",
            "Epoch 9/20\n",
            "25/25 [==============================] - 0s 5ms/step - loss: 0.8929 - val_loss: 1.7823\n",
            "Epoch 10/20\n",
            "25/25 [==============================] - 0s 5ms/step - loss: 0.7931 - val_loss: 1.5678\n",
            "Epoch 11/20\n",
            "25/25 [==============================] - 0s 5ms/step - loss: 0.7703 - val_loss: 1.5903\n",
            "Epoch 12/20\n",
            "25/25 [==============================] - 0s 5ms/step - loss: 0.7192 - val_loss: 1.4304\n",
            "Epoch 13/20\n",
            "25/25 [==============================] - 0s 5ms/step - loss: 0.6704 - val_loss: 1.4394\n",
            "Epoch 14/20\n",
            "25/25 [==============================] - 0s 5ms/step - loss: 0.6870 - val_loss: 1.2538\n",
            "Epoch 15/20\n",
            "25/25 [==============================] - 0s 5ms/step - loss: 0.6259 - val_loss: 1.2878\n",
            "Epoch 16/20\n",
            "25/25 [==============================] - 0s 5ms/step - loss: 0.5410 - val_loss: 1.2195\n",
            "Epoch 17/20\n",
            "25/25 [==============================] - 0s 5ms/step - loss: 0.5300 - val_loss: 1.1319\n",
            "Epoch 18/20\n",
            "25/25 [==============================] - 0s 5ms/step - loss: 0.5422 - val_loss: 1.0086\n",
            "Epoch 19/20\n",
            "25/25 [==============================] - 0s 5ms/step - loss: 0.5087 - val_loss: 0.9480\n",
            "Epoch 20/20\n",
            "25/25 [==============================] - 0s 5ms/step - loss: 0.4532 - val_loss: 0.9391\n"
          ],
          "name": "stdout"
        }
      ]
    },
    {
      "cell_type": "code",
      "metadata": {
        "id": "h2WnCIQahcUI",
        "colab_type": "code",
        "colab": {
          "base_uri": "https://localhost:8080/",
          "height": 295
        },
        "outputId": "39b494ac-2358-468d-c5fd-2179881f34b2"
      },
      "source": [
        "plt.plot(history.history['loss'])\n",
        "plt.plot(history.history['val_loss'])\n",
        "plt.title('model loss')\n",
        "plt.xlabel('epoch')\n",
        "plt.legend(['train', 'val'], loc='upper left')\n",
        "plt.show()"
      ],
      "execution_count": null,
      "outputs": [
        {
          "output_type": "display_data",
          "data": {
            "image/png": "[encoded data removed]",
            "text/plain": [
              "<Figure size 432x288 with 1 Axes>"
            ]
          },
          "metadata": {
            "tags": [],
            "needs_background": "light"
          }
        }
      ]
    },
    {
      "cell_type": "code",
      "metadata": {
        "id": "l5Yk5Sq-hdqa",
        "colab_type": "code",
        "colab": {
          "base_uri": "https://localhost:8080/",
          "height": 36
        },
        "outputId": "dc0f3df8-2c34-4258-8612-c7ef0356b599"
      },
      "source": [
        "pred = model.predict(X_test)\n",
        "\n",
        "mean_squared_error(Y_test,pred)"
      ],
      "execution_count": null,
      "outputs": [
        {
          "output_type": "execute_result",
          "data": {
            "text/plain": [
              "1.2379382340975367"
            ]
          },
          "metadata": {
            "tags": []
          },
          "execution_count": 86
        }
      ]
    },
    {
      "cell_type": "markdown",
      "metadata": {
        "id": "mY4g7gI_hz4l",
        "colab_type": "text"
      },
      "source": [
        "Loss de la predicción de la red Dropout antes de Pooling y Batchnormalization antes de la convolución: 1.23"
      ]
    },
    {
      "cell_type": "markdown",
      "metadata": {
        "id": "5Vd6GejSiGe1",
        "colab_type": "text"
      },
      "source": [
        "#### Dropout antes de Pooling y Batchnormalization entre no linealidad y convolución"
      ]
    },
    {
      "cell_type": "code",
      "metadata": {
        "id": "YEpDiqvJh8sb",
        "colab_type": "code",
        "colab": {}
      },
      "source": [
        "model = tf.keras.Sequential()\n",
        "model.add(tf.keras.layers.Conv1D(64, 4, input_shape=(n_dim,n_dim)))\n",
        "model.add(tf.keras.layers.BatchNormalization())\n",
        "model.add(tf.keras.layers.Activation('relu'))\n",
        "\n",
        "model.add(tf.keras.layers.Conv1D(64, 4))\n",
        "model.add(tf.keras.layers.BatchNormalization())\n",
        "model.add(tf.keras.layers.Activation('relu'))\n",
        "\n",
        "model.add(tf.keras.layers.Dropout(0.25))\n",
        "model.add(tf.keras.layers.MaxPool1D(padding = 'same',strides=3))\n",
        "model.add(tf.keras.layers.Conv1D(32, 2))\n",
        "model.add(tf.keras.layers.BatchNormalization())\n",
        "model.add(tf.keras.layers.Activation('relu'))\n",
        "\n",
        "model.add(tf.keras.layers.Dropout(0.25))\n",
        "model.add(tf.keras.layers.MaxPool1D(padding = 'same',strides=2))\n",
        "\n",
        "model.add(tf.keras.layers.Flatten())\n",
        "model.add(tf.keras.layers.Dense(64))\n",
        "model.add(tf.keras.layers.Activation('relu'))\n",
        "model.add(tf.keras.layers.Dense(32))\n",
        "model.add(tf.keras.layers.Activation('relu'))\n",
        "model.add(tf.keras.layers.Dense(16))\n",
        "model.add(tf.keras.layers.Activation('relu'))\n",
        "model.add(tf.keras.layers.Dense(1))\n",
        "model.add(tf.keras.layers.Activation('linear'))"
      ],
      "execution_count": null,
      "outputs": []
    },
    {
      "cell_type": "code",
      "metadata": {
        "id": "YKcL0T8Nh_dW",
        "colab_type": "code",
        "colab": {
          "base_uri": "https://localhost:8080/",
          "height": 764
        },
        "outputId": "546007f0-af1e-47ba-f4bc-af0c87728f56"
      },
      "source": [
        "model.compile(optimizer='adam',loss='mean_squared_error')\n",
        "\n",
        "history = model.fit(X_train,Y_train, epochs = 20, validation_data = (X_val,Y_val), verbose =1)"
      ],
      "execution_count": null,
      "outputs": [
        {
          "output_type": "stream",
          "text": [
            "Epoch 1/20\n",
            "25/25 [==============================] - 0s 10ms/step - loss: 4.0779 - val_loss: 3.5207\n",
            "Epoch 2/20\n",
            "25/25 [==============================] - 0s 5ms/step - loss: 3.2933 - val_loss: 3.2316\n",
            "Epoch 3/20\n",
            "25/25 [==============================] - 0s 5ms/step - loss: 2.3677 - val_loss: 2.8085\n",
            "Epoch 4/20\n",
            "25/25 [==============================] - 0s 5ms/step - loss: 1.7776 - val_loss: 2.4614\n",
            "Epoch 5/20\n",
            "25/25 [==============================] - 0s 5ms/step - loss: 1.3225 - val_loss: 2.1196\n",
            "Epoch 6/20\n",
            "25/25 [==============================] - 0s 5ms/step - loss: 1.2485 - val_loss: 1.8626\n",
            "Epoch 7/20\n",
            "25/25 [==============================] - 0s 5ms/step - loss: 1.1054 - val_loss: 1.8726\n",
            "Epoch 8/20\n",
            "25/25 [==============================] - 0s 5ms/step - loss: 1.0386 - val_loss: 1.5850\n",
            "Epoch 9/20\n",
            "25/25 [==============================] - 0s 5ms/step - loss: 0.9282 - val_loss: 1.5038\n",
            "Epoch 10/20\n",
            "25/25 [==============================] - 0s 5ms/step - loss: 0.9015 - val_loss: 1.2947\n",
            "Epoch 11/20\n",
            "25/25 [==============================] - 0s 5ms/step - loss: 0.7471 - val_loss: 1.2849\n",
            "Epoch 12/20\n",
            "25/25 [==============================] - 0s 5ms/step - loss: 0.8164 - val_loss: 1.1097\n",
            "Epoch 13/20\n",
            "25/25 [==============================] - 0s 5ms/step - loss: 0.7830 - val_loss: 1.1201\n",
            "Epoch 14/20\n",
            "25/25 [==============================] - 0s 5ms/step - loss: 0.6812 - val_loss: 1.1666\n",
            "Epoch 15/20\n",
            "25/25 [==============================] - 0s 5ms/step - loss: 0.6110 - val_loss: 1.0767\n",
            "Epoch 16/20\n",
            "25/25 [==============================] - 0s 5ms/step - loss: 0.6296 - val_loss: 1.0372\n",
            "Epoch 17/20\n",
            "25/25 [==============================] - 0s 5ms/step - loss: 0.5878 - val_loss: 1.0639\n",
            "Epoch 18/20\n",
            "25/25 [==============================] - 0s 5ms/step - loss: 0.5774 - val_loss: 1.0747\n",
            "Epoch 19/20\n",
            "25/25 [==============================] - 0s 5ms/step - loss: 0.6528 - val_loss: 1.0282\n",
            "Epoch 20/20\n",
            "25/25 [==============================] - 0s 5ms/step - loss: 0.5480 - val_loss: 1.0104\n"
          ],
          "name": "stdout"
        }
      ]
    },
    {
      "cell_type": "code",
      "metadata": {
        "id": "T_SH7zKTiAve",
        "colab_type": "code",
        "colab": {
          "base_uri": "https://localhost:8080/",
          "height": 295
        },
        "outputId": "4d2e32a8-fafd-4df8-8b64-a61e70a2efb7"
      },
      "source": [
        "plt.plot(history.history['loss'])\n",
        "plt.plot(history.history['val_loss'])\n",
        "plt.title('model loss')\n",
        "plt.xlabel('epoch')\n",
        "plt.legend(['train', 'val'], loc='upper left')\n",
        "plt.show()"
      ],
      "execution_count": null,
      "outputs": [
        {
          "output_type": "display_data",
          "data": {
            "image/png": "[encoded data removed]",
            "text/plain": [
              "<Figure size 432x288 with 1 Axes>"
            ]
          },
          "metadata": {
            "tags": [],
            "needs_background": "light"
          }
        }
      ]
    },
    {
      "cell_type": "code",
      "metadata": {
        "id": "k6-YZVLTiBzM",
        "colab_type": "code",
        "colab": {
          "base_uri": "https://localhost:8080/",
          "height": 36
        },
        "outputId": "23beb8a9-b99d-485d-9f91-01e2e7f2410b"
      },
      "source": [
        "pred = model.predict(X_test)\n",
        "\n",
        "mean_squared_error(Y_test,pred)"
      ],
      "execution_count": null,
      "outputs": [
        {
          "output_type": "execute_result",
          "data": {
            "text/plain": [
              "0.9750769146363494"
            ]
          },
          "metadata": {
            "tags": []
          },
          "execution_count": 90
        }
      ]
    },
    {
      "cell_type": "markdown",
      "metadata": {
        "id": "OyeKwsRli9YO",
        "colab_type": "text"
      },
      "source": [
        "Loss de la predicción de la red Dropout antes de Pooling y Batchnormalization entre no linealidad y convolución: 0,97"
      ]
    },
    {
      "cell_type": "markdown",
      "metadata": {
        "id": "emHSU9h-jKqP",
        "colab_type": "text"
      },
      "source": [
        "#### Dropout entre no linealidad y convolución y Batchnormalization antes de la convolución"
      ]
    },
    {
      "cell_type": "code",
      "metadata": {
        "id": "LWjqHMJJjc1F",
        "colab_type": "code",
        "colab": {}
      },
      "source": [
        "model = tf.keras.Sequential()\n",
        "model.add(tf.keras.layers.Conv1D(64, 4, input_shape=(n_dim,n_dim)))\n",
        "model.add(tf.keras.layers.Dropout(0.25))\n",
        "model.add(tf.keras.layers.Activation('relu'))\n",
        "\n",
        "model.add(tf.keras.layers.BatchNormalization())\n",
        "model.add(tf.keras.layers.Conv1D(64, 4))\n",
        "model.add(tf.keras.layers.Dropout(0.25))\n",
        "model.add(tf.keras.layers.Activation('relu'))\n",
        "\n",
        "model.add(tf.keras.layers.MaxPool1D(padding = 'same',strides=3))\n",
        "\n",
        "model.add(tf.keras.layers.BatchNormalization())\n",
        "model.add(tf.keras.layers.Conv1D(32, 2))\n",
        "model.add(tf.keras.layers.Dropout(0.25))\n",
        "model.add(tf.keras.layers.Activation('relu'))\n",
        "\n",
        "model.add(tf.keras.layers.MaxPool1D(padding = 'same',strides=2))\n",
        "\n",
        "model.add(tf.keras.layers.Flatten())\n",
        "model.add(tf.keras.layers.Dense(64))\n",
        "model.add(tf.keras.layers.Activation('relu'))\n",
        "model.add(tf.keras.layers.Dense(32))\n",
        "model.add(tf.keras.layers.Activation('relu'))\n",
        "model.add(tf.keras.layers.Dense(16))\n",
        "model.add(tf.keras.layers.Activation('relu'))\n",
        "model.add(tf.keras.layers.Dense(1))\n",
        "model.add(tf.keras.layers.Activation('linear'))"
      ],
      "execution_count": null,
      "outputs": []
    },
    {
      "cell_type": "code",
      "metadata": {
        "id": "pJQBUZTik1N9",
        "colab_type": "code",
        "colab": {
          "base_uri": "https://localhost:8080/",
          "height": 1000
        },
        "outputId": "035cc1ee-2912-4a43-f5c3-328f4b9a2c92"
      },
      "source": [
        "model.compile(optimizer='adam',loss='mean_squared_error')\n",
        "\n",
        "history = model.fit(X_train,Y_train, epochs = 30, validation_data = (X_val,Y_val), verbose =1)"
      ],
      "execution_count": null,
      "outputs": [
        {
          "output_type": "stream",
          "text": [
            "Epoch 1/30\n",
            "25/25 [==============================] - 0s 9ms/step - loss: 4.5124 - val_loss: 3.6766\n",
            "Epoch 2/30\n",
            "25/25 [==============================] - 0s 5ms/step - loss: 3.9680 - val_loss: 3.5755\n",
            "Epoch 3/30\n",
            "25/25 [==============================] - 0s 5ms/step - loss: 3.4839 - val_loss: 3.2737\n",
            "Epoch 4/30\n",
            "25/25 [==============================] - 0s 4ms/step - loss: 2.8822 - val_loss: 2.7453\n",
            "Epoch 5/30\n",
            "25/25 [==============================] - 0s 4ms/step - loss: 2.2664 - val_loss: 2.4511\n",
            "Epoch 6/30\n",
            "25/25 [==============================] - 0s 5ms/step - loss: 1.9860 - val_loss: 2.1393\n",
            "Epoch 7/30\n",
            "25/25 [==============================] - 0s 5ms/step - loss: 1.7400 - val_loss: 2.0480\n",
            "Epoch 8/30\n",
            "25/25 [==============================] - 0s 5ms/step - loss: 1.5059 - val_loss: 1.8527\n",
            "Epoch 9/30\n",
            "25/25 [==============================] - 0s 5ms/step - loss: 1.3923 - val_loss: 1.7064\n",
            "Epoch 10/30\n",
            "25/25 [==============================] - 0s 5ms/step - loss: 1.3159 - val_loss: 1.5425\n",
            "Epoch 11/30\n",
            "25/25 [==============================] - 0s 5ms/step - loss: 1.1728 - val_loss: 1.4965\n",
            "Epoch 12/30\n",
            "25/25 [==============================] - 0s 5ms/step - loss: 1.1275 - val_loss: 1.2907\n",
            "Epoch 13/30\n",
            "25/25 [==============================] - 0s 4ms/step - loss: 1.0946 - val_loss: 1.3712\n",
            "Epoch 14/30\n",
            "25/25 [==============================] - 0s 4ms/step - loss: 1.0804 - val_loss: 1.1789\n",
            "Epoch 15/30\n",
            "25/25 [==============================] - 0s 5ms/step - loss: 1.0928 - val_loss: 1.1074\n",
            "Epoch 16/30\n",
            "25/25 [==============================] - 0s 5ms/step - loss: 0.9612 - val_loss: 1.0905\n",
            "Epoch 17/30\n",
            "25/25 [==============================] - 0s 5ms/step - loss: 0.9632 - val_loss: 0.9798\n",
            "Epoch 18/30\n",
            "25/25 [==============================] - 0s 5ms/step - loss: 0.9075 - val_loss: 1.0318\n",
            "Epoch 19/30\n",
            "25/25 [==============================] - 0s 5ms/step - loss: 0.9064 - val_loss: 0.9865\n",
            "Epoch 20/30\n",
            "25/25 [==============================] - 0s 5ms/step - loss: 0.8196 - val_loss: 0.9262\n",
            "Epoch 21/30\n",
            "25/25 [==============================] - 0s 5ms/step - loss: 0.7341 - val_loss: 0.9506\n",
            "Epoch 22/30\n",
            "25/25 [==============================] - 0s 4ms/step - loss: 0.7508 - val_loss: 0.8942\n",
            "Epoch 23/30\n",
            "25/25 [==============================] - 0s 5ms/step - loss: 0.8294 - val_loss: 0.9605\n",
            "Epoch 24/30\n",
            "25/25 [==============================] - 0s 5ms/step - loss: 0.7246 - val_loss: 0.9531\n",
            "Epoch 25/30\n",
            "25/25 [==============================] - 0s 5ms/step - loss: 0.7282 - val_loss: 0.8990\n",
            "Epoch 26/30\n",
            "25/25 [==============================] - 0s 5ms/step - loss: 0.6517 - val_loss: 0.8422\n",
            "Epoch 27/30\n",
            "25/25 [==============================] - 0s 5ms/step - loss: 0.7559 - val_loss: 0.9775\n",
            "Epoch 28/30\n",
            "25/25 [==============================] - 0s 5ms/step - loss: 0.7167 - val_loss: 0.8291\n",
            "Epoch 29/30\n",
            "25/25 [==============================] - 0s 4ms/step - loss: 0.6838 - val_loss: 0.8728\n",
            "Epoch 30/30\n",
            "25/25 [==============================] - 0s 5ms/step - loss: 0.6924 - val_loss: 0.9120\n"
          ],
          "name": "stdout"
        }
      ]
    },
    {
      "cell_type": "code",
      "metadata": {
        "id": "apxhrAtbk3O_",
        "colab_type": "code",
        "colab": {
          "base_uri": "https://localhost:8080/",
          "height": 295
        },
        "outputId": "c26e2b27-ae75-48a8-9249-2f6bfc4eb65f"
      },
      "source": [
        "plt.plot(history.history['loss'])\n",
        "plt.plot(history.history['val_loss'])\n",
        "plt.title('model loss')\n",
        "plt.xlabel('epoch')\n",
        "plt.legend(['train', 'val'], loc='upper left')\n",
        "plt.show()"
      ],
      "execution_count": null,
      "outputs": [
        {
          "output_type": "display_data",
          "data": {
            "image/png": "[encoded data removed]",
            "text/plain": [
              "<Figure size 432x288 with 1 Axes>"
            ]
          },
          "metadata": {
            "tags": [],
            "needs_background": "light"
          }
        }
      ]
    },
    {
      "cell_type": "code",
      "metadata": {
        "id": "4GNl3mSwk4Zd",
        "colab_type": "code",
        "colab": {
          "base_uri": "https://localhost:8080/",
          "height": 36
        },
        "outputId": "3d5cb4f6-1d1d-453d-cce0-319c3fd87bed"
      },
      "source": [
        "pred = model.predict(X_test)\n",
        "\n",
        "mean_squared_error(Y_test,pred)"
      ],
      "execution_count": null,
      "outputs": [
        {
          "output_type": "execute_result",
          "data": {
            "text/plain": [
              "0.9735350007375257"
            ]
          },
          "metadata": {
            "tags": []
          },
          "execution_count": 98
        }
      ]
    },
    {
      "cell_type": "markdown",
      "metadata": {
        "id": "llwer-t5k41R",
        "colab_type": "text"
      },
      "source": [
        "Loss de la predicción de la red Dropout fijo entre no linealidad y convolución y Batchnormalization antes de la convolución: 0.97"
      ]
    },
    {
      "cell_type": "markdown",
      "metadata": {
        "id": "wGtQRbavlNm3",
        "colab_type": "text"
      },
      "source": [
        "#### Dropout antes de convolución y Batch Normalization entre no linealidad y convolución"
      ]
    },
    {
      "cell_type": "code",
      "metadata": {
        "id": "mG6FbjRPlq1O",
        "colab_type": "code",
        "colab": {}
      },
      "source": [
        "model = tf.keras.Sequential()\n",
        "model.add(tf.keras.layers.Conv1D(64, 4, input_shape=(n_dim,n_dim)))\n",
        "model.add(tf.keras.layers.BatchNormalization())\n",
        "model.add(tf.keras.layers.Activation('relu'))\n",
        "\n",
        "model.add(tf.keras.layers.Dropout(0.25))\n",
        "model.add(tf.keras.layers.Conv1D(64, 4))\n",
        "model.add(tf.keras.layers.BatchNormalization())\n",
        "model.add(tf.keras.layers.Activation('relu'))\n",
        "\n",
        "model.add(tf.keras.layers.MaxPool1D(padding = 'same',strides=3))\n",
        "\n",
        "model.add(tf.keras.layers.Dropout(0.25))\n",
        "model.add(tf.keras.layers.Conv1D(32, 2))\n",
        "model.add(tf.keras.layers.BatchNormalization())\n",
        "model.add(tf.keras.layers.Activation('relu'))\n",
        "\n",
        "model.add(tf.keras.layers.MaxPool1D(padding = 'same',strides=2))\n",
        "\n",
        "model.add(tf.keras.layers.Flatten())\n",
        "model.add(tf.keras.layers.Dense(64))\n",
        "model.add(tf.keras.layers.Activation('relu'))\n",
        "model.add(tf.keras.layers.Dense(32))\n",
        "model.add(tf.keras.layers.Activation('relu'))\n",
        "model.add(tf.keras.layers.Dense(16))\n",
        "model.add(tf.keras.layers.Activation('relu'))\n",
        "model.add(tf.keras.layers.Dense(1))\n",
        "model.add(tf.keras.layers.Activation('linear'))"
      ],
      "execution_count": null,
      "outputs": []
    },
    {
      "cell_type": "code",
      "metadata": {
        "id": "W0NNb5N4l10u",
        "colab_type": "code",
        "colab": {
          "base_uri": "https://localhost:8080/",
          "height": 1000
        },
        "outputId": "d18e924f-5d31-480f-e9d6-e68a3d6aa797"
      },
      "source": [
        "model.compile(optimizer='adam',loss='mean_squared_error')\n",
        "\n",
        "history = model.fit(X_train,Y_train, epochs = 40, validation_data = (X_val,Y_val), verbose =1)"
      ],
      "execution_count": null,
      "outputs": [
        {
          "output_type": "stream",
          "text": [
            "Epoch 1/40\n",
            "25/25 [==============================] - 0s 10ms/step - loss: 4.4465 - val_loss: 3.6545\n",
            "Epoch 2/40\n",
            "25/25 [==============================] - 0s 5ms/step - loss: 3.9894 - val_loss: 3.4237\n",
            "Epoch 3/40\n",
            "25/25 [==============================] - 0s 5ms/step - loss: 3.4100 - val_loss: 2.9833\n",
            "Epoch 4/40\n",
            "25/25 [==============================] - 0s 5ms/step - loss: 2.5021 - val_loss: 2.3706\n",
            "Epoch 5/40\n",
            "25/25 [==============================] - 0s 5ms/step - loss: 1.8373 - val_loss: 2.0870\n",
            "Epoch 6/40\n",
            "25/25 [==============================] - 0s 5ms/step - loss: 1.6895 - val_loss: 1.7552\n",
            "Epoch 7/40\n",
            "25/25 [==============================] - 0s 5ms/step - loss: 1.4788 - val_loss: 1.6886\n",
            "Epoch 8/40\n",
            "25/25 [==============================] - 0s 5ms/step - loss: 1.3333 - val_loss: 1.4786\n",
            "Epoch 9/40\n",
            "25/25 [==============================] - 0s 5ms/step - loss: 1.1971 - val_loss: 1.3499\n",
            "Epoch 10/40\n",
            "25/25 [==============================] - 0s 5ms/step - loss: 1.2641 - val_loss: 1.3812\n",
            "Epoch 11/40\n",
            "25/25 [==============================] - 0s 5ms/step - loss: 1.1703 - val_loss: 1.2807\n",
            "Epoch 12/40\n",
            "25/25 [==============================] - 0s 5ms/step - loss: 1.0335 - val_loss: 1.1646\n",
            "Epoch 13/40\n",
            "25/25 [==============================] - 0s 5ms/step - loss: 0.9903 - val_loss: 1.1332\n",
            "Epoch 14/40\n",
            "25/25 [==============================] - 0s 5ms/step - loss: 0.9340 - val_loss: 1.0729\n",
            "Epoch 15/40\n",
            "25/25 [==============================] - 0s 5ms/step - loss: 0.8595 - val_loss: 1.0125\n",
            "Epoch 16/40\n",
            "25/25 [==============================] - 0s 5ms/step - loss: 0.8458 - val_loss: 0.9715\n",
            "Epoch 17/40\n",
            "25/25 [==============================] - 0s 5ms/step - loss: 0.8360 - val_loss: 0.9354\n",
            "Epoch 18/40\n",
            "25/25 [==============================] - 0s 5ms/step - loss: 0.8078 - val_loss: 0.9695\n",
            "Epoch 19/40\n",
            "25/25 [==============================] - 0s 5ms/step - loss: 0.7938 - val_loss: 0.8878\n",
            "Epoch 20/40\n",
            "25/25 [==============================] - 0s 5ms/step - loss: 0.6943 - val_loss: 0.9063\n",
            "Epoch 21/40\n",
            "25/25 [==============================] - 0s 5ms/step - loss: 0.8163 - val_loss: 0.9466\n",
            "Epoch 22/40\n",
            "25/25 [==============================] - 0s 5ms/step - loss: 0.7922 - val_loss: 0.8336\n",
            "Epoch 23/40\n",
            "25/25 [==============================] - 0s 5ms/step - loss: 0.6990 - val_loss: 0.8339\n",
            "Epoch 24/40\n",
            "25/25 [==============================] - 0s 5ms/step - loss: 0.7006 - val_loss: 0.8381\n",
            "Epoch 25/40\n",
            "25/25 [==============================] - 0s 5ms/step - loss: 0.6808 - val_loss: 0.7941\n",
            "Epoch 26/40\n",
            "25/25 [==============================] - 0s 5ms/step - loss: 0.7822 - val_loss: 0.8064\n",
            "Epoch 27/40\n",
            "25/25 [==============================] - 0s 5ms/step - loss: 0.6617 - val_loss: 0.8267\n",
            "Epoch 28/40\n",
            "25/25 [==============================] - 0s 5ms/step - loss: 0.6143 - val_loss: 0.8050\n",
            "Epoch 29/40\n",
            "25/25 [==============================] - 0s 5ms/step - loss: 0.6646 - val_loss: 0.7671\n",
            "Epoch 30/40\n",
            "25/25 [==============================] - 0s 5ms/step - loss: 0.6573 - val_loss: 0.8065\n",
            "Epoch 31/40\n",
            "25/25 [==============================] - 0s 5ms/step - loss: 0.5808 - val_loss: 0.7287\n",
            "Epoch 32/40\n",
            "25/25 [==============================] - 0s 5ms/step - loss: 0.5708 - val_loss: 0.7787\n",
            "Epoch 33/40\n",
            "25/25 [==============================] - 0s 5ms/step - loss: 0.7008 - val_loss: 0.7104\n",
            "Epoch 34/40\n",
            "25/25 [==============================] - 0s 5ms/step - loss: 0.5863 - val_loss: 0.6824\n",
            "Epoch 35/40\n",
            "25/25 [==============================] - 0s 5ms/step - loss: 0.5649 - val_loss: 0.6943\n",
            "Epoch 36/40\n",
            "25/25 [==============================] - 0s 5ms/step - loss: 0.6422 - val_loss: 0.7111\n",
            "Epoch 37/40\n",
            "25/25 [==============================] - 0s 5ms/step - loss: 0.6611 - val_loss: 0.7150\n",
            "Epoch 38/40\n",
            "25/25 [==============================] - 0s 5ms/step - loss: 0.5418 - val_loss: 0.6960\n",
            "Epoch 39/40\n",
            "25/25 [==============================] - 0s 5ms/step - loss: 0.6297 - val_loss: 0.6939\n",
            "Epoch 40/40\n",
            "25/25 [==============================] - 0s 5ms/step - loss: 0.6412 - val_loss: 0.6927\n"
          ],
          "name": "stdout"
        }
      ]
    },
    {
      "cell_type": "code",
      "metadata": {
        "id": "nJ5y1P0kl3fG",
        "colab_type": "code",
        "colab": {
          "base_uri": "https://localhost:8080/",
          "height": 295
        },
        "outputId": "161e20a6-750a-4f75-9a4b-2bd1669eae46"
      },
      "source": [
        "plt.plot(history.history['loss'])\n",
        "plt.plot(history.history['val_loss'])\n",
        "plt.title('model loss')\n",
        "plt.xlabel('epoch')\n",
        "plt.legend(['train', 'val'], loc='upper left')\n",
        "plt.show()"
      ],
      "execution_count": null,
      "outputs": [
        {
          "output_type": "display_data",
          "data": {
            "image/png": "[encoded data removed]",
            "text/plain": [
              "<Figure size 432x288 with 1 Axes>"
            ]
          },
          "metadata": {
            "tags": [],
            "needs_background": "light"
          }
        }
      ]
    },
    {
      "cell_type": "code",
      "metadata": {
        "id": "TWl1mdJkl7Nj",
        "colab_type": "code",
        "colab": {
          "base_uri": "https://localhost:8080/",
          "height": 36
        },
        "outputId": "049c4d16-17ff-4c0f-c02e-821f7e16dc96"
      },
      "source": [
        "pred = model.predict(X_test)\n",
        "\n",
        "mean_squared_error(Y_test,pred)"
      ],
      "execution_count": null,
      "outputs": [
        {
          "output_type": "execute_result",
          "data": {
            "text/plain": [
              "0.7062463913061818"
            ]
          },
          "metadata": {
            "tags": []
          },
          "execution_count": 118
        }
      ]
    },
    {
      "cell_type": "markdown",
      "metadata": {
        "id": "kNUawjHSmBAy",
        "colab_type": "text"
      },
      "source": [
        "Loss de la predicción de la red Dropout antes de convolución y Batch Normalization entre no linealidad y convolución: 0.70"
      ]
    }
  ]
}