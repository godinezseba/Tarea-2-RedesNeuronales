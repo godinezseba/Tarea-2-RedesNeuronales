{
  "nbformat": 4,
  "nbformat_minor": 0,
  "metadata": {
    "colab": {
      "name": "LSTM_node2Vec.ipynb",
      "provenance": [],
      "collapsed_sections": [],
      "toc_visible": true
    },
    "kernelspec": {
      "name": "python3",
      "display_name": "Python 3"
    },
    "accelerator": "GPU"
  },
  "cells": [
    {
      "cell_type": "markdown",
      "metadata": {
        "id": "yCSB32Twf9zB",
        "colab_type": "text"
      },
      "source": [
        "Referencia: \n",
        "https://www.kaggle.com/yekenot/pooled-gru-fasttext"
      ]
    },
    {
      "cell_type": "code",
      "metadata": {
        "id": "DMcIQH60pMu7",
        "colab_type": "code",
        "colab": {
          "base_uri": "https://localhost:8080/",
          "height": 153
        },
        "outputId": "6e54f737-2308-4411-ba22-0f1554b4c3be"
      },
      "source": [
        "!git clone https://github.com/godinezseba/Tarea-2-RedesNeuronales"
      ],
      "execution_count": null,
      "outputs": [
        {
          "output_type": "stream",
          "text": [
            "Cloning into 'Tarea-2-RedesNeuronales'...\n",
            "remote: Enumerating objects: 2152, done.\u001b[K\n",
            "remote: Counting objects: 100% (2152/2152), done.\u001b[K\n",
            "remote: Compressing objects: 100% (2152/2152), done.\u001b[K\n",
            "remote: Total 35840 (delta 1), reused 2148 (delta 0), pack-reused 33688\u001b[K\n",
            "Receiving objects: 100% (35840/35840), 797.68 MiB | 37.59 MiB/s, done.\n",
            "Resolving deltas: 100% (325/325), done.\n",
            "Checking out files: 100% (36724/36724), done.\n"
          ],
          "name": "stdout"
        }
      ]
    },
    {
      "cell_type": "code",
      "metadata": {
        "id": "fheXB_48tuxM",
        "colab_type": "code",
        "colab": {
          "base_uri": "https://localhost:8080/",
          "height": 221
        },
        "outputId": "83d096f0-ef1f-4ccf-ef70-f17214df430d"
      },
      "source": [
        "!pip install tweet-preprocessor\n",
        "%pip install scanf==1.5.2\n",
        "%pip install -q stellargraph[demos]==1.2.1"
      ],
      "execution_count": null,
      "outputs": [
        {
          "output_type": "stream",
          "text": [
            "Collecting tweet-preprocessor\n",
            "  Downloading https://files.pythonhosted.org/packages/17/9d/71bd016a9edcef8860c607e531f30bd09b13103c7951ae73dd2bf174163c/tweet_preprocessor-0.6.0-py3-none-any.whl\n",
            "Installing collected packages: tweet-preprocessor\n",
            "Successfully installed tweet-preprocessor-0.6.0\n",
            "Collecting scanf==1.5.2\n",
            "  Downloading https://files.pythonhosted.org/packages/4f/88/e9033395e10da921c7fd6a2062f3289674f80dbbf7747214ac4beee498cd/scanf-1.5.2-py3-none-any.whl\n",
            "Installing collected packages: scanf\n",
            "Successfully installed scanf-1.5.2\n",
            "\u001b[K     |████████████████████████████████| 440kB 4.5MB/s \n",
            "\u001b[K     |████████████████████████████████| 235kB 18.7MB/s \n",
            "\u001b[K     |████████████████████████████████| 51kB 7.4MB/s \n",
            "\u001b[?25h  Building wheel for mplleaflet (setup.py) ... \u001b[?25l\u001b[?25hdone\n"
          ],
          "name": "stdout"
        }
      ]
    },
    {
      "cell_type": "code",
      "metadata": {
        "id": "niZOAka31y3Z",
        "colab_type": "code",
        "colab": {}
      },
      "source": [
        "import numpy as np\n",
        "import pandas as pd\n",
        "\n",
        "from sklearn.model_selection import train_test_split\n",
        "from sklearn.metrics import roc_auc_score\n",
        "from tensorflow.keras.callbacks import EarlyStopping\n",
        "from keras.models import Model\n",
        "from keras.layers import Input, Dense, Embedding, SpatialDropout1D, concatenate\n",
        "from keras.layers import GRU, Bidirectional, GlobalAveragePooling1D, GlobalMaxPooling1D\n",
        "from keras.preprocessing import text, sequence\n",
        "from keras.callbacks import Callback"
      ],
      "execution_count": null,
      "outputs": []
    },
    {
      "cell_type": "code",
      "metadata": {
        "id": "TW6yYpwEybH2",
        "colab_type": "code",
        "colab": {}
      },
      "source": [
        "from keras.preprocessing.text import Tokenizer\n",
        "from keras.preprocessing.sequence import pad_sequences\n",
        "from keras.models import Sequential\n",
        "from keras.layers import Dense, Embedding, LSTM, SpatialDropout1D, Conv1D, Flatten, Dropout\n",
        "from sklearn.model_selection import train_test_split\n",
        "from keras.utils.np_utils import to_categorical\n",
        "from sklearn.preprocessing import LabelEncoder\n",
        "from tensorflow.keras.callbacks import EarlyStopping\n",
        "from keras.initializers import Constant\n",
        "from sklearn.metrics import  classification_report\n",
        "import tensorflow as tf\n",
        "import re"
      ],
      "execution_count": null,
      "outputs": []
    },
    {
      "cell_type": "code",
      "metadata": {
        "id": "ehHp4O0QqsRE",
        "colab_type": "code",
        "colab": {
          "base_uri": "https://localhost:8080/",
          "height": 122
        },
        "outputId": "2190a6c8-c14a-4c3a-b174-249a25e5cd7b"
      },
      "source": [
        "from google.colab import drive\n",
        "drive.mount('/content/drive')"
      ],
      "execution_count": null,
      "outputs": [
        {
          "output_type": "stream",
          "text": [
            "Go to this URL in a browser: https://accounts.google.com/o/oauth2/auth?client_id=947318989803-6bn6qk8qdgf4n4g3pfee6491hc0brc4i.apps.googleusercontent.com&redirect_uri=urn%3aietf%3awg%3aoauth%3a2.0%3aoob&response_type=code&scope=email%20https%3a%2f%2fwww.googleapis.com%2fauth%2fdocs.test%20https%3a%2f%2fwww.googleapis.com%2fauth%2fdrive%20https%3a%2f%2fwww.googleapis.com%2fauth%2fdrive.photos.readonly%20https%3a%2f%2fwww.googleapis.com%2fauth%2fpeopleapi.readonly\n",
            "\n",
            "Enter your authorization code:\n",
            "··········\n",
            "Mounted at /content/drive\n"
          ],
          "name": "stdout"
        }
      ]
    },
    {
      "cell_type": "markdown",
      "metadata": {
        "id": "4Ft0e7Njyw-k",
        "colab_type": "text"
      },
      "source": [
        "#Cargar datos"
      ]
    },
    {
      "cell_type": "code",
      "metadata": {
        "id": "aT3A7igMsyAq",
        "colab_type": "code",
        "colab": {}
      },
      "source": [
        "train = pd.read_csv('./Tarea-2-RedesNeuronales/datasets/Parte 2/train_source_tweets.txt', sep='\\t', names = ['ID','Tweet'] )"
      ],
      "execution_count": null,
      "outputs": []
    },
    {
      "cell_type": "code",
      "metadata": {
        "id": "u33m5nJztsy5",
        "colab_type": "code",
        "colab": {}
      },
      "source": [
        "labels = pd.read_csv('./Tarea-2-RedesNeuronales/datasets/Parte 2/train_labels.csv' )"
      ],
      "execution_count": null,
      "outputs": []
    },
    {
      "cell_type": "code",
      "metadata": {
        "id": "Vyp_qKCS5RLf",
        "colab_type": "code",
        "colab": {}
      },
      "source": [
        "test = pd.read_csv('./Tarea-2-RedesNeuronales/datasets/Parte 2/test_source_tweets.txt', sep='\\t', names = ['ID','Tweet'] )"
      ],
      "execution_count": null,
      "outputs": []
    },
    {
      "cell_type": "code",
      "metadata": {
        "id": "d4ssXDQzOLbs",
        "colab_type": "code",
        "colab": {
          "base_uri": "https://localhost:8080/",
          "height": 102
        },
        "outputId": "e4d64e50-3d34-475d-d4d2-528bf4dfd945"
      },
      "source": [
        "labels['label'].value_counts()"
      ],
      "execution_count": null,
      "outputs": [
        {
          "output_type": "execute_result",
          "data": {
            "text/plain": [
              "non-rumor     524\n",
              "false         520\n",
              "true          514\n",
              "unverified    368\n",
              "Name: label, dtype: int64"
            ]
          },
          "metadata": {
            "tags": []
          },
          "execution_count": 236
        }
      ]
    },
    {
      "cell_type": "code",
      "metadata": {
        "id": "hfisFEwo2Qdz",
        "colab_type": "code",
        "colab": {}
      },
      "source": [
        "train['Tweet'] = train['Tweet'].apply(lambda x: x.lower())\n",
        "train['Tweet'] = train['Tweet'].apply((lambda x: re.sub('[^a-zA-z0-9\\s]','',x)))\n",
        "test['Tweet'] = test['Tweet'].apply(lambda x: x.lower())\n",
        "test['Tweet'] = test['Tweet'].apply((lambda x: re.sub('[^a-zA-z0-9\\s]','',x)))"
      ],
      "execution_count": null,
      "outputs": []
    },
    {
      "cell_type": "markdown",
      "metadata": {
        "id": "mukw1R4BrwHx",
        "colab_type": "text"
      },
      "source": [
        "#Limpiar datos"
      ]
    },
    {
      "cell_type": "code",
      "metadata": {
        "id": "ZWmvODr2U__S",
        "colab_type": "code",
        "colab": {}
      },
      "source": [
        "#set up punctuations we want to be replaced\n",
        "REPLACE_NO_SPACE = re.compile(\"(\\.)|(\\;)|(\\:)|(\\!)|(\\')|(\\?)|(\\,)|(\\\")|(\\|)|(\\()|(\\))|(\\[)|(\\])|(\\%)|(\\$)|(\\>)|(\\<)|(\\{)|(\\})\")\n",
        "REPLACE_WITH_SPACE = re.compile(\"(<br\\s/><br\\s/?)|(-)|(/)|(:).\")\n",
        "\n",
        "import preprocessor as p\n",
        "\n",
        "# custum function to clean the dataset (combining tweet_preprocessor and reguar expression)\n",
        "def clean_tweets(df):\n",
        "  tempArr = []\n",
        "  for line in df:\n",
        "    # send to tweet_processor\n",
        "    tmpL = p.clean(line)\n",
        "    # remove puctuation\n",
        "    tmpL = REPLACE_NO_SPACE.sub(\"\", tmpL.lower()) # convert all tweets to lower cases\n",
        "    tmpL = REPLACE_WITH_SPACE.sub(\" \", tmpL)\n",
        "    tempArr.append(tmpL)\n",
        "  return tempArr"
      ],
      "execution_count": null,
      "outputs": []
    },
    {
      "cell_type": "code",
      "metadata": {
        "id": "2lgJw6UrVeqK",
        "colab_type": "code",
        "colab": {}
      },
      "source": [
        "# clean training data\n",
        "train_tweet = clean_tweets(train[\"Tweet\"])\n",
        "train_tweet = pd.DataFrame(train_tweet)\n",
        "# append cleaned tweets to the training data\n",
        "train[\"clean_tweet\"] = train_tweet"
      ],
      "execution_count": null,
      "outputs": []
    },
    {
      "cell_type": "code",
      "metadata": {
        "id": "lHYcyRvgVvoh",
        "colab_type": "code",
        "colab": {
          "base_uri": "https://localhost:8080/",
          "height": 359
        },
        "outputId": "b18b18d9-b092-4035-bfda-9e588e40b847"
      },
      "source": [
        "# compare the cleaned and uncleaned tweets\n",
        "train.head(10)"
      ],
      "execution_count": null,
      "outputs": [
        {
          "output_type": "execute_result",
          "data": {
            "text/html": [
              "<div>\n",
              "<style scoped>\n",
              "    .dataframe tbody tr th:only-of-type {\n",
              "        vertical-align: middle;\n",
              "    }\n",
              "\n",
              "    .dataframe tbody tr th {\n",
              "        vertical-align: top;\n",
              "    }\n",
              "\n",
              "    .dataframe thead th {\n",
              "        text-align: right;\n",
              "    }\n",
              "</style>\n",
              "<table border=\"1\" class=\"dataframe\">\n",
              "  <thead>\n",
              "    <tr style=\"text-align: right;\">\n",
              "      <th></th>\n",
              "      <th>ID</th>\n",
              "      <th>Tweet</th>\n",
              "      <th>clean_tweet</th>\n",
              "    </tr>\n",
              "  </thead>\n",
              "  <tbody>\n",
              "    <tr>\n",
              "      <th>0</th>\n",
              "      <td>692735698349199360</td>\n",
              "      <td>north korea planning some kind of rocket launc...</td>\n",
              "      <td>north korea planning some kind of rocket launc...</td>\n",
              "    </tr>\n",
              "    <tr>\n",
              "      <th>1</th>\n",
              "      <td>525008463819464704</td>\n",
              "      <td>meet kevin vickers the hero who shot down the ...</td>\n",
              "      <td>meet kevin vickers the hero who shot down the ...</td>\n",
              "    </tr>\n",
              "    <tr>\n",
              "      <th>2</th>\n",
              "      <td>505611045897924608</td>\n",
              "      <td>15 year old who swatted gamer convicted of dom...</td>\n",
              "      <td>year old who swatted gamer convicted of domest...</td>\n",
              "    </tr>\n",
              "    <tr>\n",
              "      <th>3</th>\n",
              "      <td>693466724822323200</td>\n",
              "      <td>audio recordings reveal cpr started 11 minutes...</td>\n",
              "      <td>audio recordings reveal cpr started minutes af...</td>\n",
              "    </tr>\n",
              "    <tr>\n",
              "      <th>4</th>\n",
              "      <td>510922415468449792</td>\n",
              "      <td>awful mt scclemonsuk aid worker david haines b...</td>\n",
              "      <td>awful mt scclemonsuk aid worker david haines b...</td>\n",
              "    </tr>\n",
              "    <tr>\n",
              "      <th>5</th>\n",
              "      <td>549975297160802304</td>\n",
              "      <td>dammit  a transgender 17yearold left a suicide...</td>\n",
              "      <td>dammit a transgender yearold left a suicide no...</td>\n",
              "    </tr>\n",
              "    <tr>\n",
              "      <th>6</th>\n",
              "      <td>500378522788315137</td>\n",
              "      <td>ferguson police officer involved in fatal shoo...</td>\n",
              "      <td>ferguson police officer involved in fatal shoo...</td>\n",
              "    </tr>\n",
              "    <tr>\n",
              "      <th>7</th>\n",
              "      <td>528607634099015680</td>\n",
              "      <td>animaloftheday the first afghan fanged deer wa...</td>\n",
              "      <td>animaloftheday the first afghan fanged deer wa...</td>\n",
              "    </tr>\n",
              "    <tr>\n",
              "      <th>8</th>\n",
              "      <td>489854703321509888</td>\n",
              "      <td>nine britons 23 us citizens and 80 children fe...</td>\n",
              "      <td>nine britons us citizens and children feared d...</td>\n",
              "    </tr>\n",
              "    <tr>\n",
              "      <th>9</th>\n",
              "      <td>521444489697583104</td>\n",
              "      <td>photos proved that terrorists used chemical we...</td>\n",
              "      <td>photos proved that terrorists used chemical we...</td>\n",
              "    </tr>\n",
              "  </tbody>\n",
              "</table>\n",
              "</div>"
            ],
            "text/plain": [
              "                   ID  ...                                        clean_tweet\n",
              "0  692735698349199360  ...  north korea planning some kind of rocket launc...\n",
              "1  525008463819464704  ...  meet kevin vickers the hero who shot down the ...\n",
              "2  505611045897924608  ...  year old who swatted gamer convicted of domest...\n",
              "3  693466724822323200  ...  audio recordings reveal cpr started minutes af...\n",
              "4  510922415468449792  ...  awful mt scclemonsuk aid worker david haines b...\n",
              "5  549975297160802304  ...  dammit a transgender yearold left a suicide no...\n",
              "6  500378522788315137  ...  ferguson police officer involved in fatal shoo...\n",
              "7  528607634099015680  ...  animaloftheday the first afghan fanged deer wa...\n",
              "8  489854703321509888  ...  nine britons us citizens and children feared d...\n",
              "9  521444489697583104  ...  photos proved that terrorists used chemical we...\n",
              "\n",
              "[10 rows x 3 columns]"
            ]
          },
          "metadata": {
            "tags": []
          },
          "execution_count": 13
        }
      ]
    },
    {
      "cell_type": "code",
      "metadata": {
        "id": "TaB1jofBV3zQ",
        "colab_type": "code",
        "colab": {
          "base_uri": "https://localhost:8080/",
          "height": 204
        },
        "outputId": "910b3e1c-1545-49d0-d652-5b82e4288eae"
      },
      "source": [
        "\n",
        "# clean the test data and append the cleaned tweets to the test data\n",
        "test_tweet = clean_tweets(test[\"Tweet\"])\n",
        "test_tweet = pd.DataFrame(test_tweet)\n",
        "# append cleaned tweets to the training data\n",
        "test[\"clean_tweet\"] = test_tweet\n",
        "\n",
        "# compare the cleaned and uncleaned tweets\n",
        "test.tail()"
      ],
      "execution_count": null,
      "outputs": [
        {
          "output_type": "execute_result",
          "data": {
            "text/html": [
              "<div>\n",
              "<style scoped>\n",
              "    .dataframe tbody tr th:only-of-type {\n",
              "        vertical-align: middle;\n",
              "    }\n",
              "\n",
              "    .dataframe tbody tr th {\n",
              "        vertical-align: top;\n",
              "    }\n",
              "\n",
              "    .dataframe thead th {\n",
              "        text-align: right;\n",
              "    }\n",
              "</style>\n",
              "<table border=\"1\" class=\"dataframe\">\n",
              "  <thead>\n",
              "    <tr style=\"text-align: right;\">\n",
              "      <th></th>\n",
              "      <th>ID</th>\n",
              "      <th>Tweet</th>\n",
              "      <th>clean_tweet</th>\n",
              "    </tr>\n",
              "  </thead>\n",
              "  <tbody>\n",
              "    <tr>\n",
              "      <th>208</th>\n",
              "      <td>642432477185867776</td>\n",
              "      <td>the stickers on fruit are edible</td>\n",
              "      <td>the stickers on fruit are edible</td>\n",
              "    </tr>\n",
              "    <tr>\n",
              "      <th>209</th>\n",
              "      <td>693236688538243074</td>\n",
              "      <td>is the truth out there in nod to thexfiles cia...</td>\n",
              "      <td>is the truth out there in nod to thexfiles cia...</td>\n",
              "    </tr>\n",
              "    <tr>\n",
              "      <th>210</th>\n",
              "      <td>504131150429061121</td>\n",
              "      <td>breaking fbi uncovers new audio from neighbor ...</td>\n",
              "      <td>breaking fbi uncovers new audio from neighbor ...</td>\n",
              "    </tr>\n",
              "    <tr>\n",
              "      <th>211</th>\n",
              "      <td>692004901455556608</td>\n",
              "      <td>potus just announced new reforms to address th...</td>\n",
              "      <td>potus just announced new reforms to address th...</td>\n",
              "    </tr>\n",
              "    <tr>\n",
              "      <th>212</th>\n",
              "      <td>692157602554343424</td>\n",
              "      <td>waiting for the new episode of teenwolf like url</td>\n",
              "      <td>waiting for the new episode of teenwolf like url</td>\n",
              "    </tr>\n",
              "  </tbody>\n",
              "</table>\n",
              "</div>"
            ],
            "text/plain": [
              "                     ID  ...                                        clean_tweet\n",
              "208  642432477185867776  ...                   the stickers on fruit are edible\n",
              "209  693236688538243074  ...  is the truth out there in nod to thexfiles cia...\n",
              "210  504131150429061121  ...  breaking fbi uncovers new audio from neighbor ...\n",
              "211  692004901455556608  ...  potus just announced new reforms to address th...\n",
              "212  692157602554343424  ...   waiting for the new episode of teenwolf like url\n",
              "\n",
              "[5 rows x 3 columns]"
            ]
          },
          "metadata": {
            "tags": []
          },
          "execution_count": 14
        }
      ]
    },
    {
      "cell_type": "markdown",
      "metadata": {
        "id": "psDkx_Hcwg_v",
        "colab_type": "text"
      },
      "source": [
        "#Word Embedding"
      ]
    },
    {
      "cell_type": "code",
      "metadata": {
        "id": "kmZYte8BQUGO",
        "colab_type": "code",
        "colab": {}
      },
      "source": [
        "embed_dim = 300"
      ],
      "execution_count": null,
      "outputs": []
    },
    {
      "cell_type": "code",
      "metadata": {
        "id": "9yZwVSO66d6A",
        "colab_type": "code",
        "colab": {
          "base_uri": "https://localhost:8080/",
          "height": 68
        },
        "outputId": "efc069fe-5ab5-4867-9e22-041ccccf157e"
      },
      "source": [
        "import nltk\n",
        "nltk.download('punkt')"
      ],
      "execution_count": null,
      "outputs": [
        {
          "output_type": "stream",
          "text": [
            "[nltk_data] Downloading package punkt to /root/nltk_data...\n",
            "[nltk_data]   Unzipping tokenizers/punkt.zip.\n"
          ],
          "name": "stdout"
        },
        {
          "output_type": "execute_result",
          "data": {
            "text/plain": [
              "True"
            ]
          },
          "metadata": {
            "tags": []
          },
          "execution_count": 16
        }
      ]
    },
    {
      "cell_type": "code",
      "metadata": {
        "id": "L-2aLlwwZa1r",
        "colab_type": "code",
        "colab": {
          "base_uri": "https://localhost:8080/",
          "height": 34
        },
        "outputId": "32db6170-8730-4989-8c1a-6e07cd17eeb8"
      },
      "source": [
        "\n",
        "import string\n",
        "from nltk.tokenize import word_tokenize\n",
        "\n",
        "\n",
        "\n",
        "review_lines = list()\n",
        "lines = train[\"clean_tweet\"].values.tolist()\n",
        "\n",
        "for line in lines:\n",
        "  tokens = word_tokenize(line)\n",
        "  table = str.maketrans('','',string.punctuation)\n",
        "  stripped = [w.translate(table) for w in tokens] \n",
        "  words = [word for word in stripped if word.isalpha()]\n",
        "  review_lines.append(words)\n",
        "  \n",
        "len(review_lines)\n"
      ],
      "execution_count": null,
      "outputs": [
        {
          "output_type": "execute_result",
          "data": {
            "text/plain": [
              "1926"
            ]
          },
          "metadata": {
            "tags": []
          },
          "execution_count": 17
        }
      ]
    },
    {
      "cell_type": "code",
      "metadata": {
        "id": "hVbNmm8Abgvh",
        "colab_type": "code",
        "colab": {
          "base_uri": "https://localhost:8080/",
          "height": 34
        },
        "outputId": "0d3b7398-d27b-4fe0-bc8e-b8cdd8eca964"
      },
      "source": [
        "import gensim\n",
        "\n",
        "model = gensim.models.Word2Vec(sentences = review_lines, size = embed_dim, \n",
        "                               window = 5, workers = 4, min_count = 0)\n",
        "words = list(model.wv.vocab)\n",
        "print('Tamaño vocabulario', len(words))"
      ],
      "execution_count": null,
      "outputs": [
        {
          "output_type": "stream",
          "text": [
            "Tamaño vocabulario 5606\n"
          ],
          "name": "stdout"
        }
      ]
    },
    {
      "cell_type": "code",
      "metadata": {
        "id": "z0sWtRjiCWKo",
        "colab_type": "code",
        "colab": {
          "base_uri": "https://localhost:8080/",
          "height": 34
        },
        "outputId": "fccc9e76-bcc6-4fd8-dffe-4f74fbdc1049"
      },
      "source": [
        "word_ids = model.wv.index2word  # list of node IDs\n",
        "word_embeddings = (model.wv.vectors)\n",
        "#print(word_embeddings[0])\n",
        "print(len(word_ids))"
      ],
      "execution_count": null,
      "outputs": [
        {
          "output_type": "stream",
          "text": [
            "5606\n"
          ],
          "name": "stdout"
        }
      ]
    },
    {
      "cell_type": "code",
      "metadata": {
        "id": "aldSOiwSeGqw",
        "colab_type": "code",
        "colab": {}
      },
      "source": [
        "embedding_matrix = np.zeros((len(word_ids),embed_dim))\n",
        "\n",
        "\n",
        "for i in range(embedding_matrix.shape[0]-1):\n",
        "\n",
        "  embedding_matrix[i] =word_embeddings[i]\n"
      ],
      "execution_count": null,
      "outputs": []
    },
    {
      "cell_type": "markdown",
      "metadata": {
        "id": "MB-dP_R5fwul",
        "colab_type": "text"
      },
      "source": [
        "#node2Vec"
      ]
    },
    {
      "cell_type": "code",
      "metadata": {
        "id": "RddjA2vtgCYb",
        "colab_type": "code",
        "colab": {}
      },
      "source": [
        "import os.path\n",
        "from scanf import scanf\n",
        "from gensim.models import Word2Vec\n",
        "import networkx as nx\n",
        "import stellargraph as sg\n",
        "from stellargraph.data import BiasedRandomWalk\n",
        "from stellargraph import StellarGraph\n",
        "\n",
        "import matplotlib.pyplot as plt"
      ],
      "execution_count": null,
      "outputs": []
    },
    {
      "cell_type": "code",
      "metadata": {
        "id": "EBwCYNUcf1gU",
        "colab_type": "code",
        "colab": {}
      },
      "source": [
        "def createGraph(DIR, fileGraph, labels):\n",
        "  if(not os.path.exists(fileGraph)): # para ejecutar existiendo el archivo basta con quital el 'not'\n",
        "    format = \"['%s', '%s', '%f']->['%s', '%s', '%f']\"\n",
        "    # edges\n",
        "    source = list()\n",
        "    target = list()\n",
        "    # nodes\n",
        "    index = list()\n",
        "    time = list()\n",
        "\n",
        "    bigGraph = nx.Graph()\n",
        "\n",
        "    list_len_edges = list()\n",
        "\n",
        "    for file in labels:\n",
        "      fileName = f'{DIR}/{file}.txt'\n",
        "      count_edges = 0\n",
        "      with open(fileName, 'r') as f:\n",
        "        for line in f:\n",
        "          parentId, parentTweet, parentTime, childId, childTweet, childTime = scanf(format, line.strip())\n",
        "          if(parentId != 'ROOT'):\n",
        "            # add edge to the big Graph\n",
        "            bigGraph.add_edge(parentTweet, childTweet)\n",
        "            count_edges += 1\n",
        "            bigGraph.add_node(parentTweet, time=[parentTime])\n",
        "            bigGraph.add_node(childTweet, time=[childTime])\n",
        "      list_len_edges.append(count_edges)\n",
        "\n",
        "    nx.write_gpickle(bigGraph, fileGraph)\n",
        "  else:\n",
        "    list_len_edges = list()\n",
        "    bigGraph = nx.read_gpickle(fileGraph)\n",
        "  return bigGraph, list_len_edges"
      ],
      "execution_count": null,
      "outputs": []
    },
    {
      "cell_type": "code",
      "metadata": {
        "id": "xzFULjsWf80y",
        "colab_type": "code",
        "colab": {
          "base_uri": "https://localhost:8080/",
          "height": 306
        },
        "outputId": "ebb9cae6-9407-4185-f236-acdb83af1eda"
      },
      "source": [
        "DIR = './Tarea-2-RedesNeuronales/datasets/Parte 2/train'\n",
        "fileGraph = './drive/My Drive/Tarea 2 - Kaggle/graph.gpicke'\n",
        "\n",
        "# add new graph\n",
        "bigGraph, list_len_edges = createGraph(DIR, fileGraph, labels['id'])\n",
        "print(nx.info(bigGraph))\n",
        "graph = sg.StellarGraph.from_networkx(bigGraph, node_features=\"time\")\n",
        "print(graph.info())"
      ],
      "execution_count": null,
      "outputs": [
        {
          "output_type": "stream",
          "text": [
            "Name: \n",
            "Type: Graph\n",
            "Number of nodes: 67723\n",
            "Number of edges: 71020\n",
            "Average degree:   2.0974\n",
            "StellarGraph: Undirected multigraph\n",
            " Nodes: 67723, Edges: 71020\n",
            "\n",
            " Node types:\n",
            "  default: [67723]\n",
            "    Features: float32 vector, length 1\n",
            "    Edge types: default-default->default\n",
            "\n",
            " Edge types:\n",
            "    default-default->default: [71020]\n",
            "        Weights: all 1 (default)\n",
            "        Features: none\n"
          ],
          "name": "stdout"
        }
      ]
    },
    {
      "cell_type": "code",
      "metadata": {
        "id": "85fIm3D7hz8F",
        "colab_type": "code",
        "colab": {}
      },
      "source": [
        "vectorDimension = 256\n",
        "def graphEmbedding(graph, file, labels):\n",
        "  if(not os.path.exists(file)): # para ejecutar existiendo el archivo basta con quital el 'not'\n",
        "    rw = BiasedRandomWalk(graph)\n",
        "\n",
        "    root_nodes = [str(n) for n in labels]\n",
        "\n",
        "    walks = rw.run(\n",
        "        nodes=root_nodes,  # root nodes\n",
        "        length=200,  # maximum length of a random walk\n",
        "        n=100,  # number of random walks per root node\n",
        "        p=0.5,\n",
        "        q=2.0\n",
        "    )\n",
        "    print(\"Number of random walks: {}\".format(len(walks)))\n",
        "\n",
        "    str_walks = [[str(n) for n in walk] for walk in walks]\n",
        "    embedding = Word2Vec(str_walks, \n",
        "                        size=vectorDimension, \n",
        "                        window=5, \n",
        "                        min_count=0, \n",
        "                        sg=1, \n",
        "                        workers=4, \n",
        "                        iter=1)\n",
        "    embedding.save(file)\n",
        "  else:\n",
        "    embedding = Word2Vec.load(file)\n",
        "  return embedding"
      ],
      "execution_count": null,
      "outputs": []
    },
    {
      "cell_type": "code",
      "metadata": {
        "id": "Rq-6VPenh1JV",
        "colab_type": "code",
        "colab": {
          "base_uri": "https://localhost:8080/",
          "height": 71
        },
        "outputId": "de5ff9e0-249e-4e51-a999-ad823fa1f49b"
      },
      "source": [
        "#file_train = './drive/My Drive/Colab Notebooks/Tarea 2 - Kaggle/node.word2vec'\n",
        "file_train = './drive/My Drive/Tarea 2 - Kaggle/node.word2vec'\n",
        "\n",
        "embedding = graphEmbedding(graph, file_train, labels['id'])\n",
        "\n",
        "embeddings = np.array([embedding.wv[str(x)] for x in labels['id']])"
      ],
      "execution_count": null,
      "outputs": [
        {
          "output_type": "stream",
          "text": [
            "/usr/local/lib/python3.6/dist-packages/smart_open/smart_open_lib.py:253: UserWarning: This function is deprecated, use smart_open.open instead. See the migration notes for details: https://github.com/RaRe-Technologies/smart_open/blob/master/README.rst#migrating-to-the-new-open-function\n",
            "  'See the migration notes for details: %s' % _MIGRATION_NOTES_URL\n"
          ],
          "name": "stderr"
        }
      ]
    },
    {
      "cell_type": "markdown",
      "metadata": {
        "id": "Cn1m69A1okhE",
        "colab_type": "text"
      },
      "source": [
        "#LTSM+ graph"
      ]
    },
    {
      "cell_type": "code",
      "metadata": {
        "id": "UtDU-Hw6Q1h4",
        "colab_type": "code",
        "colab": {}
      },
      "source": [
        "le = LabelEncoder()\n",
        "\n",
        "qwer = le.fit_transform(labels['label'])"
      ],
      "execution_count": null,
      "outputs": []
    },
    {
      "cell_type": "code",
      "metadata": {
        "id": "tPDS0vkYzCg5",
        "colab_type": "code",
        "colab": {}
      },
      "source": [
        "X_train = train[\"clean_tweet\"].values\n",
        "y_train = pd.get_dummies(labels['label']).values\n",
        "X_test = test[\"clean_tweet\"].values"
      ],
      "execution_count": null,
      "outputs": []
    },
    {
      "cell_type": "code",
      "metadata": {
        "id": "QEXBHew5zuU3",
        "colab_type": "code",
        "colab": {}
      },
      "source": [
        "max_features = 30000\n",
        "maxlen = 100\n",
        "embed_size = 300\n",
        "\n",
        "tokenizer = text.Tokenizer(num_words=max_features)\n",
        "tokenizer.fit_on_texts(list(X_train) + list(X_test))\n",
        "X_train = tokenizer.texts_to_sequences(X_train)\n",
        "X_test = tokenizer.texts_to_sequences(X_test)\n",
        "x_train = sequence.pad_sequences(X_train, maxlen=maxlen)\n",
        "x_test = sequence.pad_sequences(X_test, maxlen=maxlen)"
      ],
      "execution_count": null,
      "outputs": []
    },
    {
      "cell_type": "code",
      "metadata": {
        "id": "Z0XFYXNn0fBr",
        "colab_type": "code",
        "colab": {}
      },
      "source": [
        "word_index = tokenizer.word_index\n",
        "nb_words = min(max_features, len(word_index))"
      ],
      "execution_count": null,
      "outputs": []
    },
    {
      "cell_type": "code",
      "metadata": {
        "id": "HuB9Eu7ww3Qx",
        "colab_type": "code",
        "colab": {}
      },
      "source": [
        "es = EarlyStopping(\n",
        "    monitor=\"val_loss\", min_delta=0, patience=5, restore_best_weights=True\n",
        ")\n",
        "def get_model():\n",
        "    input_graph = Input(shape=(vectorDimension, ), name=\"graph\")\n",
        "    inp = Input(shape=(maxlen, ), name=\"text\")\n",
        "    x = Embedding(5606, embed_size, weights=[embedding_matrix])(inp)\n",
        "    #x = Embedding(max_features, embed_size)(inp)\n",
        "    #x = SpatialDropout1D(0.25)(x)\n",
        "    x = Bidirectional(LSTM(60, dropout=0.5, recurrent_dropout=0.5))(x)\n",
        "  \n",
        "    #x = Bidirectional(GRU(50,dropout=0.5, recurrent_dropout=0.5, return_sequences=True))(x)\n",
        "    #avg_pool = GlobalAveragePooling1D()(x)\n",
        "    #max_pool = GlobalMaxPooling1D()(x)\n",
        "    #conc = concatenate([avg_pool, max_pool, input_graph])\n",
        "    \n",
        "    conc = concatenate([x,input_graph ])\n",
        "    dense = Dense(100, activation=\"relu\")(conc)\n",
        "    dense= Dropout(0.2)(dense)\n",
        "    outp = Dense(4, activation=\"softmax\")(dense)\n",
        "    \n",
        "    model = Model(inputs=[inp, input_graph], outputs=outp)\n",
        "    model.compile(loss='binary_crossentropy',\n",
        "                  optimizer='adam',\n",
        "                  metrics=['accuracy'])\n",
        "\n",
        "    return model\n",
        "model = get_model()"
      ],
      "execution_count": null,
      "outputs": []
    },
    {
      "cell_type": "code",
      "metadata": {
        "id": "qRIcgaEOt0OV",
        "colab_type": "code",
        "colab": {
          "base_uri": "https://localhost:8080/",
          "height": 754
        },
        "outputId": "4d9bb74c-5fe2-4957-eff3-90d7009963e8"
      },
      "source": [
        "from keras.utils import plot_model\n",
        "plot_model(model, show_shapes=True)"
      ],
      "execution_count": null,
      "outputs": [
        {
          "output_type": "execute_result",
          "data": {
            "image/png": "[encoded data removed]",
            "text/plain": [
              "<IPython.core.display.Image object>"
            ]
          },
          "metadata": {
            "tags": []
          },
          "execution_count": 33
        }
      ]
    },
    {
      "cell_type": "code",
      "metadata": {
        "id": "DcownCgcjtdg",
        "colab_type": "code",
        "colab": {}
      },
      "source": [
        "mask_test = np.random.rand(x_train.shape[0]) < 0.2\n",
        "X_tra = x_train[~mask_test]\n",
        "X_val = x_train[mask_test]\n",
        "\n",
        "X_train_graph = embeddings[~mask_test]\n",
        "X_val_graph = embeddings[mask_test]\n",
        "\n",
        "y_tra = y_train[~mask_test]\n",
        "y_val = y_train[mask_test]"
      ],
      "execution_count": null,
      "outputs": []
    },
    {
      "cell_type": "code",
      "metadata": {
        "id": "pKeONYh6_q8U",
        "colab_type": "code",
        "colab": {}
      },
      "source": [
        "#y_train2 = labels['label'].values\n",
        "#y_train2 = y_train2[mask_test]"
      ],
      "execution_count": null,
      "outputs": []
    },
    {
      "cell_type": "code",
      "metadata": {
        "id": "tZwEw-GS05ku",
        "colab_type": "code",
        "colab": {
          "base_uri": "https://localhost:8080/",
          "height": 428
        },
        "outputId": "e41d4e36-2fc8-45a5-c1b9-5971ff4b4d4b"
      },
      "source": [
        "batch_size = 32\n",
        "epochs = 200\n",
        "\n",
        "#X_tra, X_val, y_tra, y_val = train_test_split(x_train, y_train, train_size=0.95, random_state=233)\n",
        "\n",
        "\n",
        "#hist = model.fit(X_tra, y_tra, batch_size=batch_size, epochs=epochs, validation_data=(X_val, y_val),callbacks=[es], verbose=2)\n",
        "hist = model.fit({\"text\": X_tra, \"graph\": X_train_graph}, \n",
        "                 y_tra, \n",
        "                 batch_size=batch_size, \n",
        "                 epochs=epochs, \n",
        "                 validation_data=({\"text\": X_val, \"graph\": X_val_graph}, y_val),\n",
        "                 callbacks=[es], \n",
        "                 verbose=2\n",
        "                 #,class_weight = {0:0.7,1:0.8,2:1,3:4} \n",
        "                 )"
      ],
      "execution_count": null,
      "outputs": [
        {
          "output_type": "stream",
          "text": [
            "/usr/local/lib/python3.6/dist-packages/tensorflow/python/framework/indexed_slices.py:434: UserWarning: Converting sparse IndexedSlices to a dense Tensor of unknown shape. This may consume a large amount of memory.\n",
            "  \"Converting sparse IndexedSlices to a dense Tensor of unknown shape. \"\n"
          ],
          "name": "stderr"
        },
        {
          "output_type": "stream",
          "text": [
            "Train on 1542 samples, validate on 384 samples\n",
            "Epoch 1/200\n",
            " - 19s - loss: 0.5744 - accuracy: 0.7489 - val_loss: 0.5672 - val_accuracy: 0.7507\n",
            "Epoch 2/200\n",
            " - 18s - loss: 0.5496 - accuracy: 0.7510 - val_loss: 0.5663 - val_accuracy: 0.7493\n",
            "Epoch 3/200\n",
            " - 18s - loss: 0.5267 - accuracy: 0.7542 - val_loss: 0.5549 - val_accuracy: 0.7454\n",
            "Epoch 4/200\n",
            " - 18s - loss: 0.4688 - accuracy: 0.7792 - val_loss: 0.4472 - val_accuracy: 0.7969\n",
            "Epoch 5/200\n",
            " - 18s - loss: 0.2319 - accuracy: 0.9141 - val_loss: 0.3412 - val_accuracy: 0.8691\n",
            "Epoch 6/200\n",
            " - 18s - loss: 0.0592 - accuracy: 0.9810 - val_loss: 0.3513 - val_accuracy: 0.8698\n",
            "Epoch 7/200\n",
            " - 18s - loss: 0.0210 - accuracy: 0.9943 - val_loss: 0.3787 - val_accuracy: 0.8776\n",
            "Epoch 8/200\n",
            " - 18s - loss: 0.0069 - accuracy: 0.9985 - val_loss: 0.4170 - val_accuracy: 0.8835\n",
            "Epoch 9/200\n",
            " - 18s - loss: 0.0077 - accuracy: 0.9974 - val_loss: 0.4055 - val_accuracy: 0.8841\n",
            "Epoch 10/200\n",
            " - 18s - loss: 0.0023 - accuracy: 1.0000 - val_loss: 0.4203 - val_accuracy: 0.8861\n"
          ],
          "name": "stdout"
        }
      ]
    },
    {
      "cell_type": "code",
      "metadata": {
        "id": "HTgXKy3q9WqD",
        "colab_type": "code",
        "colab": {}
      },
      "source": [
        "#from sklearn.metrics import f1_score\n",
        "#y_new = model.predict({\"text\": X_val,\"graph\": X_val_graph})\n",
        "#y_new = np.argmax(y_new, axis=1)\n",
        "#y_new = le.inverse_transform(y_new)\n",
        "#print(y_new)\n",
        "#precision = f1_score(y_train2, y_new, average=None)\n",
        "#print(f1_m(y_val, y_new))\n",
        "#print(precision)"
      ],
      "execution_count": null,
      "outputs": []
    },
    {
      "cell_type": "markdown",
      "metadata": {
        "id": "cXnVZyDcykBC",
        "colab_type": "text"
      },
      "source": [
        "#Kaggle"
      ]
    },
    {
      "cell_type": "code",
      "metadata": {
        "id": "wG2w6n0OzDfa",
        "colab_type": "code",
        "colab": {
          "base_uri": "https://localhost:8080/",
          "height": 306
        },
        "outputId": "062a79e6-34fd-4a0c-df06-d1b755be9e80"
      },
      "source": [
        "DIR = './Tarea-2-RedesNeuronales/datasets/Parte 2/test'\n",
        "fileGraph = './drive/My Drive/Tarea 2 - Kaggle/graph_test.gpicke'\n",
        "\n",
        "# add new graph\n",
        "bigGraph, list_len_edges = createGraph(DIR, fileGraph, test['ID'])\n",
        "print(nx.info(bigGraph))\n",
        "graph = sg.StellarGraph.from_networkx(bigGraph, node_features=\"time\")\n",
        "print(graph.info())"
      ],
      "execution_count": null,
      "outputs": [
        {
          "output_type": "stream",
          "text": [
            "Name: \n",
            "Type: Graph\n",
            "Number of nodes: 6671\n",
            "Number of edges: 7000\n",
            "Average degree:   2.0986\n",
            "StellarGraph: Undirected multigraph\n",
            " Nodes: 6671, Edges: 7000\n",
            "\n",
            " Node types:\n",
            "  default: [6671]\n",
            "    Features: float32 vector, length 1\n",
            "    Edge types: default-default->default\n",
            "\n",
            " Edge types:\n",
            "    default-default->default: [7000]\n",
            "        Weights: all 1 (default)\n",
            "        Features: none\n"
          ],
          "name": "stdout"
        }
      ]
    },
    {
      "cell_type": "code",
      "metadata": {
        "id": "gDsLW-CgzFds",
        "colab_type": "code",
        "colab": {
          "base_uri": "https://localhost:8080/",
          "height": 306
        },
        "outputId": "8590b797-0d4f-422f-ee3f-d712e444ba35"
      },
      "source": [
        "DIR = './Tarea-2-RedesNeuronales/datasets/Parte 2/test'\n",
        "fileGraph = './drive/My Drive/Tarea 2 - Kaggle/graph_test.gpicke'\n",
        "\n",
        "# add new graph\n",
        "bigGraph, list_len_edges = createGraph(DIR, fileGraph, test['ID'])\n",
        "print(nx.info(bigGraph))\n",
        "graph = sg.StellarGraph.from_networkx(bigGraph, node_features=\"time\")\n",
        "print(graph.info())"
      ],
      "execution_count": null,
      "outputs": [
        {
          "output_type": "stream",
          "text": [
            "Name: \n",
            "Type: Graph\n",
            "Number of nodes: 6671\n",
            "Number of edges: 7000\n",
            "Average degree:   2.0986\n",
            "StellarGraph: Undirected multigraph\n",
            " Nodes: 6671, Edges: 7000\n",
            "\n",
            " Node types:\n",
            "  default: [6671]\n",
            "    Features: float32 vector, length 1\n",
            "    Edge types: default-default->default\n",
            "\n",
            " Edge types:\n",
            "    default-default->default: [7000]\n",
            "        Weights: all 1 (default)\n",
            "        Features: none\n"
          ],
          "name": "stdout"
        }
      ]
    },
    {
      "cell_type": "code",
      "metadata": {
        "id": "vfxMoot0J2Vr",
        "colab_type": "code",
        "colab": {}
      },
      "source": [
        "asd = model.predict({\"text\": x_test, \"graph\": embeddings})\n",
        "asd = np.argmax(asd, axis=1)"
      ],
      "execution_count": null,
      "outputs": []
    },
    {
      "cell_type": "code",
      "metadata": {
        "id": "OC2rQUnn2uQC",
        "colab_type": "code",
        "colab": {
          "base_uri": "https://localhost:8080/",
          "height": 119
        },
        "outputId": "07262b0b-791d-48a4-b5b9-f977f3318be7"
      },
      "source": [
        "print(asd)"
      ],
      "execution_count": null,
      "outputs": [
        {
          "output_type": "stream",
          "text": [
            "[1 3 0 2 0 1 0 1 2 1 3 1 1 1 2 2 1 2 1 0 1 3 2 0 1 1 1 3 2 1 1 1 0 3 0 1 2\n",
            " 2 2 2 1 3 3 1 2 3 2 0 2 2 1 0 1 0 1 2 2 0 1 2 1 0 0 1 1 2 2 2 1 2 0 1 2 2\n",
            " 3 1 0 2 2 2 2 2 2 0 2 1 0 0 3 1 2 3 1 0 1 1 0 0 0 1 0 3 3 2 1 2 1 2 2 1 0\n",
            " 1 1 0 2 2 0 0 2 2 1 1 1 3 0 2 3 3 0 0 0 2 2 1 2 2 0 1 0 1 3 0 2 1 1 3 2 1\n",
            " 1 0 1 2 0 1 2 2 0 2 3 3 2 0 1 0 0 2 3 0 0 3 2 2 2 2 1 0 1 0 3 1 0 3 3 2 2\n",
            " 2 0 3 1 0 1 2 1 2 0 0 1 3 3 1 1 0 1 1 2 2 2 0 1 1 2 1 1]\n"
          ],
          "name": "stdout"
        }
      ]
    },
    {
      "cell_type": "code",
      "metadata": {
        "id": "oJbEa3rfRaaL",
        "colab_type": "code",
        "colab": {}
      },
      "source": [
        "pred = le.inverse_transform(asd)"
      ],
      "execution_count": null,
      "outputs": []
    },
    {
      "cell_type": "code",
      "metadata": {
        "id": "HHMp_txqHDwk",
        "colab_type": "code",
        "colab": {}
      },
      "source": [
        "sample = pd.read_csv('./Tarea-2-RedesNeuronales/datasets/Parte 2/sample_submission.csv')\n",
        "\n",
        "sample['label'] = pred\n",
        "sample['id'] = test['ID']\n",
        "sample.to_csv('LSTM_node2vec.csv', header=True, index=False)"
      ],
      "execution_count": null,
      "outputs": []
    }
  ]
}