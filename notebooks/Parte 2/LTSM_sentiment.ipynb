{
  "nbformat": 4,
  "nbformat_minor": 0,
  "metadata": {
    "colab": {
      "name": "LTSM_sentiment.ipynb",
      "provenance": [],
      "collapsed_sections": [
        "4Ft0e7Njyw-k",
        "cXnVZyDcykBC"
      ],
      "toc_visible": true
    },
    "kernelspec": {
      "name": "python3",
      "display_name": "Python 3"
    },
    "accelerator": "GPU"
  },
  "cells": [
    {
      "cell_type": "markdown",
      "metadata": {
        "id": "yCSB32Twf9zB",
        "colab_type": "text"
      },
      "source": [
        "Referencia:\n",
        "https://www.kaggle.com/paoloripamonti/twitter-sentiment-analysis"
      ]
    },
    {
      "cell_type": "code",
      "metadata": {
        "id": "DMcIQH60pMu7",
        "colab_type": "code",
        "colab": {
          "base_uri": "https://localhost:8080/",
          "height": 153
        },
        "outputId": "bfe00107-2363-4735-a4f9-a73102820871"
      },
      "source": [
        "!git clone https://github.com/godinezseba/Tarea-2-RedesNeuronales"
      ],
      "execution_count": null,
      "outputs": [
        {
          "output_type": "stream",
          "text": [
            "Cloning into 'Tarea-2-RedesNeuronales'...\n",
            "remote: Enumerating objects: 2152, done.\u001b[K\n",
            "remote: Counting objects: 100% (2152/2152), done.\u001b[K\n",
            "remote: Compressing objects: 100% (2152/2152), done.\u001b[K\n",
            "remote: Total 35840 (delta 1), reused 2148 (delta 0), pack-reused 33688\u001b[K\n",
            "Receiving objects: 100% (35840/35840), 797.68 MiB | 35.75 MiB/s, done.\n",
            "Resolving deltas: 100% (325/325), done.\n",
            "Checking out files: 100% (36724/36724), done.\n"
          ],
          "name": "stdout"
        }
      ]
    },
    {
      "cell_type": "code",
      "metadata": {
        "id": "niZOAka31y3Z",
        "colab_type": "code",
        "colab": {
          "base_uri": "https://localhost:8080/",
          "height": 34
        },
        "outputId": "43cfdd72-e942-4781-ebc3-7939d792ac00"
      },
      "source": [
        "import numpy as np # linear algebra\n",
        "import pandas as pd # data processing, CSV file I/O (e.g. pd.read_csv)\n",
        "\n",
        "\n",
        "from sklearn.feature_extraction.text import CountVectorizer\n",
        "from keras.preprocessing.text import Tokenizer\n",
        "from keras.preprocessing.sequence import pad_sequences\n",
        "from keras.models import Sequential\n",
        "from keras.layers import Dense, Embedding, LSTM, SpatialDropout1D, Conv1D, Flatten, Dropout\n",
        "from sklearn.model_selection import train_test_split\n",
        "from keras.utils.np_utils import to_categorical\n",
        "from sklearn.preprocessing import LabelEncoder\n",
        "from tensorflow.keras.callbacks import EarlyStopping\n",
        "from keras.initializers import Constant\n",
        "from sklearn.metrics import  classification_report\n",
        "import re"
      ],
      "execution_count": null,
      "outputs": [
        {
          "output_type": "stream",
          "text": [
            "Using TensorFlow backend.\n"
          ],
          "name": "stderr"
        }
      ]
    },
    {
      "cell_type": "markdown",
      "metadata": {
        "id": "4Ft0e7Njyw-k",
        "colab_type": "text"
      },
      "source": [
        "#Cargar datos"
      ]
    },
    {
      "cell_type": "code",
      "metadata": {
        "id": "aT3A7igMsyAq",
        "colab_type": "code",
        "colab": {}
      },
      "source": [
        "data = pd.read_csv('./Tarea-2-RedesNeuronales/datasets/Parte 2/train_source_tweets.txt', sep='\\t', names = ['ID','Tweet'] )"
      ],
      "execution_count": null,
      "outputs": []
    },
    {
      "cell_type": "code",
      "metadata": {
        "id": "yFX8xuFrAmmm",
        "colab_type": "code",
        "colab": {
          "base_uri": "https://localhost:8080/",
          "height": 204
        },
        "outputId": "524dc660-b6b1-42d7-b353-a83dcd161f27"
      },
      "source": [
        "data.head()"
      ],
      "execution_count": null,
      "outputs": [
        {
          "output_type": "execute_result",
          "data": {
            "text/html": [
              "<div>\n",
              "<style scoped>\n",
              "    .dataframe tbody tr th:only-of-type {\n",
              "        vertical-align: middle;\n",
              "    }\n",
              "\n",
              "    .dataframe tbody tr th {\n",
              "        vertical-align: top;\n",
              "    }\n",
              "\n",
              "    .dataframe thead th {\n",
              "        text-align: right;\n",
              "    }\n",
              "</style>\n",
              "<table border=\"1\" class=\"dataframe\">\n",
              "  <thead>\n",
              "    <tr style=\"text-align: right;\">\n",
              "      <th></th>\n",
              "      <th>ID</th>\n",
              "      <th>Tweet</th>\n",
              "    </tr>\n",
              "  </thead>\n",
              "  <tbody>\n",
              "    <tr>\n",
              "      <th>0</th>\n",
              "      <td>692735698349199360</td>\n",
              "      <td>north korea 'planning some kind of rocket laun...</td>\n",
              "    </tr>\n",
              "    <tr>\n",
              "      <th>1</th>\n",
              "      <td>525008463819464704</td>\n",
              "      <td>meet kevin vickers, the hero who shot down the...</td>\n",
              "    </tr>\n",
              "    <tr>\n",
              "      <th>2</th>\n",
              "      <td>505611045897924608</td>\n",
              "      <td>15 year old who \"swatted\" gamer convicted of d...</td>\n",
              "    </tr>\n",
              "    <tr>\n",
              "      <th>3</th>\n",
              "      <td>693466724822323200</td>\n",
              "      <td>audio recordings reveal cpr started 11 minutes...</td>\n",
              "    </tr>\n",
              "    <tr>\n",
              "      <th>4</th>\n",
              "      <td>510922415468449792</td>\n",
              "      <td>awful mt @scclemons:uk aid worker david haines...</td>\n",
              "    </tr>\n",
              "  </tbody>\n",
              "</table>\n",
              "</div>"
            ],
            "text/plain": [
              "                   ID                                              Tweet\n",
              "0  692735698349199360  north korea 'planning some kind of rocket laun...\n",
              "1  525008463819464704  meet kevin vickers, the hero who shot down the...\n",
              "2  505611045897924608  15 year old who \"swatted\" gamer convicted of d...\n",
              "3  693466724822323200  audio recordings reveal cpr started 11 minutes...\n",
              "4  510922415468449792  awful mt @scclemons:uk aid worker david haines..."
            ]
          },
          "metadata": {
            "tags": []
          },
          "execution_count": 5
        }
      ]
    },
    {
      "cell_type": "code",
      "metadata": {
        "id": "u33m5nJztsy5",
        "colab_type": "code",
        "colab": {}
      },
      "source": [
        "labels = pd.read_csv('./Tarea-2-RedesNeuronales/datasets/Parte 2/train_labels.csv' )"
      ],
      "execution_count": null,
      "outputs": []
    },
    {
      "cell_type": "code",
      "metadata": {
        "id": "sGsR6kdlF27e",
        "colab_type": "code",
        "colab": {
          "base_uri": "https://localhost:8080/",
          "height": 102
        },
        "outputId": "b7af4d1e-5f93-4a6d-85e0-4f04ad0721f0"
      },
      "source": [
        "print(labels['label'].value_counts())"
      ],
      "execution_count": null,
      "outputs": [
        {
          "output_type": "stream",
          "text": [
            "non-rumor     524\n",
            "false         520\n",
            "true          514\n",
            "unverified    368\n",
            "Name: label, dtype: int64\n"
          ],
          "name": "stdout"
        }
      ]
    },
    {
      "cell_type": "code",
      "metadata": {
        "id": "PFO7nSjABRLz",
        "colab_type": "code",
        "colab": {
          "base_uri": "https://localhost:8080/",
          "height": 204
        },
        "outputId": "26af04ec-038e-44bf-9edb-1c9f7d5e3dbf"
      },
      "source": [
        "labels.head()"
      ],
      "execution_count": null,
      "outputs": [
        {
          "output_type": "execute_result",
          "data": {
            "text/html": [
              "<div>\n",
              "<style scoped>\n",
              "    .dataframe tbody tr th:only-of-type {\n",
              "        vertical-align: middle;\n",
              "    }\n",
              "\n",
              "    .dataframe tbody tr th {\n",
              "        vertical-align: top;\n",
              "    }\n",
              "\n",
              "    .dataframe thead th {\n",
              "        text-align: right;\n",
              "    }\n",
              "</style>\n",
              "<table border=\"1\" class=\"dataframe\">\n",
              "  <thead>\n",
              "    <tr style=\"text-align: right;\">\n",
              "      <th></th>\n",
              "      <th>label</th>\n",
              "      <th>id</th>\n",
              "    </tr>\n",
              "  </thead>\n",
              "  <tbody>\n",
              "    <tr>\n",
              "      <th>0</th>\n",
              "      <td>non-rumor</td>\n",
              "      <td>692735698349199360</td>\n",
              "    </tr>\n",
              "    <tr>\n",
              "      <th>1</th>\n",
              "      <td>unverified</td>\n",
              "      <td>525008463819464704</td>\n",
              "    </tr>\n",
              "    <tr>\n",
              "      <th>2</th>\n",
              "      <td>false</td>\n",
              "      <td>505611045897924608</td>\n",
              "    </tr>\n",
              "    <tr>\n",
              "      <th>3</th>\n",
              "      <td>non-rumor</td>\n",
              "      <td>693466724822323200</td>\n",
              "    </tr>\n",
              "    <tr>\n",
              "      <th>4</th>\n",
              "      <td>true</td>\n",
              "      <td>510922415468449792</td>\n",
              "    </tr>\n",
              "  </tbody>\n",
              "</table>\n",
              "</div>"
            ],
            "text/plain": [
              "        label                  id\n",
              "0   non-rumor  692735698349199360\n",
              "1  unverified  525008463819464704\n",
              "2       false  505611045897924608\n",
              "3   non-rumor  693466724822323200\n",
              "4        true  510922415468449792"
            ]
          },
          "metadata": {
            "tags": []
          },
          "execution_count": 8
        }
      ]
    },
    {
      "cell_type": "markdown",
      "metadata": {
        "id": "Cn1m69A1okhE",
        "colab_type": "text"
      },
      "source": [
        "#LSTM Best"
      ]
    },
    {
      "cell_type": "code",
      "metadata": {
        "id": "kFyv9Rdp-b7K",
        "colab_type": "code",
        "colab": {}
      },
      "source": [
        "data['Tweet'] = data['Tweet'].apply(lambda x: x.lower())\n",
        "data['Tweet'] = data['Tweet'].apply((lambda x: re.sub('[^a-zA-z0-9\\s]','',x)))"
      ],
      "execution_count": null,
      "outputs": []
    },
    {
      "cell_type": "code",
      "metadata": {
        "id": "Ll8lJzRMSKwt",
        "colab_type": "code",
        "colab": {}
      },
      "source": [
        "tweet = data['Tweet'].values\n",
        "tokenizer = Tokenizer(num_words=5000)\n",
        "tokenizer.fit_on_texts(tweet)\n",
        "vocab_size = len(tokenizer.word_index) + 1\n",
        "encoded_docs = tokenizer.texts_to_sequences(tweet)\n",
        "X = pad_sequences(encoded_docs, maxlen=200)"
      ],
      "execution_count": null,
      "outputs": []
    },
    {
      "cell_type": "code",
      "metadata": {
        "id": "OiOYldS2TV8K",
        "colab_type": "code",
        "colab": {}
      },
      "source": [
        "embedding_vector_length = 32\n",
        "model = Sequential()\n",
        "model.add(Embedding(vocab_size, embedding_vector_length,     \n",
        "                                     input_length=200) )\n",
        "model.add(LSTM(50, dropout=0.5, recurrent_dropout=0.5))\n",
        "model.add(Dense(4, activation='softmax'))\n",
        "model.compile(loss='binary_crossentropy',optimizer='adam', \n",
        "                           metrics=['accuracy'])\n"
      ],
      "execution_count": null,
      "outputs": []
    },
    {
      "cell_type": "code",
      "metadata": {
        "colab_type": "code",
        "id": "qk7hCTq_onoO",
        "colab": {
          "base_uri": "https://localhost:8080/",
          "height": 51
        },
        "outputId": "0f0395f7-3cf4-45ab-e891-abd43f263339"
      },
      "source": [
        "Y = pd.get_dummies(labels['label']).values\n",
        "X_train, X_test, Y_train, Y_test = train_test_split(X,Y, test_size = 0.33, random_state = 42)\n",
        "print(X_train.shape,Y_train.shape)\n",
        "print(X_test.shape,Y_test.shape)"
      ],
      "execution_count": null,
      "outputs": [
        {
          "output_type": "stream",
          "text": [
            "(1290, 200) (1290, 4)\n",
            "(636, 200) (636, 4)\n"
          ],
          "name": "stdout"
        }
      ]
    },
    {
      "cell_type": "code",
      "metadata": {
        "colab_type": "code",
        "id": "g7cs_jLronoS",
        "colab": {}
      },
      "source": [
        "es = EarlyStopping(\n",
        "    monitor=\"val_loss\", min_delta=0, patience=2, restore_best_weights=True\n",
        ")"
      ],
      "execution_count": null,
      "outputs": []
    },
    {
      "cell_type": "code",
      "metadata": {
        "colab_type": "code",
        "id": "OAjrgyQUonoV",
        "colab": {
          "base_uri": "https://localhost:8080/",
          "height": 479
        },
        "outputId": "c213e096-5cef-42e5-e997-b923b0207812"
      },
      "source": [
        "batch_size = 32\n",
        "model.fit(X_train, Y_train, epochs = 200, batch_size=batch_size, verbose = 2, validation_data=(X_test,Y_test),callbacks=[es])"
      ],
      "execution_count": null,
      "outputs": [
        {
          "output_type": "stream",
          "text": [
            "/usr/local/lib/python3.6/dist-packages/tensorflow/python/framework/indexed_slices.py:434: UserWarning: Converting sparse IndexedSlices to a dense Tensor of unknown shape. This may consume a large amount of memory.\n",
            "  \"Converting sparse IndexedSlices to a dense Tensor of unknown shape. \"\n"
          ],
          "name": "stderr"
        },
        {
          "output_type": "stream",
          "text": [
            "Train on 1290 samples, validate on 636 samples\n",
            "Epoch 1/200\n",
            " - 17s - loss: 0.5594 - accuracy: 0.7500 - val_loss: 0.5598 - val_accuracy: 0.7500\n",
            "Epoch 2/200\n",
            " - 16s - loss: 0.5528 - accuracy: 0.7500 - val_loss: 0.5545 - val_accuracy: 0.7500\n",
            "Epoch 3/200\n",
            " - 16s - loss: 0.5337 - accuracy: 0.7502 - val_loss: 0.5236 - val_accuracy: 0.7551\n",
            "Epoch 4/200\n",
            " - 16s - loss: 0.4597 - accuracy: 0.7814 - val_loss: 0.4396 - val_accuracy: 0.7940\n",
            "Epoch 5/200\n",
            " - 16s - loss: 0.3788 - accuracy: 0.8221 - val_loss: 0.3964 - val_accuracy: 0.8125\n",
            "Epoch 6/200\n",
            " - 16s - loss: 0.2935 - accuracy: 0.8826 - val_loss: 0.3467 - val_accuracy: 0.8502\n",
            "Epoch 7/200\n",
            " - 16s - loss: 0.2168 - accuracy: 0.9217 - val_loss: 0.3029 - val_accuracy: 0.8715\n",
            "Epoch 8/200\n",
            " - 16s - loss: 0.1539 - accuracy: 0.9504 - val_loss: 0.2695 - val_accuracy: 0.8833\n",
            "Epoch 9/200\n",
            " - 16s - loss: 0.1190 - accuracy: 0.9628 - val_loss: 0.2596 - val_accuracy: 0.8935\n",
            "Epoch 10/200\n",
            " - 16s - loss: 0.0888 - accuracy: 0.9752 - val_loss: 0.2685 - val_accuracy: 0.8911\n",
            "Epoch 11/200\n",
            " - 16s - loss: 0.0657 - accuracy: 0.9829 - val_loss: 0.2673 - val_accuracy: 0.8931\n"
          ],
          "name": "stdout"
        },
        {
          "output_type": "execute_result",
          "data": {
            "text/plain": [
              "<keras.callbacks.callbacks.History at 0x7f91d1359a90>"
            ]
          },
          "metadata": {
            "tags": []
          },
          "execution_count": 15
        }
      ]
    },
    {
      "cell_type": "code",
      "metadata": {
        "id": "WtMoKaUljMAd",
        "colab_type": "code",
        "colab": {
          "base_uri": "https://localhost:8080/",
          "height": 422
        },
        "outputId": "2266e528-f0b7-4745-cabf-6a7d95f08236"
      },
      "source": [
        "from keras.utils import plot_model\n",
        "plot_model(model, show_shapes=True)"
      ],
      "execution_count": null,
      "outputs": [
        {
          "output_type": "execute_result",
          "data": {
            "image/png": "[encoded data removed]",
            "text/plain": [
              "<IPython.core.display.Image object>"
            ]
          },
          "metadata": {
            "tags": []
          },
          "execution_count": 16
        }
      ]
    },
    {
      "cell_type": "markdown",
      "metadata": {
        "id": "cXnVZyDcykBC",
        "colab_type": "text"
      },
      "source": [
        "#Kaggle"
      ]
    },
    {
      "cell_type": "code",
      "metadata": {
        "id": "UtDU-Hw6Q1h4",
        "colab_type": "code",
        "colab": {}
      },
      "source": [
        "le = LabelEncoder()\n",
        "\n",
        "qwer = le.fit_transform(labels['label'])"
      ],
      "execution_count": null,
      "outputs": []
    },
    {
      "cell_type": "code",
      "metadata": {
        "id": "Vyp_qKCS5RLf",
        "colab_type": "code",
        "colab": {}
      },
      "source": [
        "test = pd.read_csv('./Tarea-2-RedesNeuronales/datasets/Parte 2/test_source_tweets.txt', sep='\\t', names = ['ID','Tweet'] )"
      ],
      "execution_count": null,
      "outputs": []
    },
    {
      "cell_type": "code",
      "metadata": {
        "colab_type": "code",
        "id": "hlnptdxCKiny",
        "colab": {}
      },
      "source": [
        "test['Tweet'] = test['Tweet'].apply(lambda x: x.lower())\n",
        "test['Tweet'] = test['Tweet'].apply((lambda x: re.sub('[^a-zA-z0-9\\s]','',x)))"
      ],
      "execution_count": null,
      "outputs": []
    },
    {
      "cell_type": "code",
      "metadata": {
        "colab_type": "code",
        "id": "5F966DsNKin7",
        "colab": {}
      },
      "source": [
        "X = tokenizer.texts_to_sequences(test['Tweet'].values)\n",
        "X = pad_sequences(X, maxlen=28)"
      ],
      "execution_count": null,
      "outputs": []
    },
    {
      "cell_type": "code",
      "metadata": {
        "id": "6YlzF7d_W-AP",
        "colab_type": "code",
        "colab": {}
      },
      "source": [
        "tweet = test['Tweet'].values\n",
        "encoded_docs = tokenizer.texts_to_sequences(tweet)\n",
        "X = pad_sequences(encoded_docs, maxlen=200)"
      ],
      "execution_count": null,
      "outputs": []
    },
    {
      "cell_type": "code",
      "metadata": {
        "id": "JTuPv6wbWUbB",
        "colab_type": "code",
        "colab": {
          "base_uri": "https://localhost:8080/",
          "height": 204
        },
        "outputId": "f5fc7d62-07ec-4094-9eab-b598d300db27"
      },
      "source": [
        "test.head()"
      ],
      "execution_count": null,
      "outputs": [
        {
          "output_type": "execute_result",
          "data": {
            "text/html": [
              "<div>\n",
              "<style scoped>\n",
              "    .dataframe tbody tr th:only-of-type {\n",
              "        vertical-align: middle;\n",
              "    }\n",
              "\n",
              "    .dataframe tbody tr th {\n",
              "        vertical-align: top;\n",
              "    }\n",
              "\n",
              "    .dataframe thead th {\n",
              "        text-align: right;\n",
              "    }\n",
              "</style>\n",
              "<table border=\"1\" class=\"dataframe\">\n",
              "  <thead>\n",
              "    <tr style=\"text-align: right;\">\n",
              "      <th></th>\n",
              "      <th>ID</th>\n",
              "      <th>Tweet</th>\n",
              "    </tr>\n",
              "  </thead>\n",
              "  <tbody>\n",
              "    <tr>\n",
              "      <th>0</th>\n",
              "      <td>689719109785907200</td>\n",
              "      <td>death toll from bachakhanuniattack rises to at...</td>\n",
              "    </tr>\n",
              "    <tr>\n",
              "      <th>1</th>\n",
              "      <td>531300385248800768</td>\n",
              "      <td>the head of isis abu bakr albaghdadi is said t...</td>\n",
              "    </tr>\n",
              "    <tr>\n",
              "      <th>2</th>\n",
              "      <td>652992524504600576</td>\n",
              "      <td>steve jobs was adopted his biological father w...</td>\n",
              "    </tr>\n",
              "    <tr>\n",
              "      <th>3</th>\n",
              "      <td>509473920060104704</td>\n",
              "      <td>microsoft to buy mojang  report url 2 billion ...</td>\n",
              "    </tr>\n",
              "    <tr>\n",
              "      <th>4</th>\n",
              "      <td>651321040119963648</td>\n",
              "      <td>el chapo puts 100 million bounty on donald tru...</td>\n",
              "    </tr>\n",
              "  </tbody>\n",
              "</table>\n",
              "</div>"
            ],
            "text/plain": [
              "                   ID                                              Tweet\n",
              "0  689719109785907200  death toll from bachakhanuniattack rises to at...\n",
              "1  531300385248800768  the head of isis abu bakr albaghdadi is said t...\n",
              "2  652992524504600576  steve jobs was adopted his biological father w...\n",
              "3  509473920060104704  microsoft to buy mojang  report url 2 billion ...\n",
              "4  651321040119963648  el chapo puts 100 million bounty on donald tru..."
            ]
          },
          "metadata": {
            "tags": []
          },
          "execution_count": 40
        }
      ]
    },
    {
      "cell_type": "code",
      "metadata": {
        "id": "sg7yUYipLZLL",
        "colab_type": "code",
        "colab": {
          "base_uri": "https://localhost:8080/",
          "height": 34
        },
        "outputId": "736739ee-6929-4b2e-a011-b3c17edf6eec"
      },
      "source": [
        "print(X.shape)"
      ],
      "execution_count": null,
      "outputs": [
        {
          "output_type": "stream",
          "text": [
            "(213, 200)\n"
          ],
          "name": "stdout"
        }
      ]
    },
    {
      "cell_type": "code",
      "metadata": {
        "id": "vfxMoot0J2Vr",
        "colab_type": "code",
        "colab": {}
      },
      "source": [
        "asd = model.predict_classes(X)"
      ],
      "execution_count": null,
      "outputs": []
    },
    {
      "cell_type": "code",
      "metadata": {
        "id": "oJbEa3rfRaaL",
        "colab_type": "code",
        "colab": {}
      },
      "source": [
        "pred = le.inverse_transform(asd)"
      ],
      "execution_count": null,
      "outputs": []
    },
    {
      "cell_type": "code",
      "metadata": {
        "id": "HHMp_txqHDwk",
        "colab_type": "code",
        "colab": {}
      },
      "source": [
        "sample = pd.read_csv('./Tarea-2-RedesNeuronales/datasets/Parte 2/sample_submission.csv')\n",
        "\n",
        "sample['label'] = pred\n",
        "sample['id'] = test['ID']\n",
        "sample.to_csv('LTSM_sentiment.csv', header=True, index=False)"
      ],
      "execution_count": null,
      "outputs": []
    }
  ]
}