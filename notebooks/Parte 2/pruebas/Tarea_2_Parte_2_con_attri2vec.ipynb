{
  "nbformat": 4,
  "nbformat_minor": 0,
  "metadata": {
    "colab": {
      "name": "Tarea 2 - Parte 2 con attri2vec.ipynb",
      "provenance": [],
      "collapsed_sections": [],
      "include_colab_link": true
    },
    "kernelspec": {
      "name": "python3",
      "display_name": "Python 3"
    }
  },
  "cells": [
    {
      "cell_type": "markdown",
      "metadata": {
        "id": "view-in-github",
        "colab_type": "text"
      },
      "source": [
        "<a href=\"https://colab.research.google.com/github/godinezseba/Tarea-2-RedesNeuronales/blob/master/notebooks/Parte%202/pruebas/Tarea_2_Parte_2_con_attri2vec.ipynb\" target=\"_parent\"><img src=\"https://colab.research.google.com/assets/colab-badge.svg\" alt=\"Open In Colab\"/></a>"
      ]
    },
    {
      "cell_type": "markdown",
      "metadata": {
        "id": "pyh0HDDl964J",
        "colab_type": "text"
      },
      "source": [
        "# Tarea 2 - Parte 2"
      ]
    },
    {
      "cell_type": "code",
      "metadata": {
        "id": "zmVr0H98_3IB",
        "colab_type": "code",
        "colab": {
          "base_uri": "https://localhost:8080/",
          "height": 173
        },
        "outputId": "3aadca1b-f5bc-41c0-b5c7-ed577ada1f8f"
      },
      "source": [
        "%pip install scanf==1.5.2\n",
        "%pip install -q stellargraph[demos]==1.2.1"
      ],
      "execution_count": null,
      "outputs": [
        {
          "output_type": "stream",
          "text": [
            "Collecting scanf==1.5.2\n",
            "  Downloading https://files.pythonhosted.org/packages/4f/88/e9033395e10da921c7fd6a2062f3289674f80dbbf7747214ac4beee498cd/scanf-1.5.2-py3-none-any.whl\n",
            "Installing collected packages: scanf\n",
            "Successfully installed scanf-1.5.2\n",
            "\u001b[K     |████████████████████████████████| 440kB 2.8MB/s \n",
            "\u001b[K     |████████████████████████████████| 235kB 12.6MB/s \n",
            "\u001b[K     |████████████████████████████████| 51kB 5.0MB/s \n",
            "\u001b[?25h  Building wheel for mplleaflet (setup.py) ... \u001b[?25l\u001b[?25hdone\n"
          ],
          "name": "stdout"
        }
      ]
    },
    {
      "cell_type": "code",
      "metadata": {
        "id": "ie5HwAtXXzEp",
        "colab_type": "code",
        "colab": {
          "base_uri": "https://localhost:8080/",
          "height": 122
        },
        "outputId": "0db225bc-c9b4-446e-a79a-c54eb55c2fc0"
      },
      "source": [
        "from google.colab import drive\n",
        "drive.mount('/content/drive')"
      ],
      "execution_count": null,
      "outputs": [
        {
          "output_type": "stream",
          "text": [
            "Go to this URL in a browser: https://accounts.google.com/o/oauth2/auth?client_id=947318989803-6bn6qk8qdgf4n4g3pfee6491hc0brc4i.apps.googleusercontent.com&redirect_uri=urn%3aietf%3awg%3aoauth%3a2.0%3aoob&response_type=code&scope=email%20https%3a%2f%2fwww.googleapis.com%2fauth%2fdocs.test%20https%3a%2f%2fwww.googleapis.com%2fauth%2fdrive%20https%3a%2f%2fwww.googleapis.com%2fauth%2fdrive.photos.readonly%20https%3a%2f%2fwww.googleapis.com%2fauth%2fpeopleapi.readonly\n",
            "\n",
            "Enter your authorization code:\n",
            "··········\n",
            "Mounted at /content/drive\n"
          ],
          "name": "stdout"
        }
      ]
    },
    {
      "cell_type": "code",
      "metadata": {
        "id": "eJ9Cs8r8GVlH",
        "colab_type": "code",
        "colab": {}
      },
      "source": [
        "import pandas as pd\n",
        "import numpy as np\n",
        "\n",
        "from gensim.models import Word2Vec\n",
        "import networkx as nx\n",
        "import stellargraph as sg\n",
        "\n",
        "import stellargraph as sg\n",
        "from stellargraph.data import UnsupervisedSampler\n",
        "from stellargraph.mapper import Attri2VecLinkGenerator, Attri2VecNodeGenerator\n",
        "from stellargraph.layer import Attri2Vec, link_classification\n",
        "from stellargraph import StellarGraph\n",
        "\n",
        "from sklearn.model_selection import train_test_split\n",
        "import tensorflow as tf\n",
        "from tensorflow import keras\n",
        "from tensorflow.keras import Model\n",
        "from tensorflow.keras.optimizers import Adam\n",
        "from tensorflow.keras.models import Sequential\n",
        "from tensorflow.keras.layers import Dense, Conv1D, MaxPool1D, Dropout, Flatten, Input, Embedding, Flatten\n",
        "from tensorflow.keras.losses import categorical_crossentropy\n",
        "from tensorflow.keras.callbacks import EarlyStopping\n",
        "from tensorflow.keras.utils import plot_model\n",
        "\n",
        "import os.path\n",
        "from scanf import scanf\n",
        "\n",
        "import matplotlib.pyplot as plt\n",
        "%matplotlib inline"
      ],
      "execution_count": null,
      "outputs": []
    },
    {
      "cell_type": "code",
      "metadata": {
        "id": "BqGFH6OM6MSa",
        "colab_type": "code",
        "colab": {
          "base_uri": "https://localhost:8080/",
          "height": 153
        },
        "outputId": "9d963a01-0107-4f3e-886e-519e6ce2884c"
      },
      "source": [
        "!git clone https://github.com/godinezseba/Tarea-2-RedesNeuronales"
      ],
      "execution_count": null,
      "outputs": [
        {
          "output_type": "stream",
          "text": [
            "Cloning into 'Tarea-2-RedesNeuronales'...\n",
            "remote: Enumerating objects: 2152, done.\u001b[K\n",
            "remote: Counting objects: 100% (2152/2152), done.\u001b[K\n",
            "remote: Compressing objects: 100% (2152/2152), done.\u001b[K\n",
            "remote: Total 35840 (delta 1), reused 2148 (delta 0), pack-reused 33688\u001b[K\n",
            "Receiving objects: 100% (35840/35840), 797.68 MiB | 33.14 MiB/s, done.\n",
            "Resolving deltas: 100% (325/325), done.\n",
            "Checking out files: 100% (36724/36724), done.\n"
          ],
          "name": "stdout"
        }
      ]
    },
    {
      "cell_type": "markdown",
      "metadata": {
        "id": "BMxWJGLY6WZs",
        "colab_type": "text"
      },
      "source": [
        "## Pre-procesamiento de Grafo:\n",
        "Dado que no encontramos la libreria utilizada para cargar los grafos lo hacemos a mano aprovechando la libreria `StellarGraph`. En primer lugar se carga el archivo ``train.labels.csv`, con el se identifican los archivos que tenemos que leer.\n",
        "\n"
      ]
    },
    {
      "cell_type": "code",
      "metadata": {
        "id": "_kCdqJAg7HoX",
        "colab_type": "code",
        "colab": {
          "base_uri": "https://localhost:8080/",
          "height": 204
        },
        "outputId": "af977624-82c3-41cd-804b-3060fd1edcd5"
      },
      "source": [
        "labels = pd.read_csv('./Tarea-2-RedesNeuronales/datasets/Parte 2/train_labels.csv' )\n",
        "# labels = labels.loc[0:100]\n",
        "labels.head()"
      ],
      "execution_count": null,
      "outputs": [
        {
          "output_type": "execute_result",
          "data": {
            "text/html": [
              "<div>\n",
              "<style scoped>\n",
              "    .dataframe tbody tr th:only-of-type {\n",
              "        vertical-align: middle;\n",
              "    }\n",
              "\n",
              "    .dataframe tbody tr th {\n",
              "        vertical-align: top;\n",
              "    }\n",
              "\n",
              "    .dataframe thead th {\n",
              "        text-align: right;\n",
              "    }\n",
              "</style>\n",
              "<table border=\"1\" class=\"dataframe\">\n",
              "  <thead>\n",
              "    <tr style=\"text-align: right;\">\n",
              "      <th></th>\n",
              "      <th>label</th>\n",
              "      <th>id</th>\n",
              "    </tr>\n",
              "  </thead>\n",
              "  <tbody>\n",
              "    <tr>\n",
              "      <th>0</th>\n",
              "      <td>non-rumor</td>\n",
              "      <td>692735698349199360</td>\n",
              "    </tr>\n",
              "    <tr>\n",
              "      <th>1</th>\n",
              "      <td>unverified</td>\n",
              "      <td>525008463819464704</td>\n",
              "    </tr>\n",
              "    <tr>\n",
              "      <th>2</th>\n",
              "      <td>false</td>\n",
              "      <td>505611045897924608</td>\n",
              "    </tr>\n",
              "    <tr>\n",
              "      <th>3</th>\n",
              "      <td>non-rumor</td>\n",
              "      <td>693466724822323200</td>\n",
              "    </tr>\n",
              "    <tr>\n",
              "      <th>4</th>\n",
              "      <td>true</td>\n",
              "      <td>510922415468449792</td>\n",
              "    </tr>\n",
              "  </tbody>\n",
              "</table>\n",
              "</div>"
            ],
            "text/plain": [
              "        label                  id\n",
              "0   non-rumor  692735698349199360\n",
              "1  unverified  525008463819464704\n",
              "2       false  505611045897924608\n",
              "3   non-rumor  693466724822323200\n",
              "4        true  510922415468449792"
            ]
          },
          "metadata": {
            "tags": []
          },
          "execution_count": 5
        }
      ]
    },
    {
      "cell_type": "markdown",
      "metadata": {
        "id": "xDZtbZWQ60zp",
        "colab_type": "text"
      },
      "source": [
        "En esta sección se lee cada uno de los archivos y se genera un solo grafo, este grafo no contendra el nodo `ROOT` porque afecta en el recorrido de `RandomWalk`, el cual es implementado más adelante:"
      ]
    },
    {
      "cell_type": "code",
      "metadata": {
        "id": "hxd0tB-H9veC",
        "colab_type": "code",
        "colab": {}
      },
      "source": [
        "def createGraph(DIR, fileGraph, labels):\n",
        "  if(not os.path.exists(fileGraph)): # para ejecutar existiendo el archivo basta con quital el 'not'\n",
        "    format = \"['%s', '%s', '%f']->['%s', '%s', '%f']\"\n",
        "    # edges\n",
        "    source = list()\n",
        "    target = list()\n",
        "    # nodes\n",
        "    index = list()\n",
        "    time = list()\n",
        "\n",
        "    bigGraph = nx.Graph()\n",
        "\n",
        "    list_len_edges = list()\n",
        "\n",
        "    for file in labels:\n",
        "      fileName = f'{DIR}/{file}.txt'\n",
        "      count_edges = 0\n",
        "      with open(fileName, 'r') as f:\n",
        "        for line in f:\n",
        "          parentId, parentTweet, parentTime, childId, childTweet, childTime = scanf(format, line.strip())\n",
        "          if(parentId != 'ROOT'):\n",
        "            # add edge to the big Graph\n",
        "            bigGraph.add_edge(parentTweet, childTweet)\n",
        "            count_edges += 1\n",
        "            bigGraph.add_node(parentTweet, time=[parentTime])\n",
        "            bigGraph.add_node(childTweet, time=[childTime])\n",
        "      list_len_edges.append(count_edges)\n",
        "\n",
        "    nx.write_gpickle(bigGraph, fileGraph)\n",
        "  else:\n",
        "    list_len_edges = list()\n",
        "    bigGraph = nx.read_gpickle(fileGraph)\n",
        "  return bigGraph, list_len_edges"
      ],
      "execution_count": null,
      "outputs": []
    },
    {
      "cell_type": "code",
      "metadata": {
        "id": "UqlSac8NInxu",
        "colab_type": "code",
        "colab": {
          "base_uri": "https://localhost:8080/",
          "height": 306
        },
        "outputId": "ddce13b5-0670-443f-d1d4-b869b91c61e7"
      },
      "source": [
        "DIR = './Tarea-2-RedesNeuronales/datasets/Parte 2/train'\n",
        "fileGraph = './drive/My Drive/Colab Notebooks/Tarea 2 - Kaggle/graph.gpicke'\n",
        "\n",
        "# add new graph\n",
        "bigGraph, list_len_edges = createGraph(DIR, fileGraph, labels['id'])\n",
        "print(nx.info(bigGraph))\n",
        "graph = sg.StellarGraph.from_networkx(bigGraph, node_features=\"time\")\n",
        "print(graph.info())"
      ],
      "execution_count": null,
      "outputs": [
        {
          "output_type": "stream",
          "text": [
            "Name: \n",
            "Type: Graph\n",
            "Number of nodes: 67723\n",
            "Number of edges: 71020\n",
            "Average degree:   2.0974\n",
            "StellarGraph: Undirected multigraph\n",
            " Nodes: 67723, Edges: 71020\n",
            "\n",
            " Node types:\n",
            "  default: [67723]\n",
            "    Features: float32 vector, length 1\n",
            "    Edge types: default-default->default\n",
            "\n",
            " Edge types:\n",
            "    default-default->default: [71020]\n",
            "        Weights: all 1 (default)\n",
            "        Features: none\n"
          ],
          "name": "stdout"
        }
      ]
    },
    {
      "cell_type": "code",
      "metadata": {
        "id": "nGaLMVTXhr5-",
        "colab_type": "code",
        "colab": {
          "base_uri": "https://localhost:8080/",
          "height": 581
        },
        "outputId": "ad071282-724a-4482-94ae-9c30f9da535d"
      },
      "source": [
        "# no ejecutar\n",
        "plt.boxplot(list_len_edges)\n",
        "plt.show()\n",
        "plt.hist(list_len_edges, 50)\n",
        "plt.show()\n",
        "print(f'Minimo de replicaciones para un tweet: {np.min(list_len_edges)}')\n",
        "print(f'Maximo de replicaciones para un tweet: {np.max(list_len_edges)}')\n",
        "print(f'Media de replicaciones para un tweet: {np.median(list_len_edges)}')\n",
        "print(f'Promedio de replicaciones para un tweet: {np.mean(list_len_edges)}')"
      ],
      "execution_count": null,
      "outputs": [
        {
          "output_type": "display_data",
          "data": {
            "image/png": "[encoded data removed]",
            "text/plain": [
              "<Figure size 432x288 with 1 Axes>"
            ]
          },
          "metadata": {
            "tags": [],
            "needs_background": "light"
          }
        },
        {
          "output_type": "display_data",
          "data": {
            "image/png": "[encoded data removed]",
            "text/plain": [
              "<Figure size 432x288 with 1 Axes>"
            ]
          },
          "metadata": {
            "tags": [],
            "needs_background": "light"
          }
        },
        {
          "output_type": "stream",
          "text": [
            "Minimo de replicaciones para un tweet: 55\n",
            "Maximo de replicaciones para un tweet: 3144\n",
            "Media de replicaciones para un tweet: 281.0\n",
            "Promedio de replicaciones para un tweet: 433.09241952232605\n"
          ],
          "name": "stdout"
        }
      ]
    },
    {
      "cell_type": "code",
      "metadata": {
        "id": "fQtfqJsDtcvF",
        "colab_type": "code",
        "colab": {}
      },
      "source": [
        "# plt.figure(figsize=(20,10))\n",
        "# nx.draw(bigGraph)\n",
        "# plt.savefig(f'./drive/My Drive/Colab Notebooks/Tarea 2 - Kaggle/graph_representation.jpg')"
      ],
      "execution_count": null,
      "outputs": []
    },
    {
      "cell_type": "markdown",
      "metadata": {
        "id": "iJxcYWMm8A6Y",
        "colab_type": "text"
      },
      "source": [
        "![](https://raw.githubusercontent.com/godinezseba/Tarea-2-RedesNeuronales/master/graph_representation.jpg)\n",
        "\n",
        "Con esto tenemos un gran grafo de X nodos y Y vertices. Esta imagen representa una muestra del grafo para 101 archivos, en esta se aprecia la generación de subgrafos lo cual se debe a que los valores de los nodos son los id de los tweets, por lo que no tiene sentido que entre archivos se compartan nodos.\n",
        "\n",
        "Este grafo es utilizado para preprocesar el algoritmo Word2Vec, donde primero es necesario crear los caminios utilizando `RandomWalk`. Este algoritmo recibe como argumento los nodos a los que se les hace el camino, en nuestro caso seran todos los nodos base, que corresponde a los id de los tweets:"
      ]
    },
    {
      "cell_type": "code",
      "metadata": {
        "id": "tZm_fff5I6FG",
        "colab_type": "code",
        "colab": {}
      },
      "source": [
        "layer_sizes = [128]\n",
        "\n",
        "def graphEmbedding(graph, labels):\n",
        "\n",
        "  labels = [str(label) for label in labels]\n",
        "\n",
        "  number_of_walks = 1\n",
        "  length = 5\n",
        "  batch_size = 50\n",
        "  epochs = 30\n",
        "\n",
        "  unsupervised_samples = UnsupervisedSampler(\n",
        "      graph, nodes=labels, length=length, number_of_walks=number_of_walks\n",
        "  )\n",
        "\n",
        "  generator = Attri2VecLinkGenerator(graph, batch_size)\n",
        "\n",
        "  attri2vec = Attri2Vec(\n",
        "      layer_sizes=layer_sizes, generator=generator, bias=False, normalize=None\n",
        "  )\n",
        "\n",
        "  # Build the model and expose input and output sockets of attri2vec, for node pair inputs:\n",
        "  x_inp, x_out = attri2vec.in_out_tensors()\n",
        "\n",
        "  prediction = link_classification(\n",
        "      output_dim=1, output_act=\"sigmoid\", edge_embedding_method=\"ip\"\n",
        "  )(x_out)\n",
        "\n",
        "  model = keras.Model(inputs=x_inp, outputs=prediction)\n",
        "\n",
        "  model.compile(\n",
        "      optimizer=keras.optimizers.Adam(lr=1e-3),\n",
        "      loss=keras.losses.binary_crossentropy,\n",
        "      metrics=[keras.metrics.binary_accuracy],\n",
        "  )\n",
        "\n",
        "  history = model.fit(\n",
        "      generator.flow(unsupervised_samples),\n",
        "      epochs=epochs,\n",
        "      verbose=2,\n",
        "      use_multiprocessing=False,\n",
        "      workers=1,\n",
        "      shuffle=True,\n",
        "  )\n",
        "\n",
        "  x_inp_src = x_inp[0]\n",
        "  x_out_src = x_out[0]\n",
        "  embedding_model = keras.Model(inputs=x_inp_src, outputs=x_out_src)\n",
        "\n",
        "  node_gen = Attri2VecNodeGenerator(graph, batch_size).flow(labels)\n",
        "  node_embeddings = embedding_model.predict(node_gen, workers=1, verbose=1)\n",
        "\n",
        "  return node_embeddings"
      ],
      "execution_count": null,
      "outputs": []
    },
    {
      "cell_type": "code",
      "metadata": {
        "id": "rJbH3kRf4xWf",
        "colab_type": "code",
        "colab": {
          "base_uri": "https://localhost:8080/",
          "height": 1000
        },
        "outputId": "ed1db53a-ea2c-4379-cfae-fc6fc291114f"
      },
      "source": [
        "x_graph = graphEmbedding(graph, labels['id'])"
      ],
      "execution_count": null,
      "outputs": [
        {
          "output_type": "stream",
          "text": [
            "link_classification: using 'ip' method to combine node embeddings into edge embeddings\n",
            "Epoch 1/30\n",
            "309/309 - 23s - loss: 0.7015 - binary_accuracy: 0.5125\n",
            "Epoch 2/30\n",
            "309/309 - 23s - loss: 0.6716 - binary_accuracy: 0.5766\n",
            "Epoch 3/30\n",
            "309/309 - 23s - loss: 0.6655 - binary_accuracy: 0.5999\n",
            "Epoch 4/30\n",
            "309/309 - 23s - loss: 0.6689 - binary_accuracy: 0.6090\n",
            "Epoch 5/30\n",
            "309/309 - 23s - loss: 0.6748 - binary_accuracy: 0.6133\n",
            "Epoch 6/30\n",
            "309/309 - 23s - loss: 0.6747 - binary_accuracy: 0.6174\n",
            "Epoch 7/30\n",
            "309/309 - 23s - loss: 0.6709 - binary_accuracy: 0.6212\n",
            "Epoch 8/30\n",
            "309/309 - 23s - loss: 0.6663 - binary_accuracy: 0.6262\n",
            "Epoch 9/30\n",
            "309/309 - 23s - loss: 0.6686 - binary_accuracy: 0.6285\n",
            "Epoch 10/30\n",
            "309/309 - 23s - loss: 0.6721 - binary_accuracy: 0.6415\n",
            "Epoch 11/30\n",
            "309/309 - 23s - loss: 0.6825 - binary_accuracy: 0.6367\n",
            "Epoch 12/30\n",
            "309/309 - 23s - loss: 0.6885 - binary_accuracy: 0.6379\n",
            "Epoch 13/30\n",
            "309/309 - 23s - loss: 0.6786 - binary_accuracy: 0.6443\n",
            "Epoch 14/30\n",
            "309/309 - 23s - loss: 0.6829 - binary_accuracy: 0.6516\n",
            "Epoch 15/30\n",
            "309/309 - 23s - loss: 0.6751 - binary_accuracy: 0.6554\n",
            "Epoch 16/30\n",
            "309/309 - 23s - loss: 0.6818 - binary_accuracy: 0.6548\n",
            "Epoch 17/30\n",
            "309/309 - 23s - loss: 0.6760 - binary_accuracy: 0.6592\n",
            "Epoch 18/30\n",
            "309/309 - 23s - loss: 0.6799 - binary_accuracy: 0.6496\n",
            "Epoch 19/30\n",
            "309/309 - 23s - loss: 0.6761 - binary_accuracy: 0.6559\n",
            "Epoch 20/30\n",
            "309/309 - 23s - loss: 0.6681 - binary_accuracy: 0.6538\n",
            "Epoch 21/30\n",
            "309/309 - 23s - loss: 0.6655 - binary_accuracy: 0.6565\n",
            "Epoch 22/30\n",
            "309/309 - 24s - loss: 0.6533 - binary_accuracy: 0.6634\n",
            "Epoch 23/30\n",
            "309/309 - 23s - loss: 0.6618 - binary_accuracy: 0.6616\n",
            "Epoch 24/30\n",
            "309/309 - 23s - loss: 0.6658 - binary_accuracy: 0.6589\n",
            "Epoch 25/30\n",
            "309/309 - 23s - loss: 0.6489 - binary_accuracy: 0.6669\n",
            "Epoch 26/30\n",
            "309/309 - 23s - loss: 0.6507 - binary_accuracy: 0.6703\n",
            "Epoch 27/30\n",
            "309/309 - 23s - loss: 0.6586 - binary_accuracy: 0.6604\n",
            "Epoch 28/30\n",
            "309/309 - 23s - loss: 0.6455 - binary_accuracy: 0.6699\n",
            "Epoch 29/30\n",
            "309/309 - 23s - loss: 0.6468 - binary_accuracy: 0.6682\n",
            "Epoch 30/30\n",
            "309/309 - 23s - loss: 0.6397 - binary_accuracy: 0.6748\n",
            "39/39 [==============================] - 0s 1ms/step\n"
          ],
          "name": "stdout"
        }
      ]
    },
    {
      "cell_type": "markdown",
      "metadata": {
        "id": "8n95tRb27voG",
        "colab_type": "text"
      },
      "source": [
        "Con este tenemos una lista de embedings de X elementos, que corresponde a todos los nodos 'padre' de cada arbol generado por cada archivo. Luego de esto se procede a hacer _one hot encoder_ sobre los labels:"
      ]
    },
    {
      "cell_type": "code",
      "metadata": {
        "id": "6WehVpZxVupk",
        "colab_type": "code",
        "colab": {
          "base_uri": "https://localhost:8080/",
          "height": 204
        },
        "outputId": "122fe57f-b1cb-4a7b-eb94-03d5169abf94"
      },
      "source": [
        "y = labels.drop(['id'], axis=1)\n",
        "y = pd.get_dummies(y)\n",
        "y.head()"
      ],
      "execution_count": null,
      "outputs": [
        {
          "output_type": "execute_result",
          "data": {
            "text/html": [
              "<div>\n",
              "<style scoped>\n",
              "    .dataframe tbody tr th:only-of-type {\n",
              "        vertical-align: middle;\n",
              "    }\n",
              "\n",
              "    .dataframe tbody tr th {\n",
              "        vertical-align: top;\n",
              "    }\n",
              "\n",
              "    .dataframe thead th {\n",
              "        text-align: right;\n",
              "    }\n",
              "</style>\n",
              "<table border=\"1\" class=\"dataframe\">\n",
              "  <thead>\n",
              "    <tr style=\"text-align: right;\">\n",
              "      <th></th>\n",
              "      <th>label_false</th>\n",
              "      <th>label_non-rumor</th>\n",
              "      <th>label_true</th>\n",
              "      <th>label_unverified</th>\n",
              "    </tr>\n",
              "  </thead>\n",
              "  <tbody>\n",
              "    <tr>\n",
              "      <th>0</th>\n",
              "      <td>0</td>\n",
              "      <td>1</td>\n",
              "      <td>0</td>\n",
              "      <td>0</td>\n",
              "    </tr>\n",
              "    <tr>\n",
              "      <th>1</th>\n",
              "      <td>0</td>\n",
              "      <td>0</td>\n",
              "      <td>0</td>\n",
              "      <td>1</td>\n",
              "    </tr>\n",
              "    <tr>\n",
              "      <th>2</th>\n",
              "      <td>1</td>\n",
              "      <td>0</td>\n",
              "      <td>0</td>\n",
              "      <td>0</td>\n",
              "    </tr>\n",
              "    <tr>\n",
              "      <th>3</th>\n",
              "      <td>0</td>\n",
              "      <td>1</td>\n",
              "      <td>0</td>\n",
              "      <td>0</td>\n",
              "    </tr>\n",
              "    <tr>\n",
              "      <th>4</th>\n",
              "      <td>0</td>\n",
              "      <td>0</td>\n",
              "      <td>1</td>\n",
              "      <td>0</td>\n",
              "    </tr>\n",
              "  </tbody>\n",
              "</table>\n",
              "</div>"
            ],
            "text/plain": [
              "   label_false  label_non-rumor  label_true  label_unverified\n",
              "0            0                1           0                 0\n",
              "1            0                0           0                 1\n",
              "2            1                0           0                 0\n",
              "3            0                1           0                 0\n",
              "4            0                0           1                 0"
            ]
          },
          "metadata": {
            "tags": []
          },
          "execution_count": 35
        }
      ]
    },
    {
      "cell_type": "markdown",
      "metadata": {
        "id": "cCZvn31_9TZH",
        "colab_type": "text"
      },
      "source": [
        "Con todo esto se procede a separar en conjunto de entrenamiento y conjunto de validación con una proporción 7:3."
      ]
    },
    {
      "cell_type": "code",
      "metadata": {
        "id": "uuGokiIbi4bu",
        "colab_type": "code",
        "colab": {
          "base_uri": "https://localhost:8080/",
          "height": 51
        },
        "outputId": "7e88c1f4-98bf-462a-d353-97403bac426e"
      },
      "source": [
        "X_train, X_validation, Y_train, Y_validation = train_test_split(x_graph, y, test_size = 0.3, random_state = 42)\n",
        "\n",
        "print(f'Tamaño X train: {len(X_train)}')\n",
        "print(f'Tamaño X validation: {len(X_validation)}')"
      ],
      "execution_count": null,
      "outputs": [
        {
          "output_type": "stream",
          "text": [
            "Tamaño X train: 1348\n",
            "Tamaño X validation: 578\n"
          ],
          "name": "stdout"
        }
      ]
    },
    {
      "cell_type": "markdown",
      "metadata": {
        "id": "Zi2GFdDV9iMw",
        "colab_type": "text"
      },
      "source": [
        "## Modelo Grafo:"
      ]
    },
    {
      "cell_type": "code",
      "metadata": {
        "id": "xS5eIY59rc8J",
        "colab_type": "code",
        "colab": {
          "base_uri": "https://localhost:8080/",
          "height": 422
        },
        "outputId": "313dfab2-ad10-463a-942b-b1983c00cba7"
      },
      "source": [
        "inputs = Input(shape=layer_sizes)\n",
        "# x = Embedding(input_dim= len(graph.nodes()), output_dim=64)(inputs)\n",
        "x = Dense(64, activation=\"relu\")(inputs)\n",
        "# x = Flatten()(x)\n",
        "x = Dense(32, activation=\"relu\")(x)\n",
        "outputs = Dense(4, activation=\"softmax\")(x)\n",
        "\n",
        "model = Model(inputs=inputs, outputs=outputs, name=\"graph_model\")\n",
        "plot_model(model, show_shapes=True)"
      ],
      "execution_count": null,
      "outputs": [
        {
          "output_type": "execute_result",
          "data": {
            "image/png": "[encoded data removed]",
            "text/plain": [
              "<IPython.core.display.Image object>"
            ]
          },
          "metadata": {
            "tags": []
          },
          "execution_count": 37
        }
      ]
    },
    {
      "cell_type": "code",
      "metadata": {
        "id": "Z9ko7Uwuhhce",
        "colab_type": "code",
        "colab": {}
      },
      "source": [
        "model.compile(loss=categorical_crossentropy, optimizer='adam', metrics=['accuracy'])"
      ],
      "execution_count": null,
      "outputs": []
    },
    {
      "cell_type": "code",
      "metadata": {
        "id": "gJh5MhuDhJS7",
        "colab_type": "code",
        "colab": {
          "base_uri": "https://localhost:8080/",
          "height": 1000
        },
        "outputId": "72f02f3f-b69e-4943-d284-9a887cf5e1a8"
      },
      "source": [
        "es = EarlyStopping(\n",
        "    monitor=\"val_loss\", min_delta=0, patience=10, restore_best_weights=True\n",
        ")\n",
        "\n",
        "history = model.fit(X_train, \n",
        "                    Y_train,\n",
        "                    batch_size = 128,\n",
        "                    epochs = 50,\n",
        "                    validation_data = (X_validation, Y_validation),\n",
        "                    # callbacks=[es], \n",
        "                    verbose = 2)"
      ],
      "execution_count": null,
      "outputs": [
        {
          "output_type": "stream",
          "text": [
            "Epoch 1/50\n",
            "11/11 - 0s - loss: 1.3964 - accuracy: 0.2737 - val_loss: 1.3869 - val_accuracy: 0.2716\n",
            "Epoch 2/50\n",
            "11/11 - 0s - loss: 1.3791 - accuracy: 0.2685 - val_loss: 1.3866 - val_accuracy: 0.2855\n",
            "Epoch 3/50\n",
            "11/11 - 0s - loss: 1.3742 - accuracy: 0.2470 - val_loss: 1.3885 - val_accuracy: 0.2578\n",
            "Epoch 4/50\n",
            "11/11 - 0s - loss: 1.3719 - accuracy: 0.2693 - val_loss: 1.3841 - val_accuracy: 0.2907\n",
            "Epoch 5/50\n",
            "11/11 - 0s - loss: 1.3715 - accuracy: 0.2826 - val_loss: 1.3832 - val_accuracy: 0.2958\n",
            "Epoch 6/50\n",
            "11/11 - 0s - loss: 1.3727 - accuracy: 0.2656 - val_loss: 1.3865 - val_accuracy: 0.2457\n",
            "Epoch 7/50\n",
            "11/11 - 0s - loss: 1.3734 - accuracy: 0.2849 - val_loss: 1.3835 - val_accuracy: 0.2872\n",
            "Epoch 8/50\n",
            "11/11 - 0s - loss: 1.3712 - accuracy: 0.2745 - val_loss: 1.3891 - val_accuracy: 0.2958\n",
            "Epoch 9/50\n",
            "11/11 - 0s - loss: 1.3724 - accuracy: 0.2878 - val_loss: 1.3831 - val_accuracy: 0.2457\n",
            "Epoch 10/50\n",
            "11/11 - 0s - loss: 1.3720 - accuracy: 0.2774 - val_loss: 1.3842 - val_accuracy: 0.2924\n",
            "Epoch 11/50\n",
            "11/11 - 0s - loss: 1.3719 - accuracy: 0.2767 - val_loss: 1.3828 - val_accuracy: 0.2561\n",
            "Epoch 12/50\n",
            "11/11 - 0s - loss: 1.3741 - accuracy: 0.2582 - val_loss: 1.3842 - val_accuracy: 0.2924\n",
            "Epoch 13/50\n",
            "11/11 - 0s - loss: 1.3705 - accuracy: 0.2915 - val_loss: 1.3853 - val_accuracy: 0.2474\n",
            "Epoch 14/50\n",
            "11/11 - 0s - loss: 1.3722 - accuracy: 0.2826 - val_loss: 1.3840 - val_accuracy: 0.2474\n",
            "Epoch 15/50\n",
            "11/11 - 0s - loss: 1.3722 - accuracy: 0.2826 - val_loss: 1.3871 - val_accuracy: 0.2924\n",
            "Epoch 16/50\n",
            "11/11 - 0s - loss: 1.3712 - accuracy: 0.2893 - val_loss: 1.3809 - val_accuracy: 0.2993\n",
            "Epoch 17/50\n",
            "11/11 - 0s - loss: 1.3726 - accuracy: 0.2685 - val_loss: 1.3859 - val_accuracy: 0.2820\n",
            "Epoch 18/50\n",
            "11/11 - 0s - loss: 1.3715 - accuracy: 0.2730 - val_loss: 1.3840 - val_accuracy: 0.2976\n",
            "Epoch 19/50\n",
            "11/11 - 0s - loss: 1.3741 - accuracy: 0.2648 - val_loss: 1.3839 - val_accuracy: 0.2993\n",
            "Epoch 20/50\n",
            "11/11 - 0s - loss: 1.3699 - accuracy: 0.2841 - val_loss: 1.3836 - val_accuracy: 0.2578\n",
            "Epoch 21/50\n",
            "11/11 - 0s - loss: 1.3730 - accuracy: 0.2515 - val_loss: 1.3853 - val_accuracy: 0.2491\n",
            "Epoch 22/50\n",
            "11/11 - 0s - loss: 1.3718 - accuracy: 0.2878 - val_loss: 1.3811 - val_accuracy: 0.2993\n",
            "Epoch 23/50\n",
            "11/11 - 0s - loss: 1.3715 - accuracy: 0.2878 - val_loss: 1.3877 - val_accuracy: 0.2474\n",
            "Epoch 24/50\n",
            "11/11 - 0s - loss: 1.3720 - accuracy: 0.2678 - val_loss: 1.3829 - val_accuracy: 0.2993\n",
            "Epoch 25/50\n",
            "11/11 - 0s - loss: 1.3694 - accuracy: 0.2841 - val_loss: 1.3818 - val_accuracy: 0.2630\n",
            "Epoch 26/50\n",
            "11/11 - 0s - loss: 1.3704 - accuracy: 0.2700 - val_loss: 1.3829 - val_accuracy: 0.2491\n",
            "Epoch 27/50\n",
            "11/11 - 0s - loss: 1.3713 - accuracy: 0.2804 - val_loss: 1.3853 - val_accuracy: 0.3010\n",
            "Epoch 28/50\n",
            "11/11 - 0s - loss: 1.3693 - accuracy: 0.2856 - val_loss: 1.3813 - val_accuracy: 0.2474\n",
            "Epoch 29/50\n",
            "11/11 - 0s - loss: 1.3713 - accuracy: 0.2812 - val_loss: 1.3839 - val_accuracy: 0.3045\n",
            "Epoch 30/50\n",
            "11/11 - 0s - loss: 1.3706 - accuracy: 0.2953 - val_loss: 1.3837 - val_accuracy: 0.3045\n",
            "Epoch 31/50\n",
            "11/11 - 0s - loss: 1.3701 - accuracy: 0.2663 - val_loss: 1.3821 - val_accuracy: 0.2561\n",
            "Epoch 32/50\n",
            "11/11 - 0s - loss: 1.3711 - accuracy: 0.2826 - val_loss: 1.3827 - val_accuracy: 0.2595\n",
            "Epoch 33/50\n",
            "11/11 - 0s - loss: 1.3694 - accuracy: 0.2789 - val_loss: 1.3815 - val_accuracy: 0.2993\n",
            "Epoch 34/50\n",
            "11/11 - 0s - loss: 1.3697 - accuracy: 0.2915 - val_loss: 1.3805 - val_accuracy: 0.2543\n",
            "Epoch 35/50\n",
            "11/11 - 0s - loss: 1.3694 - accuracy: 0.2708 - val_loss: 1.3855 - val_accuracy: 0.3235\n",
            "Epoch 36/50\n",
            "11/11 - 0s - loss: 1.3708 - accuracy: 0.2841 - val_loss: 1.3822 - val_accuracy: 0.2543\n",
            "Epoch 37/50\n",
            "11/11 - 0s - loss: 1.3695 - accuracy: 0.2826 - val_loss: 1.3842 - val_accuracy: 0.3010\n",
            "Epoch 38/50\n",
            "11/11 - 0s - loss: 1.3696 - accuracy: 0.2923 - val_loss: 1.3819 - val_accuracy: 0.2561\n",
            "Epoch 39/50\n",
            "11/11 - 0s - loss: 1.3699 - accuracy: 0.2634 - val_loss: 1.3819 - val_accuracy: 0.3183\n",
            "Epoch 40/50\n",
            "11/11 - 0s - loss: 1.3709 - accuracy: 0.2797 - val_loss: 1.3799 - val_accuracy: 0.2578\n",
            "Epoch 41/50\n",
            "11/11 - 0s - loss: 1.3697 - accuracy: 0.2834 - val_loss: 1.3863 - val_accuracy: 0.2491\n",
            "Epoch 42/50\n",
            "11/11 - 0s - loss: 1.3697 - accuracy: 0.2886 - val_loss: 1.3797 - val_accuracy: 0.2561\n",
            "Epoch 43/50\n",
            "11/11 - 0s - loss: 1.3688 - accuracy: 0.2752 - val_loss: 1.3821 - val_accuracy: 0.2595\n",
            "Epoch 44/50\n",
            "11/11 - 0s - loss: 1.3678 - accuracy: 0.2826 - val_loss: 1.3806 - val_accuracy: 0.2612\n",
            "Epoch 45/50\n",
            "11/11 - 0s - loss: 1.3686 - accuracy: 0.2812 - val_loss: 1.3814 - val_accuracy: 0.3028\n",
            "Epoch 46/50\n",
            "11/11 - 0s - loss: 1.3691 - accuracy: 0.3019 - val_loss: 1.3837 - val_accuracy: 0.2630\n",
            "Epoch 47/50\n",
            "11/11 - 0s - loss: 1.3682 - accuracy: 0.2819 - val_loss: 1.3798 - val_accuracy: 0.3114\n",
            "Epoch 48/50\n",
            "11/11 - 0s - loss: 1.3698 - accuracy: 0.2930 - val_loss: 1.3805 - val_accuracy: 0.3062\n",
            "Epoch 49/50\n",
            "11/11 - 0s - loss: 1.3677 - accuracy: 0.2826 - val_loss: 1.3850 - val_accuracy: 0.2561\n",
            "Epoch 50/50\n",
            "11/11 - 0s - loss: 1.3678 - accuracy: 0.2930 - val_loss: 1.3795 - val_accuracy: 0.3045\n"
          ],
          "name": "stdout"
        }
      ]
    },
    {
      "cell_type": "code",
      "metadata": {
        "id": "TYlPuxPxj1KM",
        "colab_type": "code",
        "colab": {
          "base_uri": "https://localhost:8080/",
          "height": 585
        },
        "outputId": "901a8f69-bc21-442e-b69b-fe1bf944eaac"
      },
      "source": [
        "sg.utils.plot_history(history)"
      ],
      "execution_count": null,
      "outputs": [
        {
          "output_type": "display_data",
          "data": {
            "image/png": "[encoded data removed]",
            "text/plain": [
              "<Figure size 504x576 with 2 Axes>"
            ]
          },
          "metadata": {
            "tags": [],
            "needs_background": "light"
          }
        }
      ]
    },
    {
      "cell_type": "code",
      "metadata": {
        "id": "N58-VdW1j5Q8",
        "colab_type": "code",
        "colab": {
          "base_uri": "https://localhost:8080/",
          "height": 102
        },
        "outputId": "932c08cc-3924-4b89-ff77-6d1bdbcb9bb2"
      },
      "source": [
        "test_metrics = model.evaluate(X_validation, Y_validation)\n",
        "print(\"\\nTest Set Metrics:\")\n",
        "for name, val in zip(model.metrics_names, test_metrics):\n",
        "    print(\"\\t{}: {:0.4f}\".format(name, val))"
      ],
      "execution_count": null,
      "outputs": [
        {
          "output_type": "stream",
          "text": [
            "19/19 [==============================] - 0s 1ms/step - loss: 1.8704 - accuracy: 0.2612\n",
            "\n",
            "Test Set Metrics:\n",
            "\tloss: 1.8704\n",
            "\taccuracy: 0.2612\n"
          ],
          "name": "stdout"
        }
      ]
    }
  ]
}